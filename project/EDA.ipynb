{
 "cells": [
  {
   "cell_type": "code",
   "execution_count": 1,
   "metadata": {},
   "outputs": [],
   "source": [
    "import json\n",
    "import pandas as pd\n",
    "import numpy as np\n",
    "import matplotlib.pyplot as plt\n",
    "import seaborn as sns\n",
    "import codecs\n",
    "import requests\n",
    "import YelpApiKey\n",
    "\n",
    "%matplotlib inline"
   ]
  },
  {
   "cell_type": "markdown",
   "metadata": {},
   "source": [
    "# First, load the original Yelp business dataset\n",
    "The dataset is originally in json format. I will load the dataset that contains business details."
   ]
  },
  {
   "cell_type": "code",
   "execution_count": 2,
   "metadata": {},
   "outputs": [],
   "source": [
    "#The directory where the data is located\n",
    "#path = \"C:/Users/Andy Chan/desktop/INT15/project/data/yelp_dataset_1/\"\n",
    "#The filename of the data to be loaded\n",
    "#filename = \"business.json\"\n",
    "\n",
    "#Read the business information\n",
    "#business = []\n",
    "#with open(path+filename,encoding=\"utf-8\") as json_file:\n",
    " #   for i in json_file:\n",
    "  #      business.append(json.loads(i))"
   ]
  },
  {
   "cell_type": "markdown",
   "metadata": {},
   "source": [
    "See what features are in the dataset."
   ]
  },
  {
   "cell_type": "code",
   "execution_count": 3,
   "metadata": {},
   "outputs": [
    {
     "name": "stdout",
     "output_type": "stream",
     "text": [
      "dict_keys(['business_id', 'name', 'address', 'city', 'state', 'postal_code', 'latitude', 'longitude', 'stars', 'review_count', 'is_open', 'attributes', 'categories', 'hours'])\n"
     ]
    }
   ],
   "source": [
    "#buss_features = business[0].keys()\n",
    "#print(buss_features)"
   ]
  },
  {
   "cell_type": "markdown",
   "metadata": {},
   "source": [
    "I only want the restaurant data."
   ]
  },
  {
   "cell_type": "code",
   "execution_count": 4,
   "metadata": {},
   "outputs": [
    {
     "data": {
      "text/html": [
       "<div>\n",
       "<style scoped>\n",
       "    .dataframe tbody tr th:only-of-type {\n",
       "        vertical-align: middle;\n",
       "    }\n",
       "\n",
       "    .dataframe tbody tr th {\n",
       "        vertical-align: top;\n",
       "    }\n",
       "\n",
       "    .dataframe thead th {\n",
       "        text-align: right;\n",
       "    }\n",
       "</style>\n",
       "<table border=\"1\" class=\"dataframe\">\n",
       "  <thead>\n",
       "    <tr style=\"text-align: right;\">\n",
       "      <th></th>\n",
       "      <th>address</th>\n",
       "      <th>attributes</th>\n",
       "      <th>business_id</th>\n",
       "      <th>categories</th>\n",
       "      <th>city</th>\n",
       "      <th>hours</th>\n",
       "      <th>is_open</th>\n",
       "      <th>latitude</th>\n",
       "      <th>longitude</th>\n",
       "      <th>name</th>\n",
       "      <th>postal_code</th>\n",
       "      <th>review_count</th>\n",
       "      <th>stars</th>\n",
       "      <th>state</th>\n",
       "    </tr>\n",
       "  </thead>\n",
       "  <tbody>\n",
       "    <tr>\n",
       "      <th>1</th>\n",
       "      <td>30 Eglinton Avenue W</td>\n",
       "      <td>{'RestaurantsReservations': 'True', 'GoodForMe...</td>\n",
       "      <td>QXAEGFB4oINsVuTFxEYKFQ</td>\n",
       "      <td>Specialty Food, Restaurants, Dim Sum, Imported...</td>\n",
       "      <td>Mississauga</td>\n",
       "      <td>{'Monday': '9:0-0:0', 'Tuesday': '9:0-0:0', 'W...</td>\n",
       "      <td>1</td>\n",
       "      <td>43.605499</td>\n",
       "      <td>-79.652289</td>\n",
       "      <td>Emerald Chinese Restaurant</td>\n",
       "      <td>L5R 3E7</td>\n",
       "      <td>128</td>\n",
       "      <td>2.5</td>\n",
       "      <td>ON</td>\n",
       "    </tr>\n",
       "    <tr>\n",
       "      <th>2</th>\n",
       "      <td>10110 Johnston Rd, Ste 15</td>\n",
       "      <td>{'GoodForKids': 'True', 'NoiseLevel': 'u'avera...</td>\n",
       "      <td>gnKjwL_1w79qoiV3IC_xQQ</td>\n",
       "      <td>Sushi Bars, Restaurants, Japanese</td>\n",
       "      <td>Charlotte</td>\n",
       "      <td>{'Monday': '17:30-21:30', 'Wednesday': '17:30-...</td>\n",
       "      <td>1</td>\n",
       "      <td>35.092564</td>\n",
       "      <td>-80.859132</td>\n",
       "      <td>Musashi Japanese Restaurant</td>\n",
       "      <td>28210</td>\n",
       "      <td>170</td>\n",
       "      <td>4.0</td>\n",
       "      <td>NC</td>\n",
       "    </tr>\n",
       "    <tr>\n",
       "      <th>11</th>\n",
       "      <td>2450 E Indian School Rd</td>\n",
       "      <td>{'RestaurantsTakeOut': 'True', 'BusinessParkin...</td>\n",
       "      <td>1Dfx3zM-rW4n-31KeC8sJg</td>\n",
       "      <td>Restaurants, Breakfast &amp; Brunch, Mexican, Taco...</td>\n",
       "      <td>Phoenix</td>\n",
       "      <td>{'Monday': '7:0-0:0', 'Tuesday': '7:0-0:0', 'W...</td>\n",
       "      <td>1</td>\n",
       "      <td>33.495194</td>\n",
       "      <td>-112.028588</td>\n",
       "      <td>Taco Bell</td>\n",
       "      <td>85016</td>\n",
       "      <td>18</td>\n",
       "      <td>3.0</td>\n",
       "      <td>AZ</td>\n",
       "    </tr>\n",
       "    <tr>\n",
       "      <th>13</th>\n",
       "      <td>5981 Andrews Rd</td>\n",
       "      <td>{'RestaurantsPriceRange2': '2', 'BusinessAccep...</td>\n",
       "      <td>fweCYi8FmbJXHCqLnwuk8w</td>\n",
       "      <td>Italian, Restaurants, Pizza, Chicken Wings</td>\n",
       "      <td>Mentor-on-the-Lake</td>\n",
       "      <td>{'Monday': '10:0-0:0', 'Tuesday': '10:0-0:0', ...</td>\n",
       "      <td>1</td>\n",
       "      <td>41.708520</td>\n",
       "      <td>-81.359556</td>\n",
       "      <td>Marco's Pizza</td>\n",
       "      <td>44060</td>\n",
       "      <td>16</td>\n",
       "      <td>4.0</td>\n",
       "      <td>OH</td>\n",
       "    </tr>\n",
       "    <tr>\n",
       "      <th>17</th>\n",
       "      <td>1775 E Tropicana Ave, Ste 29</td>\n",
       "      <td>{'OutdoorSeating': 'False', 'BusinessAcceptsCr...</td>\n",
       "      <td>PZ-LZzSlhSe9utkQYU8pFg</td>\n",
       "      <td>Restaurants, Italian</td>\n",
       "      <td>Las Vegas</td>\n",
       "      <td>None</td>\n",
       "      <td>0</td>\n",
       "      <td>36.100016</td>\n",
       "      <td>-115.128529</td>\n",
       "      <td>Carluccio's Tivoli Gardens</td>\n",
       "      <td>89119</td>\n",
       "      <td>40</td>\n",
       "      <td>4.0</td>\n",
       "      <td>NV</td>\n",
       "    </tr>\n",
       "  </tbody>\n",
       "</table>\n",
       "</div>"
      ],
      "text/plain": [
       "                         address  \\\n",
       "1           30 Eglinton Avenue W   \n",
       "2      10110 Johnston Rd, Ste 15   \n",
       "11       2450 E Indian School Rd   \n",
       "13               5981 Andrews Rd   \n",
       "17  1775 E Tropicana Ave, Ste 29   \n",
       "\n",
       "                                           attributes             business_id  \\\n",
       "1   {'RestaurantsReservations': 'True', 'GoodForMe...  QXAEGFB4oINsVuTFxEYKFQ   \n",
       "2   {'GoodForKids': 'True', 'NoiseLevel': 'u'avera...  gnKjwL_1w79qoiV3IC_xQQ   \n",
       "11  {'RestaurantsTakeOut': 'True', 'BusinessParkin...  1Dfx3zM-rW4n-31KeC8sJg   \n",
       "13  {'RestaurantsPriceRange2': '2', 'BusinessAccep...  fweCYi8FmbJXHCqLnwuk8w   \n",
       "17  {'OutdoorSeating': 'False', 'BusinessAcceptsCr...  PZ-LZzSlhSe9utkQYU8pFg   \n",
       "\n",
       "                                           categories                city  \\\n",
       "1   Specialty Food, Restaurants, Dim Sum, Imported...         Mississauga   \n",
       "2                   Sushi Bars, Restaurants, Japanese           Charlotte   \n",
       "11  Restaurants, Breakfast & Brunch, Mexican, Taco...             Phoenix   \n",
       "13         Italian, Restaurants, Pizza, Chicken Wings  Mentor-on-the-Lake   \n",
       "17                               Restaurants, Italian           Las Vegas   \n",
       "\n",
       "                                                hours  is_open   latitude  \\\n",
       "1   {'Monday': '9:0-0:0', 'Tuesday': '9:0-0:0', 'W...        1  43.605499   \n",
       "2   {'Monday': '17:30-21:30', 'Wednesday': '17:30-...        1  35.092564   \n",
       "11  {'Monday': '7:0-0:0', 'Tuesday': '7:0-0:0', 'W...        1  33.495194   \n",
       "13  {'Monday': '10:0-0:0', 'Tuesday': '10:0-0:0', ...        1  41.708520   \n",
       "17                                               None        0  36.100016   \n",
       "\n",
       "     longitude                         name postal_code  review_count  stars  \\\n",
       "1   -79.652289   Emerald Chinese Restaurant     L5R 3E7           128    2.5   \n",
       "2   -80.859132  Musashi Japanese Restaurant       28210           170    4.0   \n",
       "11 -112.028588                    Taco Bell       85016            18    3.0   \n",
       "13  -81.359556                Marco's Pizza       44060            16    4.0   \n",
       "17 -115.128529   Carluccio's Tivoli Gardens       89119            40    4.0   \n",
       "\n",
       "   state  \n",
       "1     ON  \n",
       "2     NC  \n",
       "11    AZ  \n",
       "13    OH  \n",
       "17    NV  "
      ]
     },
     "execution_count": 4,
     "metadata": {},
     "output_type": "execute_result"
    }
   ],
   "source": [
    "#Only keep restaurant data\n",
    "#restaurant = [i for i in business if \"Restaurants\" in i[\"categories\"]]\n",
    "#Define a dataframe with the json file\n",
    "#business_df = pd.DataFrame(business)\n",
    "#res_df = business_df[business_df[\"categories\"].str.contains(\"Restaurant\",na=False)]\n",
    "#res_df.head()"
   ]
  },
  {
   "cell_type": "code",
   "execution_count": 5,
   "metadata": {},
   "outputs": [
    {
     "data": {
      "text/plain": [
       "59387"
      ]
     },
     "execution_count": 5,
     "metadata": {},
     "output_type": "execute_result"
    }
   ],
   "source": [
    "len(res_df)"
   ]
  },
  {
   "cell_type": "markdown",
   "metadata": {},
   "source": [
    "Also, I am only interested the restaurants in Arizona."
   ]
  },
  {
   "cell_type": "code",
   "execution_count": 7,
   "metadata": {},
   "outputs": [
    {
     "data": {
      "text/plain": [
       "11473"
      ]
     },
     "execution_count": 7,
     "metadata": {},
     "output_type": "execute_result"
    }
   ],
   "source": [
    "#Filter out the restaurant that is not in Arizona\n",
    "az_res = res_df[res_df[\"state\"]==\"AZ\"]\n",
    "#See how many observations left\n",
    "len(az_res)"
   ]
  },
  {
   "cell_type": "markdown",
   "metadata": {},
   "source": [
    "# Target Label Creation\n"
   ]
  },
  {
   "cell_type": "markdown",
   "metadata": {},
   "source": [
    "**In this setion, I will derive the most recent status of the restaurants using Yelp API to see that if they become closed permanently or not. And label them with is_closed column, 1 saying a restaurant is get closed while 0 indicates still being open.**"
   ]
  },
  {
   "cell_type": "code",
   "execution_count": 8,
   "metadata": {},
   "outputs": [
    {
     "name": "stderr",
     "output_type": "stream",
     "text": [
      "C:\\Anoconda\\lib\\site-packages\\scipy\\stats\\stats.py:1713: FutureWarning: Using a non-tuple sequence for multidimensional indexing is deprecated; use `arr[tuple(seq)]` instead of `arr[seq]`. In the future this will be interpreted as an array index, `arr[np.array(seq)]`, which will result either in an error or a different result.\n",
      "  return np.add.reduce(sorted[indexer] * weights, axis=axis) / sumval\n"
     ]
    },
    {
     "data": {
      "text/plain": [
       "<matplotlib.axes._subplots.AxesSubplot at 0x1a8c35a7f60>"
      ]
     },
     "execution_count": 8,
     "metadata": {},
     "output_type": "execute_result"
    },
    {
     "data": {
      "image/png": "[encoded data removed]",
      "text/plain": [
       "<Figure size 432x288 with 1 Axes>"
      ]
     },
     "metadata": {
      "needs_background": "light"
     },
     "output_type": "display_data"
    }
   ],
   "source": [
    "#see the distribution of open restaurants\n",
    "#sns.distplot(a=list(az_res[\"is_open\"]))"
   ]
  },
  {
   "cell_type": "markdown",
   "metadata": {},
   "source": [
    "**I am not interested in the restaurants that was already closed when the data was collected.**"
   ]
  },
  {
   "cell_type": "code",
   "execution_count": 67,
   "metadata": {},
   "outputs": [
    {
     "data": {
      "text/plain": [
       "7680"
      ]
     },
     "execution_count": 67,
     "metadata": {},
     "output_type": "execute_result"
    }
   ],
   "source": [
    "#Keep the restaurants that are open\n",
    "#df = az_res[az_res[\"is_open\"]==1]\n",
    "#len(df)"
   ]
  },
  {
   "cell_type": "markdown",
   "metadata": {},
   "source": [
    "**Now I will derive the status using two different API key, since the daily limit for each key is 5000.**"
   ]
  },
  {
   "cell_type": "code",
   "execution_count": 10,
   "metadata": {},
   "outputs": [],
   "source": [
    "#Since the request limiti of Yelp API is 5000 daily, I need to get the label with two calls\n",
    "#df1 = df.iloc[:4000]\n",
    "#df2 = df.iloc[4000:]"
   ]
  },
  {
   "cell_type": "code",
   "execution_count": 11,
   "metadata": {},
   "outputs": [],
   "source": [
    "#Set up headers with my API key\n",
    "#headers = {'Authorization': 'Bearer %s' % YelpApiKey.APIKey2['API Key']}"
   ]
  },
  {
   "cell_type": "code",
   "execution_count": 407,
   "metadata": {},
   "outputs": [],
   "source": [
    "#Define a function that get a the new is_open column\n",
    "def get_is_open(endpnt, business_id, headers):\n",
    "    if business_id!=\"\":\n",
    "        req = requests.get(endpnt+business_id,headers=headers)\n",
    "        json_data = json.loads(req.text)\n",
    "        try:\n",
    "            return (json_data[\"is_closed\"])\n",
    "        except:\n",
    "            return(\"\")\n",
    "    else:\n",
    "        return(\"\")"
   ]
  },
  {
   "cell_type": "code",
   "execution_count": 13,
   "metadata": {},
   "outputs": [],
   "source": [
    "#Define the API endpoint\n",
    "#endpoint = \"https://api.yelp.com/v3/businesses/\"\n",
    "#Derive is_closed label\n",
    "#is_open_2 = [get_is_open(endpoint, i, headers) for i in df1.business_id]"
   ]
  },
  {
   "cell_type": "code",
   "execution_count": 17,
   "metadata": {},
   "outputs": [],
   "source": [
    "#Set up headers with my API key\n",
    "#headers = {'Authorization': 'Bearer %s' % YelpApiKey.APIKey1['API Key']}\n",
    "#Derive is_closed label\n",
    "#is_open_1 = [get_is_open(endpoint, i, headers) for i in df2.business_id]"
   ]
  },
  {
   "cell_type": "code",
   "execution_count": 375,
   "metadata": {},
   "outputs": [
    {
     "data": {
      "text/plain": [
       "False    4492\n",
       "         3023\n",
       "True      165\n",
       "Name: is_closed, dtype: int64"
      ]
     },
     "execution_count": 375,
     "metadata": {},
     "output_type": "execute_result"
    }
   ],
   "source": [
    "#Merge two list\n",
    "#is_closed = is_open_2 + is_open_1\n",
    "#This column is the target label that indicates if a previous open restaurant becomes closed\n",
    "\n",
    "#Add this column to the data frame\n",
    "#is_closed = pd.Series(is_closed, index=df.index)\n",
    "#df[\"is_closed\"] = is_closed\n",
    "\n",
    "#Check missing values\n",
    "#df.is_closed.value_counts()"
   ]
  },
  {
   "cell_type": "markdown",
   "metadata": {},
   "source": [
    "**We have a lot of missing values, and they are my target label. \n",
    "I think this is due to the unmatched business id, so I will use Yelp API to get the correct business id.**"
   ]
  },
  {
   "cell_type": "code",
   "execution_count": 377,
   "metadata": {},
   "outputs": [],
   "source": [
    "#Get the index of the missing values\n",
    "#missing_idx = [i for i in range(len(is_closed)) if is_closed.iloc[i]==\"\"]"
   ]
  },
  {
   "cell_type": "code",
   "execution_count": 397,
   "metadata": {},
   "outputs": [],
   "source": [
    "#Define a function to search the correct business id\n",
    "def search_id(buss_detail, headers):\n",
    "    '''Input: a pandas series that contain the business detials, including name, city, state\n",
    "            headers = api token\n",
    "        return: a valid business id or \"\" '''\n",
    "    #Define the endpoint\n",
    "    ep = \"https://api.yelp.com/v3/businesses/matches\"\n",
    "    try: \n",
    "        #Define the parameters\n",
    "        params = {'city':buss_detail[\"city\"], \\\n",
    "                  'state':buss_detail[\"state\"], \\\n",
    "                  \"country\":\"US\", \\\n",
    "                  \"address1\":buss_detail[\"address\"], \\\n",
    "                  \"name\":buss_detail[\"name\"]}\n",
    "    except:\n",
    "        return(\"\")\n",
    "    #Request data from Yelp API\n",
    "    js = requests.get(ep, params=params, headers=headers)\n",
    "    try:\n",
    "        return(json.loads(js.text)[\"businesses\"][0][\"id\"])\n",
    "    except:\n",
    "        return(\"\")"
   ]
  },
  {
   "cell_type": "code",
   "execution_count": 403,
   "metadata": {},
   "outputs": [],
   "source": [
    "#Set up headers with my API key\n",
    "#headers = {'Authorization': 'Bearer %s' % YelpApiKey.APIKey1['API Key']}\n",
    "#correct_id = [search_id(df.iloc[i],headers) for i in missing_idx]"
   ]
  },
  {
   "cell_type": "code",
   "execution_count": 406,
   "metadata": {},
   "outputs": [
    {
     "data": {
      "text/plain": [
       "31"
      ]
     },
     "execution_count": 406,
     "metadata": {},
     "output_type": "execute_result"
    }
   ],
   "source": [
    "#sum([1 for i in correct_id if i==\"\"])"
   ]
  },
  {
   "cell_type": "code",
   "execution_count": 408,
   "metadata": {},
   "outputs": [],
   "source": [
    "#Use another API token\n",
    "#headers = {'Authorization': 'Bearer %s' % YelpApiKey.APIKey2['API Key']}\n",
    "#Derive is_closed label again\n",
    "#is_closed_3 = [get_is_open(endpoint, i, headers) for i in correct_id]"
   ]
  },
  {
   "cell_type": "code",
   "execution_count": 414,
   "metadata": {},
   "outputs": [
    {
     "data": {
      "text/plain": [
       "False    7383\n",
       "True      265\n",
       "           32\n",
       "Name: is_closed, dtype: int64"
      ]
     },
     "execution_count": 414,
     "metadata": {},
     "output_type": "execute_result"
    }
   ],
   "source": [
    "#for i in range(len(missing_idx)):\n",
    " #   is_closed.iat[missing_idx[i]] = is_closed_3[i]\n",
    "#Updata the is_closed column in the dataframe\n",
    "#df[\"is_closed\"] = is_closed\n",
    "#df.is_closed.value_counts()"
   ]
  },
  {
   "cell_type": "markdown",
   "metadata": {},
   "source": [
    "**There are still 32 missing values in the target is_closed label. I will output the labeled dataset the drive, and lebel these 32 restaurants manually by doing reserach on Yelp and Google.**"
   ]
  },
  {
   "cell_type": "code",
   "execution_count": null,
   "metadata": {},
   "outputs": [],
   "source": [
    "#Drop the is_open column since we know they are all true\n",
    "#df = df.drop(\"is_open\",axis=1)"
   ]
  },
  {
   "cell_type": "code",
   "execution_count": null,
   "metadata": {},
   "outputs": [],
   "source": [
    "#Output the processed dataset\n",
    "#df.to_csv(\"Arizona_restaurants.csv\",index=False)`"
   ]
  },
  {
   "cell_type": "code",
   "execution_count": 103,
   "metadata": {},
   "outputs": [],
   "source": [
    "#Import the well labeled dataset for further analysis\n",
    "df = pd.read_csv(\"Arizona_restaurants.csv\",encoding='unicode_escape')"
   ]
  },
  {
   "cell_type": "markdown",
   "metadata": {},
   "source": [
    "**For the target label, convert False to 0, True to be 1**"
   ]
  },
  {
   "cell_type": "code",
   "execution_count": 104,
   "metadata": {},
   "outputs": [],
   "source": [
    "def label_to_int(label):\n",
    "    '''Input: a stirng of label, \"True\",\"False\",\"0\",or \"1\"\n",
    "        return: an integer, 0 or 1'''\n",
    "    if label==\"TRUE\" or label==\"1\":\n",
    "        return(1)\n",
    "    else:\n",
    "        return(0)"
   ]
  },
  {
   "cell_type": "code",
   "execution_count": 105,
   "metadata": {},
   "outputs": [],
   "source": [
    "#Use the function defined to update the column\n",
    "target_label = pd.Series([label_to_int(i) for i in df.is_closed], index=df.index)\n",
    "df[\"is_closed\"] = target_label"
   ]
  },
  {
   "cell_type": "code",
   "execution_count": 106,
   "metadata": {},
   "outputs": [
    {
     "data": {
      "text/html": [
       "<div>\n",
       "<style scoped>\n",
       "    .dataframe tbody tr th:only-of-type {\n",
       "        vertical-align: middle;\n",
       "    }\n",
       "\n",
       "    .dataframe tbody tr th {\n",
       "        vertical-align: top;\n",
       "    }\n",
       "\n",
       "    .dataframe thead th {\n",
       "        text-align: right;\n",
       "    }\n",
       "</style>\n",
       "<table border=\"1\" class=\"dataframe\">\n",
       "  <thead>\n",
       "    <tr style=\"text-align: right;\">\n",
       "      <th></th>\n",
       "      <th>address</th>\n",
       "      <th>attributes</th>\n",
       "      <th>business_id</th>\n",
       "      <th>categories</th>\n",
       "      <th>city</th>\n",
       "      <th>hours</th>\n",
       "      <th>latitude</th>\n",
       "      <th>longitude</th>\n",
       "      <th>name</th>\n",
       "      <th>postal_code</th>\n",
       "      <th>review_count</th>\n",
       "      <th>stars</th>\n",
       "      <th>state</th>\n",
       "      <th>is_closed</th>\n",
       "    </tr>\n",
       "  </thead>\n",
       "  <tbody>\n",
       "    <tr>\n",
       "      <th>0</th>\n",
       "      <td>2450 E Indian School Rd</td>\n",
       "      <td>{'RestaurantsTakeOut': 'True', 'BusinessParkin...</td>\n",
       "      <td>1Dfx3zM-rW4n-31KeC8sJg</td>\n",
       "      <td>Restaurants, Breakfast &amp; Brunch, Mexican, Taco...</td>\n",
       "      <td>Phoenix</td>\n",
       "      <td>{'Monday': '7:0-0:0', 'Tuesday': '7:0-0:0', 'W...</td>\n",
       "      <td>33.495194</td>\n",
       "      <td>-112.028588</td>\n",
       "      <td>Taco Bell</td>\n",
       "      <td>85016.0</td>\n",
       "      <td>18</td>\n",
       "      <td>3.0</td>\n",
       "      <td>AZ</td>\n",
       "      <td>0</td>\n",
       "    </tr>\n",
       "    <tr>\n",
       "      <th>1</th>\n",
       "      <td>13843 N Tatum Blvd, Ste 15</td>\n",
       "      <td>{'Caters': 'True', 'GoodForKids': 'True', 'Noi...</td>\n",
       "      <td>44YFU284Z3KDEy25QyVoUw</td>\n",
       "      <td>Chinese, Restaurants</td>\n",
       "      <td>Phoenix</td>\n",
       "      <td>{'Monday': '11:0-21:0', 'Tuesday': '11:0-21:0'...</td>\n",
       "      <td>33.613020</td>\n",
       "      <td>-111.977036</td>\n",
       "      <td>Nee House Chinese Restaurant</td>\n",
       "      <td>85032.0</td>\n",
       "      <td>269</td>\n",
       "      <td>3.5</td>\n",
       "      <td>AZ</td>\n",
       "      <td>0</td>\n",
       "    </tr>\n",
       "    <tr>\n",
       "      <th>2</th>\n",
       "      <td>1789 W Jefferson</td>\n",
       "      <td>{'RestaurantsDelivery': 'False', 'BusinessAcce...</td>\n",
       "      <td>ysfeDcLAYk_MVzfBmyiSTg</td>\n",
       "      <td>Restaurants, Food, Cafes</td>\n",
       "      <td>Phoenix</td>\n",
       "      <td>0</td>\n",
       "      <td>33.446805</td>\n",
       "      <td>-112.097129</td>\n",
       "      <td>Vals Getaway DES Cafeteria</td>\n",
       "      <td>85007.0</td>\n",
       "      <td>14</td>\n",
       "      <td>3.0</td>\n",
       "      <td>AZ</td>\n",
       "      <td>0</td>\n",
       "    </tr>\n",
       "    <tr>\n",
       "      <th>3</th>\n",
       "      <td>550 N Hayden Rd</td>\n",
       "      <td>{'BusinessAcceptsCreditCards': 'True', 'Restau...</td>\n",
       "      <td>nsNONDHbV7Vudqh21uicqw</td>\n",
       "      <td>Seafood, Restaurants</td>\n",
       "      <td>Scottsdale</td>\n",
       "      <td>{'Monday': '16:0-0:0', 'Tuesday': '16:0-0:0', ...</td>\n",
       "      <td>33.454286</td>\n",
       "      <td>-111.909405</td>\n",
       "      <td>Salt Cellar</td>\n",
       "      <td>85257.0</td>\n",
       "      <td>526</td>\n",
       "      <td>3.5</td>\n",
       "      <td>AZ</td>\n",
       "      <td>0</td>\n",
       "    </tr>\n",
       "    <tr>\n",
       "      <th>4</th>\n",
       "      <td>3415 West Glendale Ave, Bldg 25A</td>\n",
       "      <td>{'RestaurantsGoodForGroups': 'True', 'Business...</td>\n",
       "      <td>Rs8Wi4OEjeOX7LVlzsXDOA</td>\n",
       "      <td>Restaurants, Mexican, Sushi Bars</td>\n",
       "      <td>Phoenix</td>\n",
       "      <td>{'Monday': '11:0-22:0', 'Tuesday': '11:0-22:0'...</td>\n",
       "      <td>33.537164</td>\n",
       "      <td>-112.132926</td>\n",
       "      <td>Sushi Mocorito</td>\n",
       "      <td>85051.0</td>\n",
       "      <td>9</td>\n",
       "      <td>3.0</td>\n",
       "      <td>AZ</td>\n",
       "      <td>0</td>\n",
       "    </tr>\n",
       "  </tbody>\n",
       "</table>\n",
       "</div>"
      ],
      "text/plain": [
       "                            address  \\\n",
       "0           2450 E Indian School Rd   \n",
       "1        13843 N Tatum Blvd, Ste 15   \n",
       "2                  1789 W Jefferson   \n",
       "3                   550 N Hayden Rd   \n",
       "4  3415 West Glendale Ave, Bldg 25A   \n",
       "\n",
       "                                          attributes             business_id  \\\n",
       "0  {'RestaurantsTakeOut': 'True', 'BusinessParkin...  1Dfx3zM-rW4n-31KeC8sJg   \n",
       "1  {'Caters': 'True', 'GoodForKids': 'True', 'Noi...  44YFU284Z3KDEy25QyVoUw   \n",
       "2  {'RestaurantsDelivery': 'False', 'BusinessAcce...  ysfeDcLAYk_MVzfBmyiSTg   \n",
       "3  {'BusinessAcceptsCreditCards': 'True', 'Restau...  nsNONDHbV7Vudqh21uicqw   \n",
       "4  {'RestaurantsGoodForGroups': 'True', 'Business...  Rs8Wi4OEjeOX7LVlzsXDOA   \n",
       "\n",
       "                                          categories        city  \\\n",
       "0  Restaurants, Breakfast & Brunch, Mexican, Taco...     Phoenix   \n",
       "1                               Chinese, Restaurants     Phoenix   \n",
       "2                           Restaurants, Food, Cafes     Phoenix   \n",
       "3                               Seafood, Restaurants  Scottsdale   \n",
       "4                   Restaurants, Mexican, Sushi Bars     Phoenix   \n",
       "\n",
       "                                               hours   latitude   longitude  \\\n",
       "0  {'Monday': '7:0-0:0', 'Tuesday': '7:0-0:0', 'W...  33.495194 -112.028588   \n",
       "1  {'Monday': '11:0-21:0', 'Tuesday': '11:0-21:0'...  33.613020 -111.977036   \n",
       "2                                                  0  33.446805 -112.097129   \n",
       "3  {'Monday': '16:0-0:0', 'Tuesday': '16:0-0:0', ...  33.454286 -111.909405   \n",
       "4  {'Monday': '11:0-22:0', 'Tuesday': '11:0-22:0'...  33.537164 -112.132926   \n",
       "\n",
       "                           name  postal_code  review_count  stars state  \\\n",
       "0                     Taco Bell      85016.0            18    3.0    AZ   \n",
       "1  Nee House Chinese Restaurant      85032.0           269    3.5    AZ   \n",
       "2    Vals Getaway DES Cafeteria      85007.0            14    3.0    AZ   \n",
       "3                   Salt Cellar      85257.0           526    3.5    AZ   \n",
       "4                Sushi Mocorito      85051.0             9    3.0    AZ   \n",
       "\n",
       "   is_closed  \n",
       "0          0  \n",
       "1          0  \n",
       "2          0  \n",
       "3          0  \n",
       "4          0  "
      ]
     },
     "execution_count": 106,
     "metadata": {},
     "output_type": "execute_result"
    }
   ],
   "source": [
    "df.head()"
   ]
  },
  {
   "cell_type": "markdown",
   "metadata": {},
   "source": [
    "# EDA"
   ]
  },
  {
   "cell_type": "code",
   "execution_count": 107,
   "metadata": {},
   "outputs": [
    {
     "data": {
      "text/html": [
       "<div>\n",
       "<style scoped>\n",
       "    .dataframe tbody tr th:only-of-type {\n",
       "        vertical-align: middle;\n",
       "    }\n",
       "\n",
       "    .dataframe tbody tr th {\n",
       "        vertical-align: top;\n",
       "    }\n",
       "\n",
       "    .dataframe thead th {\n",
       "        text-align: right;\n",
       "    }\n",
       "</style>\n",
       "<table border=\"1\" class=\"dataframe\">\n",
       "  <thead>\n",
       "    <tr style=\"text-align: right;\">\n",
       "      <th></th>\n",
       "      <th>latitude</th>\n",
       "      <th>longitude</th>\n",
       "      <th>postal_code</th>\n",
       "      <th>review_count</th>\n",
       "      <th>stars</th>\n",
       "      <th>is_closed</th>\n",
       "    </tr>\n",
       "  </thead>\n",
       "  <tbody>\n",
       "    <tr>\n",
       "      <th>count</th>\n",
       "      <td>7680.000000</td>\n",
       "      <td>7680.000000</td>\n",
       "      <td>7670.000000</td>\n",
       "      <td>7680.000000</td>\n",
       "      <td>7680.000000</td>\n",
       "      <td>7680.000000</td>\n",
       "    </tr>\n",
       "    <tr>\n",
       "      <th>mean</th>\n",
       "      <td>33.487391</td>\n",
       "      <td>-112.008082</td>\n",
       "      <td>85188.018123</td>\n",
       "      <td>127.123958</td>\n",
       "      <td>3.442643</td>\n",
       "      <td>0.035156</td>\n",
       "    </tr>\n",
       "    <tr>\n",
       "      <th>std</th>\n",
       "      <td>0.121365</td>\n",
       "      <td>0.174119</td>\n",
       "      <td>127.530932</td>\n",
       "      <td>191.248634</td>\n",
       "      <td>0.849610</td>\n",
       "      <td>0.184187</td>\n",
       "    </tr>\n",
       "    <tr>\n",
       "      <th>min</th>\n",
       "      <td>33.210781</td>\n",
       "      <td>-112.540321</td>\n",
       "      <td>84295.000000</td>\n",
       "      <td>3.000000</td>\n",
       "      <td>1.000000</td>\n",
       "      <td>0.000000</td>\n",
       "    </tr>\n",
       "    <tr>\n",
       "      <th>25%</th>\n",
       "      <td>33.394779</td>\n",
       "      <td>-112.122154</td>\n",
       "      <td>85034.000000</td>\n",
       "      <td>19.000000</td>\n",
       "      <td>3.000000</td>\n",
       "      <td>0.000000</td>\n",
       "    </tr>\n",
       "    <tr>\n",
       "      <th>50%</th>\n",
       "      <td>33.479499</td>\n",
       "      <td>-111.984226</td>\n",
       "      <td>85226.000000</td>\n",
       "      <td>60.000000</td>\n",
       "      <td>3.500000</td>\n",
       "      <td>0.000000</td>\n",
       "    </tr>\n",
       "    <tr>\n",
       "      <th>75%</th>\n",
       "      <td>33.582508</td>\n",
       "      <td>-111.891783</td>\n",
       "      <td>85283.000000</td>\n",
       "      <td>157.000000</td>\n",
       "      <td>4.000000</td>\n",
       "      <td>0.000000</td>\n",
       "    </tr>\n",
       "    <tr>\n",
       "      <th>max</th>\n",
       "      <td>33.844608</td>\n",
       "      <td>-111.600936</td>\n",
       "      <td>85734.000000</td>\n",
       "      <td>2556.000000</td>\n",
       "      <td>5.000000</td>\n",
       "      <td>1.000000</td>\n",
       "    </tr>\n",
       "  </tbody>\n",
       "</table>\n",
       "</div>"
      ],
      "text/plain": [
       "          latitude    longitude   postal_code  review_count        stars  \\\n",
       "count  7680.000000  7680.000000   7670.000000   7680.000000  7680.000000   \n",
       "mean     33.487391  -112.008082  85188.018123    127.123958     3.442643   \n",
       "std       0.121365     0.174119    127.530932    191.248634     0.849610   \n",
       "min      33.210781  -112.540321  84295.000000      3.000000     1.000000   \n",
       "25%      33.394779  -112.122154  85034.000000     19.000000     3.000000   \n",
       "50%      33.479499  -111.984226  85226.000000     60.000000     3.500000   \n",
       "75%      33.582508  -111.891783  85283.000000    157.000000     4.000000   \n",
       "max      33.844608  -111.600936  85734.000000   2556.000000     5.000000   \n",
       "\n",
       "         is_closed  \n",
       "count  7680.000000  \n",
       "mean      0.035156  \n",
       "std       0.184187  \n",
       "min       0.000000  \n",
       "25%       0.000000  \n",
       "50%       0.000000  \n",
       "75%       0.000000  \n",
       "max       1.000000  "
      ]
     },
     "execution_count": 107,
     "metadata": {},
     "output_type": "execute_result"
    }
   ],
   "source": [
    "#See the summary of the numeric variables\n",
    "df.describe()"
   ]
  },
  {
   "cell_type": "code",
   "execution_count": 108,
   "metadata": {},
   "outputs": [
    {
     "data": {
      "text/plain": [
       "address         7577\n",
       "attributes      7478\n",
       "business_id     7680\n",
       "categories      7680\n",
       "city            7680\n",
       "hours           7680\n",
       "latitude        7680\n",
       "longitude       7680\n",
       "name            7680\n",
       "postal_code     7670\n",
       "review_count    7680\n",
       "stars           7680\n",
       "state           7680\n",
       "is_closed       7680\n",
       "dtype: int64"
      ]
     },
     "execution_count": 108,
     "metadata": {},
     "output_type": "execute_result"
    }
   ],
   "source": [
    "#Look at missing values\n",
    "df.count()"
   ]
  },
  {
   "cell_type": "markdown",
   "metadata": {},
   "source": [
    "**There are missing values, but not a lot. I will deal with them further.**"
   ]
  },
  {
   "cell_type": "markdown",
   "metadata": {},
   "source": [
    "## Distribution of review count"
   ]
  },
  {
   "cell_type": "code",
   "execution_count": 109,
   "metadata": {},
   "outputs": [
    {
     "data": {
      "text/plain": [
       "<matplotlib.axes._subplots.AxesSubplot at 0x250a28f4da0>"
      ]
     },
     "execution_count": 109,
     "metadata": {},
     "output_type": "execute_result"
    },
    {
     "data": {
      "image/png": "[encoded data removed]",
      "text/plain": [
       "<Figure size 432x288 with 1 Axes>"
      ]
     },
     "metadata": {
      "needs_background": "light"
     },
     "output_type": "display_data"
    }
   ],
   "source": [
    "sns.distplot(a=list(df.review_count))"
   ]
  },
  {
   "cell_type": "markdown",
   "metadata": {},
   "source": [
    "## Distribution of star"
   ]
  },
  {
   "cell_type": "code",
   "execution_count": 110,
   "metadata": {},
   "outputs": [
    {
     "data": {
      "text/plain": [
       "<matplotlib.axes._subplots.AxesSubplot at 0x250a289beb8>"
      ]
     },
     "execution_count": 110,
     "metadata": {},
     "output_type": "execute_result"
    },
    {
     "data": {
      "image/png": "[encoded data removed]",
      "text/plain": [
       "<Figure size 432x288 with 1 Axes>"
      ]
     },
     "metadata": {
      "needs_background": "light"
     },
     "output_type": "display_data"
    }
   ],
   "source": [
    "sns.distplot(a=df.stars)"
   ]
  },
  {
   "cell_type": "markdown",
   "metadata": {},
   "source": [
    "## Distribution by location"
   ]
  },
  {
   "cell_type": "code",
   "execution_count": 111,
   "metadata": {},
   "outputs": [
    {
     "data": {
      "text/plain": [
       "52"
      ]
     },
     "execution_count": 111,
     "metadata": {},
     "output_type": "execute_result"
    }
   ],
   "source": [
    "len(df.city.unique())"
   ]
  },
  {
   "cell_type": "code",
   "execution_count": 112,
   "metadata": {},
   "outputs": [
    {
     "data": {
      "text/plain": [
       "Phoenix                 2724\n",
       "Scottsdale               931\n",
       "Mesa                     826\n",
       "Tempe                    649\n",
       "Chandler                 546\n",
       "Glendale                 499\n",
       "Gilbert                  405\n",
       "Peoria                   266\n",
       "Surprise                 171\n",
       "Goodyear                 145\n",
       "Avondale                 139\n",
       "Cave Creek                61\n",
       "Fountain Hills            51\n",
       "Sun City                  36\n",
       "Litchfield Park           33\n",
       "Tolleson                  28\n",
       "Laveen                    28\n",
       "El Mirage                 18\n",
       "Paradise Valley           13\n",
       "Buckeye                   12\n",
       "Sun City West             12\n",
       "Carefree                  12\n",
       "Sun Lakes                  9\n",
       "Queen Creek                9\n",
       "Youngtown                  5\n",
       "Anthem                     4\n",
       "Guadalupe                  4\n",
       "Fort McDowell              4\n",
       "Ahwatukee                  4\n",
       "Laveen Village             4\n",
       "PHOENIX                    4\n",
       "Higley                     4\n",
       "Apache Junction            3\n",
       "Fort Mcdowell              2\n",
       "Waddell                    2\n",
       "GOODYEAR                   1\n",
       "GILBERT                    1\n",
       "Scottdale                  1\n",
       "Central City Village       1\n",
       "Somerton                   1\n",
       "Central City               1\n",
       "Maricopa                   1\n",
       "cave creek                 1\n",
       "Rio Verde                  1\n",
       "mesa                       1\n",
       "Phoenix Valley             1\n",
       "SCOTTSDALE                 1\n",
       "Central                    1\n",
       "Mesa AZ                    1\n",
       "Phx                        1\n",
       "Glendale Az                1\n",
       "MESA                       1\n",
       "Name: city, dtype: int64"
      ]
     },
     "execution_count": 112,
     "metadata": {},
     "output_type": "execute_result"
    }
   ],
   "source": [
    "df[\"city\"].value_counts()"
   ]
  },
  {
   "cell_type": "markdown",
   "metadata": {},
   "source": [
    "I can see that, for instance, Mesa is represented by \"Mesa\", \"mesa\", \"Mesa AZ\", and \"MESA\". So if I want to convert this column to dummies variables, I need to deal with this kind of duplicates to reduce the dimension. "
   ]
  },
  {
   "cell_type": "code",
   "execution_count": 123,
   "metadata": {},
   "outputs": [
    {
     "data": {
      "text/plain": [
       "array(['AZ'], dtype=object)"
      ]
     },
     "execution_count": 123,
     "metadata": {},
     "output_type": "execute_result"
    }
   ],
   "source": [
    "df.state.unique()"
   ]
  },
  {
   "cell_type": "markdown",
   "metadata": {},
   "source": [
    "## Distribution of the target variable is_closed"
   ]
  },
  {
   "cell_type": "code",
   "execution_count": 124,
   "metadata": {},
   "outputs": [
    {
     "data": {
      "text/plain": [
       "<matplotlib.axes._subplots.AxesSubplot at 0x250a2d1f400>"
      ]
     },
     "execution_count": 124,
     "metadata": {},
     "output_type": "execute_result"
    },
    {
     "data": {
      "image/png": "[encoded data removed]",
      "text/plain": [
       "<Figure size 432x288 with 1 Axes>"
      ]
     },
     "metadata": {
      "needs_background": "light"
     },
     "output_type": "display_data"
    }
   ],
   "source": [
    "sns.distplot(a=list(df.is_closed),kde=False)"
   ]
  },
  {
   "cell_type": "code",
   "execution_count": 125,
   "metadata": {},
   "outputs": [
    {
     "data": {
      "text/plain": [
       "0    7410\n",
       "1     270\n",
       "Name: is_closed, dtype: int64"
      ]
     },
     "execution_count": 125,
     "metadata": {},
     "output_type": "execute_result"
    }
   ],
   "source": [
    "df[\"is_closed\"].value_counts()"
   ]
  },
  {
   "cell_type": "markdown",
   "metadata": {},
   "source": [
    "Class imbalance is several."
   ]
  },
  {
   "cell_type": "markdown",
   "metadata": {},
   "source": [
    "# Feature engineering "
   ]
  },
  {
   "cell_type": "markdown",
   "metadata": {},
   "source": [
    "### Create a new variable repersent the open hours each week"
   ]
  },
  {
   "cell_type": "code",
   "execution_count": 126,
   "metadata": {},
   "outputs": [],
   "source": [
    "#Define a function that calculate the open hour for one day\n",
    "def open_hours(time_range):\n",
    "    '''Input: a string of time range\n",
    "        return: number of open hours'''\n",
    "    #Derive the open time and closed time\n",
    "    open_closed = time_range.split(\"-\")\n",
    "    if open_closed[0]==open_closed[1]:\n",
    "        return (0)\n",
    "    else:\n",
    "        open_time = [int(i) for i in open_closed[0].split(\":\")]\n",
    "        open_time = open_time[0] + open_time[1]/60\n",
    "        closed_time = [int(i) for i in open_closed[1].split(\":\")]\n",
    "        if closed_time[0]==0:\n",
    "            closed_time[0]=24\n",
    "        closed_time = closed_time[0] + closed_time[1]/60\n",
    "        return (closed_time-open_time)\n",
    "            \n",
    "        \n",
    "#Define a fucntion that get the total open hours for a week\n",
    "def hours_per_week(hours_dict):\n",
    "    '''Input: a dictionary that contains open hours for each day\n",
    "        return: total open hours for a week'''\n",
    "    import yaml\n",
    "    #Detect missing values\n",
    "    if hours_dict==\"0\":\n",
    "        return(0)\n",
    "    daily_hour = list(yaml.load(hours_dict).values())\n",
    "    total_hours = [open_hours(i) for i in daily_hour]\n",
    "    return(sum(total_hours))\n",
    "    "
   ]
  },
  {
   "cell_type": "code",
   "execution_count": 127,
   "metadata": {},
   "outputs": [],
   "source": [
    "#Fill missing value with 0\n",
    "df[\"hours\"] = df[\"hours\"].fillna(\"0\")\n",
    "#Apply the functions defined to get weekly hours\n",
    "weekly_hours = [hours_per_week(i) for i in df.hours]\n",
    "weekly_hours = pd.Series(weekly_hours, index=df.index)\n",
    "#Add this new column to the data frame\n",
    "df[\"weekly_hours\"] = weekly_hours"
   ]
  },
  {
   "cell_type": "markdown",
   "metadata": {},
   "source": [
    "### Create dummy variables with city column"
   ]
  },
  {
   "cell_type": "code",
   "execution_count": 118,
   "metadata": {},
   "outputs": [
    {
     "data": {
      "text/plain": [
       "44"
      ]
     },
     "execution_count": 118,
     "metadata": {},
     "output_type": "execute_result"
    }
   ],
   "source": [
    "#First lowercase the city name\n",
    "city = df.city.str.lower()\n",
    "len(city.unique())"
   ]
  },
  {
   "cell_type": "code",
   "execution_count": 119,
   "metadata": {},
   "outputs": [
    {
     "data": {
      "text/plain": [
       "array(['phoenix', 'scottsdale', 'chandler', 'mesa', 'glendale',\n",
       "       'surprise', 'goodyear', 'gilbert', 'sun city', 'avondale',\n",
       "       'cave creek', 'tempe', 'peoria', 'fountain hills', 'sun lakes',\n",
       "       'fort mcdowell', 'laveen', 'paradise valley', 'tolleson',\n",
       "       'somerton', 'carefree', 'litchfield park', 'queen creek',\n",
       "       'el mirage', 'anthem', 'glendale az', 'apache junction', 'buckeye',\n",
       "       'guadalupe', 'sun city west', 'youngtown', 'mesa az',\n",
       "       'laveen village', 'higley', 'scottdale', 'waddell', 'ahwatukee',\n",
       "       'phx', 'maricopa', 'central city', 'central city village',\n",
       "       'rio verde', 'phoenix valley', 'central'], dtype=object)"
      ]
     },
     "execution_count": 119,
     "metadata": {},
     "output_type": "execute_result"
    }
   ],
   "source": [
    "city.unique()"
   ]
  },
  {
   "cell_type": "code",
   "execution_count": 120,
   "metadata": {},
   "outputs": [
    {
     "data": {
      "text/plain": [
       "39"
      ]
     },
     "execution_count": 120,
     "metadata": {},
     "output_type": "execute_result"
    }
   ],
   "source": [
    "#Deal with the rest of duplicates\n",
    "city = [i if i!='mesa az' else \"mesa\" for i in city]\n",
    "city = [i if i!='central' else \"central city\" for i in city]\n",
    "city = [i if i!=\"phx\" else \"phoenix\" for i in city]\n",
    "city = [i if i!=\"scottdale\" else \"scottsdale\" for i in city]\n",
    "city = [i if i!=\"glendale az\" else \"glendale\" for i in city]\n",
    "city = pd.Series(city, index=df.index)\n",
    "len(city.unique())"
   ]
  },
  {
   "cell_type": "code",
   "execution_count": 121,
   "metadata": {},
   "outputs": [],
   "source": [
    "#Create dummies \n",
    "city = pd.get_dummies(city)\n",
    "df = pd.concat([df,city],axis=1)"
   ]
  },
  {
   "cell_type": "code",
   "execution_count": 128,
   "metadata": {},
   "outputs": [
    {
     "data": {
      "text/html": [
       "<div>\n",
       "<style scoped>\n",
       "    .dataframe tbody tr th:only-of-type {\n",
       "        vertical-align: middle;\n",
       "    }\n",
       "\n",
       "    .dataframe tbody tr th {\n",
       "        vertical-align: top;\n",
       "    }\n",
       "\n",
       "    .dataframe thead th {\n",
       "        text-align: right;\n",
       "    }\n",
       "</style>\n",
       "<table border=\"1\" class=\"dataframe\">\n",
       "  <thead>\n",
       "    <tr style=\"text-align: right;\">\n",
       "      <th></th>\n",
       "      <th>address</th>\n",
       "      <th>attributes</th>\n",
       "      <th>business_id</th>\n",
       "      <th>categories</th>\n",
       "      <th>city</th>\n",
       "      <th>hours</th>\n",
       "      <th>latitude</th>\n",
       "      <th>longitude</th>\n",
       "      <th>name</th>\n",
       "      <th>postal_code</th>\n",
       "      <th>...</th>\n",
       "      <th>scottsdale</th>\n",
       "      <th>somerton</th>\n",
       "      <th>sun city</th>\n",
       "      <th>sun city west</th>\n",
       "      <th>sun lakes</th>\n",
       "      <th>surprise</th>\n",
       "      <th>tempe</th>\n",
       "      <th>tolleson</th>\n",
       "      <th>waddell</th>\n",
       "      <th>youngtown</th>\n",
       "    </tr>\n",
       "  </thead>\n",
       "  <tbody>\n",
       "    <tr>\n",
       "      <th>0</th>\n",
       "      <td>2450 E Indian School Rd</td>\n",
       "      <td>{'RestaurantsTakeOut': 'True', 'BusinessParkin...</td>\n",
       "      <td>1Dfx3zM-rW4n-31KeC8sJg</td>\n",
       "      <td>Restaurants, Breakfast &amp; Brunch, Mexican, Taco...</td>\n",
       "      <td>Phoenix</td>\n",
       "      <td>{'Monday': '7:0-0:0', 'Tuesday': '7:0-0:0', 'W...</td>\n",
       "      <td>33.495194</td>\n",
       "      <td>-112.028588</td>\n",
       "      <td>Taco Bell</td>\n",
       "      <td>85016.0</td>\n",
       "      <td>...</td>\n",
       "      <td>0</td>\n",
       "      <td>0</td>\n",
       "      <td>0</td>\n",
       "      <td>0</td>\n",
       "      <td>0</td>\n",
       "      <td>0</td>\n",
       "      <td>0</td>\n",
       "      <td>0</td>\n",
       "      <td>0</td>\n",
       "      <td>0</td>\n",
       "    </tr>\n",
       "    <tr>\n",
       "      <th>1</th>\n",
       "      <td>13843 N Tatum Blvd, Ste 15</td>\n",
       "      <td>{'Caters': 'True', 'GoodForKids': 'True', 'Noi...</td>\n",
       "      <td>44YFU284Z3KDEy25QyVoUw</td>\n",
       "      <td>Chinese, Restaurants</td>\n",
       "      <td>Phoenix</td>\n",
       "      <td>{'Monday': '11:0-21:0', 'Tuesday': '11:0-21:0'...</td>\n",
       "      <td>33.613020</td>\n",
       "      <td>-111.977036</td>\n",
       "      <td>Nee House Chinese Restaurant</td>\n",
       "      <td>85032.0</td>\n",
       "      <td>...</td>\n",
       "      <td>0</td>\n",
       "      <td>0</td>\n",
       "      <td>0</td>\n",
       "      <td>0</td>\n",
       "      <td>0</td>\n",
       "      <td>0</td>\n",
       "      <td>0</td>\n",
       "      <td>0</td>\n",
       "      <td>0</td>\n",
       "      <td>0</td>\n",
       "    </tr>\n",
       "    <tr>\n",
       "      <th>2</th>\n",
       "      <td>1789 W Jefferson</td>\n",
       "      <td>{'RestaurantsDelivery': 'False', 'BusinessAcce...</td>\n",
       "      <td>ysfeDcLAYk_MVzfBmyiSTg</td>\n",
       "      <td>Restaurants, Food, Cafes</td>\n",
       "      <td>Phoenix</td>\n",
       "      <td>0</td>\n",
       "      <td>33.446805</td>\n",
       "      <td>-112.097129</td>\n",
       "      <td>Vals Getaway DES Cafeteria</td>\n",
       "      <td>85007.0</td>\n",
       "      <td>...</td>\n",
       "      <td>0</td>\n",
       "      <td>0</td>\n",
       "      <td>0</td>\n",
       "      <td>0</td>\n",
       "      <td>0</td>\n",
       "      <td>0</td>\n",
       "      <td>0</td>\n",
       "      <td>0</td>\n",
       "      <td>0</td>\n",
       "      <td>0</td>\n",
       "    </tr>\n",
       "    <tr>\n",
       "      <th>3</th>\n",
       "      <td>550 N Hayden Rd</td>\n",
       "      <td>{'BusinessAcceptsCreditCards': 'True', 'Restau...</td>\n",
       "      <td>nsNONDHbV7Vudqh21uicqw</td>\n",
       "      <td>Seafood, Restaurants</td>\n",
       "      <td>Scottsdale</td>\n",
       "      <td>{'Monday': '16:0-0:0', 'Tuesday': '16:0-0:0', ...</td>\n",
       "      <td>33.454286</td>\n",
       "      <td>-111.909405</td>\n",
       "      <td>Salt Cellar</td>\n",
       "      <td>85257.0</td>\n",
       "      <td>...</td>\n",
       "      <td>1</td>\n",
       "      <td>0</td>\n",
       "      <td>0</td>\n",
       "      <td>0</td>\n",
       "      <td>0</td>\n",
       "      <td>0</td>\n",
       "      <td>0</td>\n",
       "      <td>0</td>\n",
       "      <td>0</td>\n",
       "      <td>0</td>\n",
       "    </tr>\n",
       "    <tr>\n",
       "      <th>4</th>\n",
       "      <td>3415 West Glendale Ave, Bldg 25A</td>\n",
       "      <td>{'RestaurantsGoodForGroups': 'True', 'Business...</td>\n",
       "      <td>Rs8Wi4OEjeOX7LVlzsXDOA</td>\n",
       "      <td>Restaurants, Mexican, Sushi Bars</td>\n",
       "      <td>Phoenix</td>\n",
       "      <td>{'Monday': '11:0-22:0', 'Tuesday': '11:0-22:0'...</td>\n",
       "      <td>33.537164</td>\n",
       "      <td>-112.132926</td>\n",
       "      <td>Sushi Mocorito</td>\n",
       "      <td>85051.0</td>\n",
       "      <td>...</td>\n",
       "      <td>0</td>\n",
       "      <td>0</td>\n",
       "      <td>0</td>\n",
       "      <td>0</td>\n",
       "      <td>0</td>\n",
       "      <td>0</td>\n",
       "      <td>0</td>\n",
       "      <td>0</td>\n",
       "      <td>0</td>\n",
       "      <td>0</td>\n",
       "    </tr>\n",
       "  </tbody>\n",
       "</table>\n",
       "<p>5 rows × 54 columns</p>\n",
       "</div>"
      ],
      "text/plain": [
       "                            address  \\\n",
       "0           2450 E Indian School Rd   \n",
       "1        13843 N Tatum Blvd, Ste 15   \n",
       "2                  1789 W Jefferson   \n",
       "3                   550 N Hayden Rd   \n",
       "4  3415 West Glendale Ave, Bldg 25A   \n",
       "\n",
       "                                          attributes             business_id  \\\n",
       "0  {'RestaurantsTakeOut': 'True', 'BusinessParkin...  1Dfx3zM-rW4n-31KeC8sJg   \n",
       "1  {'Caters': 'True', 'GoodForKids': 'True', 'Noi...  44YFU284Z3KDEy25QyVoUw   \n",
       "2  {'RestaurantsDelivery': 'False', 'BusinessAcce...  ysfeDcLAYk_MVzfBmyiSTg   \n",
       "3  {'BusinessAcceptsCreditCards': 'True', 'Restau...  nsNONDHbV7Vudqh21uicqw   \n",
       "4  {'RestaurantsGoodForGroups': 'True', 'Business...  Rs8Wi4OEjeOX7LVlzsXDOA   \n",
       "\n",
       "                                          categories        city  \\\n",
       "0  Restaurants, Breakfast & Brunch, Mexican, Taco...     Phoenix   \n",
       "1                               Chinese, Restaurants     Phoenix   \n",
       "2                           Restaurants, Food, Cafes     Phoenix   \n",
       "3                               Seafood, Restaurants  Scottsdale   \n",
       "4                   Restaurants, Mexican, Sushi Bars     Phoenix   \n",
       "\n",
       "                                               hours   latitude   longitude  \\\n",
       "0  {'Monday': '7:0-0:0', 'Tuesday': '7:0-0:0', 'W...  33.495194 -112.028588   \n",
       "1  {'Monday': '11:0-21:0', 'Tuesday': '11:0-21:0'...  33.613020 -111.977036   \n",
       "2                                                  0  33.446805 -112.097129   \n",
       "3  {'Monday': '16:0-0:0', 'Tuesday': '16:0-0:0', ...  33.454286 -111.909405   \n",
       "4  {'Monday': '11:0-22:0', 'Tuesday': '11:0-22:0'...  33.537164 -112.132926   \n",
       "\n",
       "                           name  postal_code    ...      scottsdale  somerton  \\\n",
       "0                     Taco Bell      85016.0    ...               0         0   \n",
       "1  Nee House Chinese Restaurant      85032.0    ...               0         0   \n",
       "2    Vals Getaway DES Cafeteria      85007.0    ...               0         0   \n",
       "3                   Salt Cellar      85257.0    ...               1         0   \n",
       "4                Sushi Mocorito      85051.0    ...               0         0   \n",
       "\n",
       "  sun city  sun city west  sun lakes  surprise  tempe  tolleson  waddell  \\\n",
       "0        0              0          0         0      0         0        0   \n",
       "1        0              0          0         0      0         0        0   \n",
       "2        0              0          0         0      0         0        0   \n",
       "3        0              0          0         0      0         0        0   \n",
       "4        0              0          0         0      0         0        0   \n",
       "\n",
       "   youngtown  \n",
       "0          0  \n",
       "1          0  \n",
       "2          0  \n",
       "3          0  \n",
       "4          0  \n",
       "\n",
       "[5 rows x 54 columns]"
      ]
     },
     "execution_count": 128,
     "metadata": {},
     "output_type": "execute_result"
    }
   ],
   "source": [
    "df.head()"
   ]
  },
  {
   "cell_type": "markdown",
   "metadata": {},
   "source": [
    "### Create a new indicator column that indicates if a restaurant is one of the chain restaurant\n"
   ]
  },
  {
   "cell_type": "code",
   "execution_count": 129,
   "metadata": {},
   "outputs": [],
   "source": [
    "#Create a dictonary where keys are restaurant names, values are occurance of the name in the data frame\n",
    "chain_dict = df.name.value_counts().to_dict()\n",
    "#Store the restaurant names\n",
    "res_names = list(chain_dict.keys())\n",
    "#Make a dictionary where keys are names, values are chain restaurant indicatior, 0 or 1\n",
    "chain_dict = [1 if chain_dict[i]>1 else 0 for i in res_names]\n",
    "chain_dict = pd.Series(chain_dict, index=res_names).to_dict()"
   ]
  },
  {
   "cell_type": "code",
   "execution_count": 130,
   "metadata": {},
   "outputs": [
    {
     "data": {
      "text/html": [
       "<div>\n",
       "<style scoped>\n",
       "    .dataframe tbody tr th:only-of-type {\n",
       "        vertical-align: middle;\n",
       "    }\n",
       "\n",
       "    .dataframe tbody tr th {\n",
       "        vertical-align: top;\n",
       "    }\n",
       "\n",
       "    .dataframe thead th {\n",
       "        text-align: right;\n",
       "    }\n",
       "</style>\n",
       "<table border=\"1\" class=\"dataframe\">\n",
       "  <thead>\n",
       "    <tr style=\"text-align: right;\">\n",
       "      <th></th>\n",
       "      <th>address</th>\n",
       "      <th>attributes</th>\n",
       "      <th>business_id</th>\n",
       "      <th>categories</th>\n",
       "      <th>city</th>\n",
       "      <th>hours</th>\n",
       "      <th>latitude</th>\n",
       "      <th>longitude</th>\n",
       "      <th>name</th>\n",
       "      <th>postal_code</th>\n",
       "      <th>...</th>\n",
       "      <th>somerton</th>\n",
       "      <th>sun city</th>\n",
       "      <th>sun city west</th>\n",
       "      <th>sun lakes</th>\n",
       "      <th>surprise</th>\n",
       "      <th>tempe</th>\n",
       "      <th>tolleson</th>\n",
       "      <th>waddell</th>\n",
       "      <th>youngtown</th>\n",
       "      <th>is_chain</th>\n",
       "    </tr>\n",
       "  </thead>\n",
       "  <tbody>\n",
       "    <tr>\n",
       "      <th>0</th>\n",
       "      <td>2450 E Indian School Rd</td>\n",
       "      <td>{'RestaurantsTakeOut': 'True', 'BusinessParkin...</td>\n",
       "      <td>1Dfx3zM-rW4n-31KeC8sJg</td>\n",
       "      <td>Restaurants, Breakfast &amp; Brunch, Mexican, Taco...</td>\n",
       "      <td>Phoenix</td>\n",
       "      <td>{'Monday': '7:0-0:0', 'Tuesday': '7:0-0:0', 'W...</td>\n",
       "      <td>33.495194</td>\n",
       "      <td>-112.028588</td>\n",
       "      <td>Taco Bell</td>\n",
       "      <td>85016.0</td>\n",
       "      <td>...</td>\n",
       "      <td>0</td>\n",
       "      <td>0</td>\n",
       "      <td>0</td>\n",
       "      <td>0</td>\n",
       "      <td>0</td>\n",
       "      <td>0</td>\n",
       "      <td>0</td>\n",
       "      <td>0</td>\n",
       "      <td>0</td>\n",
       "      <td>1</td>\n",
       "    </tr>\n",
       "    <tr>\n",
       "      <th>1</th>\n",
       "      <td>13843 N Tatum Blvd, Ste 15</td>\n",
       "      <td>{'Caters': 'True', 'GoodForKids': 'True', 'Noi...</td>\n",
       "      <td>44YFU284Z3KDEy25QyVoUw</td>\n",
       "      <td>Chinese, Restaurants</td>\n",
       "      <td>Phoenix</td>\n",
       "      <td>{'Monday': '11:0-21:0', 'Tuesday': '11:0-21:0'...</td>\n",
       "      <td>33.613020</td>\n",
       "      <td>-111.977036</td>\n",
       "      <td>Nee House Chinese Restaurant</td>\n",
       "      <td>85032.0</td>\n",
       "      <td>...</td>\n",
       "      <td>0</td>\n",
       "      <td>0</td>\n",
       "      <td>0</td>\n",
       "      <td>0</td>\n",
       "      <td>0</td>\n",
       "      <td>0</td>\n",
       "      <td>0</td>\n",
       "      <td>0</td>\n",
       "      <td>0</td>\n",
       "      <td>0</td>\n",
       "    </tr>\n",
       "    <tr>\n",
       "      <th>2</th>\n",
       "      <td>1789 W Jefferson</td>\n",
       "      <td>{'RestaurantsDelivery': 'False', 'BusinessAcce...</td>\n",
       "      <td>ysfeDcLAYk_MVzfBmyiSTg</td>\n",
       "      <td>Restaurants, Food, Cafes</td>\n",
       "      <td>Phoenix</td>\n",
       "      <td>0</td>\n",
       "      <td>33.446805</td>\n",
       "      <td>-112.097129</td>\n",
       "      <td>Vals Getaway DES Cafeteria</td>\n",
       "      <td>85007.0</td>\n",
       "      <td>...</td>\n",
       "      <td>0</td>\n",
       "      <td>0</td>\n",
       "      <td>0</td>\n",
       "      <td>0</td>\n",
       "      <td>0</td>\n",
       "      <td>0</td>\n",
       "      <td>0</td>\n",
       "      <td>0</td>\n",
       "      <td>0</td>\n",
       "      <td>0</td>\n",
       "    </tr>\n",
       "    <tr>\n",
       "      <th>3</th>\n",
       "      <td>550 N Hayden Rd</td>\n",
       "      <td>{'BusinessAcceptsCreditCards': 'True', 'Restau...</td>\n",
       "      <td>nsNONDHbV7Vudqh21uicqw</td>\n",
       "      <td>Seafood, Restaurants</td>\n",
       "      <td>Scottsdale</td>\n",
       "      <td>{'Monday': '16:0-0:0', 'Tuesday': '16:0-0:0', ...</td>\n",
       "      <td>33.454286</td>\n",
       "      <td>-111.909405</td>\n",
       "      <td>Salt Cellar</td>\n",
       "      <td>85257.0</td>\n",
       "      <td>...</td>\n",
       "      <td>0</td>\n",
       "      <td>0</td>\n",
       "      <td>0</td>\n",
       "      <td>0</td>\n",
       "      <td>0</td>\n",
       "      <td>0</td>\n",
       "      <td>0</td>\n",
       "      <td>0</td>\n",
       "      <td>0</td>\n",
       "      <td>0</td>\n",
       "    </tr>\n",
       "    <tr>\n",
       "      <th>4</th>\n",
       "      <td>3415 West Glendale Ave, Bldg 25A</td>\n",
       "      <td>{'RestaurantsGoodForGroups': 'True', 'Business...</td>\n",
       "      <td>Rs8Wi4OEjeOX7LVlzsXDOA</td>\n",
       "      <td>Restaurants, Mexican, Sushi Bars</td>\n",
       "      <td>Phoenix</td>\n",
       "      <td>{'Monday': '11:0-22:0', 'Tuesday': '11:0-22:0'...</td>\n",
       "      <td>33.537164</td>\n",
       "      <td>-112.132926</td>\n",
       "      <td>Sushi Mocorito</td>\n",
       "      <td>85051.0</td>\n",
       "      <td>...</td>\n",
       "      <td>0</td>\n",
       "      <td>0</td>\n",
       "      <td>0</td>\n",
       "      <td>0</td>\n",
       "      <td>0</td>\n",
       "      <td>0</td>\n",
       "      <td>0</td>\n",
       "      <td>0</td>\n",
       "      <td>0</td>\n",
       "      <td>1</td>\n",
       "    </tr>\n",
       "  </tbody>\n",
       "</table>\n",
       "<p>5 rows × 55 columns</p>\n",
       "</div>"
      ],
      "text/plain": [
       "                            address  \\\n",
       "0           2450 E Indian School Rd   \n",
       "1        13843 N Tatum Blvd, Ste 15   \n",
       "2                  1789 W Jefferson   \n",
       "3                   550 N Hayden Rd   \n",
       "4  3415 West Glendale Ave, Bldg 25A   \n",
       "\n",
       "                                          attributes             business_id  \\\n",
       "0  {'RestaurantsTakeOut': 'True', 'BusinessParkin...  1Dfx3zM-rW4n-31KeC8sJg   \n",
       "1  {'Caters': 'True', 'GoodForKids': 'True', 'Noi...  44YFU284Z3KDEy25QyVoUw   \n",
       "2  {'RestaurantsDelivery': 'False', 'BusinessAcce...  ysfeDcLAYk_MVzfBmyiSTg   \n",
       "3  {'BusinessAcceptsCreditCards': 'True', 'Restau...  nsNONDHbV7Vudqh21uicqw   \n",
       "4  {'RestaurantsGoodForGroups': 'True', 'Business...  Rs8Wi4OEjeOX7LVlzsXDOA   \n",
       "\n",
       "                                          categories        city  \\\n",
       "0  Restaurants, Breakfast & Brunch, Mexican, Taco...     Phoenix   \n",
       "1                               Chinese, Restaurants     Phoenix   \n",
       "2                           Restaurants, Food, Cafes     Phoenix   \n",
       "3                               Seafood, Restaurants  Scottsdale   \n",
       "4                   Restaurants, Mexican, Sushi Bars     Phoenix   \n",
       "\n",
       "                                               hours   latitude   longitude  \\\n",
       "0  {'Monday': '7:0-0:0', 'Tuesday': '7:0-0:0', 'W...  33.495194 -112.028588   \n",
       "1  {'Monday': '11:0-21:0', 'Tuesday': '11:0-21:0'...  33.613020 -111.977036   \n",
       "2                                                  0  33.446805 -112.097129   \n",
       "3  {'Monday': '16:0-0:0', 'Tuesday': '16:0-0:0', ...  33.454286 -111.909405   \n",
       "4  {'Monday': '11:0-22:0', 'Tuesday': '11:0-22:0'...  33.537164 -112.132926   \n",
       "\n",
       "                           name  postal_code    ...     somerton  sun city  \\\n",
       "0                     Taco Bell      85016.0    ...            0         0   \n",
       "1  Nee House Chinese Restaurant      85032.0    ...            0         0   \n",
       "2    Vals Getaway DES Cafeteria      85007.0    ...            0         0   \n",
       "3                   Salt Cellar      85257.0    ...            0         0   \n",
       "4                Sushi Mocorito      85051.0    ...            0         0   \n",
       "\n",
       "  sun city west  sun lakes  surprise  tempe  tolleson  waddell  youngtown  \\\n",
       "0             0          0         0      0         0        0          0   \n",
       "1             0          0         0      0         0        0          0   \n",
       "2             0          0         0      0         0        0          0   \n",
       "3             0          0         0      0         0        0          0   \n",
       "4             0          0         0      0         0        0          0   \n",
       "\n",
       "   is_chain  \n",
       "0         1  \n",
       "1         0  \n",
       "2         0  \n",
       "3         0  \n",
       "4         1  \n",
       "\n",
       "[5 rows x 55 columns]"
      ]
     },
     "execution_count": 130,
     "metadata": {},
     "output_type": "execute_result"
    }
   ],
   "source": [
    "#Based on the dictonary above, create an indicotr column\n",
    "is_chain = [chain_dict[i] for i in df.name]\n",
    "is_chain = pd.Series(is_chain, index=df.index)\n",
    "df[\"is_chain\"] = is_chain\n",
    "df.head()"
   ]
  },
  {
   "cell_type": "markdown",
   "metadata": {},
   "source": [
    "# Drop observation of food trucks\n",
    "There are some missing values in the address column. They are mostly due to the observation are food trucks, instead of restaurants. Since I want to focus on the restaurant, I drop the obs of food trucks.\n"
   ]
  },
  {
   "cell_type": "code",
   "execution_count": 131,
   "metadata": {},
   "outputs": [
    {
     "data": {
      "text/plain": [
       "7528"
      ]
     },
     "execution_count": 131,
     "metadata": {},
     "output_type": "execute_result"
    }
   ],
   "source": [
    "df = df[~df[\"categories\"].str.contains(\"Food Trucks\",na=False)]\n",
    "len(df)"
   ]
  },
  {
   "cell_type": "markdown",
   "metadata": {},
   "source": [
    "### Create a new column that contains the number of neighbor restaurant within 0.5 mile"
   ]
  },
  {
   "cell_type": "code",
   "execution_count": 312,
   "metadata": {},
   "outputs": [],
   "source": [
    "#!pip install --user geopy\n",
    "import geopy.distance"
   ]
  },
  {
   "cell_type": "code",
   "execution_count": 316,
   "metadata": {},
   "outputs": [],
   "source": [
    "#Define a function that calculate the distance between two restaurants\n",
    "def res_dis(coords_1,coords_2):\n",
    "    '''Input: two list of coordinates of the two restaurant\n",
    "        return: the distance between them'''\n",
    "    return (geopy.distance.geodesic(coords_1, coords_2).miles)"
   ]
  },
  {
   "cell_type": "code",
   "execution_count": 322,
   "metadata": {},
   "outputs": [],
   "source": [
    "#Define a tuple to store the distances between restaurants\n",
    "dis_tup = []\n",
    "for i in range(len(df)):\n",
    "    coords_1 = [df.latitude.iloc[i], df.longitude.iloc[i]]\n",
    "    dis = []\n",
    "    for j in range(len(df)):\n",
    "        coords_2 = [df.latitude.iloc[j], df.longitude.iloc[j]]\n",
    "        dis.append(res_dis(coords_1,coords_2))\n",
    "    dis_tup.append(dis)"
   ]
  },
  {
   "cell_type": "code",
   "execution_count": 417,
   "metadata": {},
   "outputs": [],
   "source": [
    "#output the distance matrix as a csv file\n",
    "#pd.DataFrame(dis_tup).to_csv(\"distance.csv\")"
   ]
  },
  {
   "cell_type": "code",
   "execution_count": 344,
   "metadata": {},
   "outputs": [
    {
     "data": {
      "text/html": [
       "<div>\n",
       "<style scoped>\n",
       "    .dataframe tbody tr th:only-of-type {\n",
       "        vertical-align: middle;\n",
       "    }\n",
       "\n",
       "    .dataframe tbody tr th {\n",
       "        vertical-align: top;\n",
       "    }\n",
       "\n",
       "    .dataframe thead th {\n",
       "        text-align: right;\n",
       "    }\n",
       "</style>\n",
       "<table border=\"1\" class=\"dataframe\">\n",
       "  <thead>\n",
       "    <tr style=\"text-align: right;\">\n",
       "      <th></th>\n",
       "      <th>address</th>\n",
       "      <th>attributes</th>\n",
       "      <th>business_id</th>\n",
       "      <th>categories</th>\n",
       "      <th>city</th>\n",
       "      <th>hours</th>\n",
       "      <th>latitude</th>\n",
       "      <th>longitude</th>\n",
       "      <th>name</th>\n",
       "      <th>postal_code</th>\n",
       "      <th>review_count</th>\n",
       "      <th>stars</th>\n",
       "      <th>state</th>\n",
       "      <th>is_closed</th>\n",
       "      <th>weekly_hours</th>\n",
       "      <th>county</th>\n",
       "      <th>is_chain</th>\n",
       "      <th>neighbors</th>\n",
       "    </tr>\n",
       "  </thead>\n",
       "  <tbody>\n",
       "    <tr>\n",
       "      <th>11</th>\n",
       "      <td>2450 E Indian School Rd</td>\n",
       "      <td>{'RestaurantsTakeOut': 'True', 'BusinessParkin...</td>\n",
       "      <td>1Dfx3zM-rW4n-31KeC8sJg</td>\n",
       "      <td>Restaurants, Breakfast &amp; Brunch, Mexican, Taco...</td>\n",
       "      <td>Phoenix</td>\n",
       "      <td>{'Monday': '7:0-0:0', 'Tuesday': '7:0-0:0', 'W...</td>\n",
       "      <td>33.495194</td>\n",
       "      <td>-112.028588</td>\n",
       "      <td>Taco Bell</td>\n",
       "      <td>85016</td>\n",
       "      <td>18</td>\n",
       "      <td>3.0</td>\n",
       "      <td>AZ</td>\n",
       "      <td>0</td>\n",
       "      <td>50.0</td>\n",
       "      <td>Maricopa County</td>\n",
       "      <td>1</td>\n",
       "      <td>16</td>\n",
       "    </tr>\n",
       "    <tr>\n",
       "      <th>78</th>\n",
       "      <td>13843 N Tatum Blvd, Ste 15</td>\n",
       "      <td>{'Caters': 'True', 'GoodForKids': 'True', 'Noi...</td>\n",
       "      <td>44YFU284Z3KDEy25QyVoUw</td>\n",
       "      <td>Chinese, Restaurants</td>\n",
       "      <td>Phoenix</td>\n",
       "      <td>{'Monday': '11:0-21:0', 'Tuesday': '11:0-21:0'...</td>\n",
       "      <td>33.613020</td>\n",
       "      <td>-111.977036</td>\n",
       "      <td>Nee House Chinese Restaurant</td>\n",
       "      <td>85032</td>\n",
       "      <td>269</td>\n",
       "      <td>3.5</td>\n",
       "      <td>AZ</td>\n",
       "      <td>0</td>\n",
       "      <td>71.5</td>\n",
       "      <td>Maricopa County</td>\n",
       "      <td>0</td>\n",
       "      <td>5</td>\n",
       "    </tr>\n",
       "    <tr>\n",
       "      <th>133</th>\n",
       "      <td>1789 W Jefferson</td>\n",
       "      <td>{'RestaurantsDelivery': 'False', 'BusinessAcce...</td>\n",
       "      <td>ysfeDcLAYk_MVzfBmyiSTg</td>\n",
       "      <td>Restaurants, Food, Cafes</td>\n",
       "      <td>Phoenix</td>\n",
       "      <td>0</td>\n",
       "      <td>33.446806</td>\n",
       "      <td>-112.097129</td>\n",
       "      <td>Vals Getaway DES Cafeteria</td>\n",
       "      <td>85007</td>\n",
       "      <td>14</td>\n",
       "      <td>3.0</td>\n",
       "      <td>AZ</td>\n",
       "      <td>0</td>\n",
       "      <td>0.0</td>\n",
       "      <td>Maricopa County</td>\n",
       "      <td>0</td>\n",
       "      <td>9</td>\n",
       "    </tr>\n",
       "    <tr>\n",
       "      <th>162</th>\n",
       "      <td>550 N Hayden Rd</td>\n",
       "      <td>{'BusinessAcceptsCreditCards': 'True', 'Restau...</td>\n",
       "      <td>nsNONDHbV7Vudqh21uicqw</td>\n",
       "      <td>Seafood, Restaurants</td>\n",
       "      <td>Scottsdale</td>\n",
       "      <td>{'Monday': '16:0-0:0', 'Tuesday': '16:0-0:0', ...</td>\n",
       "      <td>33.454286</td>\n",
       "      <td>-111.909405</td>\n",
       "      <td>Salt Cellar</td>\n",
       "      <td>85257</td>\n",
       "      <td>526</td>\n",
       "      <td>3.5</td>\n",
       "      <td>AZ</td>\n",
       "      <td>0</td>\n",
       "      <td>56.0</td>\n",
       "      <td>Maricopa County</td>\n",
       "      <td>0</td>\n",
       "      <td>5</td>\n",
       "    </tr>\n",
       "    <tr>\n",
       "      <th>181</th>\n",
       "      <td>3415 West Glendale Ave, Bldg 25A</td>\n",
       "      <td>{'RestaurantsGoodForGroups': 'True', 'Business...</td>\n",
       "      <td>Rs8Wi4OEjeOX7LVlzsXDOA</td>\n",
       "      <td>Restaurants, Mexican, Sushi Bars</td>\n",
       "      <td>Phoenix</td>\n",
       "      <td>{'Monday': '11:0-22:0', 'Tuesday': '11:0-22:0'...</td>\n",
       "      <td>33.537164</td>\n",
       "      <td>-112.132926</td>\n",
       "      <td>Sushi Mocorito</td>\n",
       "      <td>85051</td>\n",
       "      <td>9</td>\n",
       "      <td>3.0</td>\n",
       "      <td>AZ</td>\n",
       "      <td>0</td>\n",
       "      <td>79.0</td>\n",
       "      <td>Maricopa County</td>\n",
       "      <td>1</td>\n",
       "      <td>12</td>\n",
       "    </tr>\n",
       "  </tbody>\n",
       "</table>\n",
       "</div>"
      ],
      "text/plain": [
       "                              address  \\\n",
       "11            2450 E Indian School Rd   \n",
       "78         13843 N Tatum Blvd, Ste 15   \n",
       "133                  1789 W Jefferson   \n",
       "162                   550 N Hayden Rd   \n",
       "181  3415 West Glendale Ave, Bldg 25A   \n",
       "\n",
       "                                            attributes  \\\n",
       "11   {'RestaurantsTakeOut': 'True', 'BusinessParkin...   \n",
       "78   {'Caters': 'True', 'GoodForKids': 'True', 'Noi...   \n",
       "133  {'RestaurantsDelivery': 'False', 'BusinessAcce...   \n",
       "162  {'BusinessAcceptsCreditCards': 'True', 'Restau...   \n",
       "181  {'RestaurantsGoodForGroups': 'True', 'Business...   \n",
       "\n",
       "                business_id  \\\n",
       "11   1Dfx3zM-rW4n-31KeC8sJg   \n",
       "78   44YFU284Z3KDEy25QyVoUw   \n",
       "133  ysfeDcLAYk_MVzfBmyiSTg   \n",
       "162  nsNONDHbV7Vudqh21uicqw   \n",
       "181  Rs8Wi4OEjeOX7LVlzsXDOA   \n",
       "\n",
       "                                            categories        city  \\\n",
       "11   Restaurants, Breakfast & Brunch, Mexican, Taco...     Phoenix   \n",
       "78                                Chinese, Restaurants     Phoenix   \n",
       "133                           Restaurants, Food, Cafes     Phoenix   \n",
       "162                               Seafood, Restaurants  Scottsdale   \n",
       "181                   Restaurants, Mexican, Sushi Bars     Phoenix   \n",
       "\n",
       "                                                 hours   latitude   longitude  \\\n",
       "11   {'Monday': '7:0-0:0', 'Tuesday': '7:0-0:0', 'W...  33.495194 -112.028588   \n",
       "78   {'Monday': '11:0-21:0', 'Tuesday': '11:0-21:0'...  33.613020 -111.977036   \n",
       "133                                                  0  33.446806 -112.097129   \n",
       "162  {'Monday': '16:0-0:0', 'Tuesday': '16:0-0:0', ...  33.454286 -111.909405   \n",
       "181  {'Monday': '11:0-22:0', 'Tuesday': '11:0-22:0'...  33.537164 -112.132926   \n",
       "\n",
       "                             name postal_code  review_count  stars state  \\\n",
       "11                      Taco Bell       85016            18    3.0    AZ   \n",
       "78   Nee House Chinese Restaurant       85032           269    3.5    AZ   \n",
       "133    Vals Getaway DES Cafeteria       85007            14    3.0    AZ   \n",
       "162                   Salt Cellar       85257           526    3.5    AZ   \n",
       "181                Sushi Mocorito       85051             9    3.0    AZ   \n",
       "\n",
       "     is_closed  weekly_hours           county  is_chain  neighbors  \n",
       "11           0          50.0  Maricopa County         1         16  \n",
       "78           0          71.5  Maricopa County         0          5  \n",
       "133          0           0.0  Maricopa County         0          9  \n",
       "162          0          56.0  Maricopa County         0          5  \n",
       "181          0          79.0  Maricopa County         1         12  "
      ]
     },
     "execution_count": 344,
     "metadata": {},
     "output_type": "execute_result"
    }
   ],
   "source": [
    "#Now count how many restaurant within 1 mile\n",
    "neighbors=[]\n",
    "for i in range(len(dis_tup)):\n",
    "    neighbor = sum([1 for j in dis_tup[i] if j < 0.5])\n",
    "    neighbors.append(neighbor)\n",
    "    \n",
    "#Add the list as a new column to the data frame\n",
    "neighbors = pd.Series(neighbors,index=df.index)\n",
    "df[\"neighbors\"] = neighbors\n",
    "df.head()"
   ]
  },
  {
   "cell_type": "code",
   "execution_count": 345,
   "metadata": {},
   "outputs": [
    {
     "data": {
      "text/plain": [
       "<matplotlib.axes._subplots.AxesSubplot at 0x1aece7f0b70>"
      ]
     },
     "execution_count": 345,
     "metadata": {},
     "output_type": "execute_result"
    },
    {
     "data": {
      "image/png": "[encoded data removed]",
      "text/plain": [
       "<Figure size 432x288 with 1 Axes>"
      ]
     },
     "metadata": {
      "needs_background": "light"
     },
     "output_type": "display_data"
    }
   ],
   "source": [
    "sns.distplot(a=list(df.neighbors))"
   ]
  },
  {
   "cell_type": "markdown",
   "metadata": {},
   "source": [
    "### Create dummies variable with attributes"
   ]
  },
  {
   "cell_type": "code",
   "execution_count": 349,
   "metadata": {},
   "outputs": [
    {
     "data": {
      "text/plain": [
       "39"
      ]
     },
     "execution_count": 349,
     "metadata": {},
     "output_type": "execute_result"
    }
   ],
   "source": [
    "#Make categories column a tuple\n",
    "attributes = [list(i.keys()) for i in df.attributes.fillna(\"\") if i!=\"\"]\n",
    "#Make this tuple a flat list\n",
    "attributes = [i for t in attributes for i in t]\n",
    "#Find all unique attributes\n",
    "unique_att = list(pd.Series(categories).unique())\n",
    "len(unique_att)"
   ]
  },
  {
   "cell_type": "code",
   "execution_count": 353,
   "metadata": {},
   "outputs": [],
   "source": [
    "#Define a data frame with dummy attribute\n",
    "att_df = pd.DataFrame(np.zeros([len(df),len(unique_att)]),columns=unique_att)"
   ]
  },
  {
   "cell_type": "code",
   "execution_count": 355,
   "metadata": {},
   "outputs": [],
   "source": [
    "for i in range(len(att_df)):\n",
    "    attributes_col = df.attributes.fillna(\"\")\n",
    "    if attributes_col.iloc[i]!=\"\":\n",
    "        atts = attributes_col.iloc[i]\n",
    "        for j in list(atts.keys()):\n",
    "            if atts[j]==\"True\":\n",
    "                att_df.at[i,j]=1\n",
    "                "
   ]
  },
  {
   "cell_type": "code",
   "execution_count": 372,
   "metadata": {},
   "outputs": [],
   "source": [
    "#Now merge the attribute dataframe to the original dataframe\n",
    "att_df.index = df.index\n",
    "df = pd.concat([df, att_df],sort=False,axis=1)"
   ]
  },
  {
   "cell_type": "code",
   "execution_count": 135,
   "metadata": {},
   "outputs": [],
   "source": [
    "#Output the processed dataset\n",
    "df.to_csv(\"processed_details.csv\",index=False)"
   ]
  },
  {
   "cell_type": "code",
   "execution_count": null,
   "metadata": {},
   "outputs": [],
   "source": []
  },
  {
   "cell_type": "code",
   "execution_count": null,
   "metadata": {},
   "outputs": [],
   "source": []
  },
  {
   "cell_type": "code",
   "execution_count": null,
   "metadata": {},
   "outputs": [],
   "source": []
  },
  {
   "cell_type": "code",
   "execution_count": null,
   "metadata": {},
   "outputs": [],
   "source": []
  },
  {
   "cell_type": "code",
   "execution_count": null,
   "metadata": {},
   "outputs": [],
   "source": []
  }
 ],
 "metadata": {
  "kernelspec": {
   "display_name": "Python 3",
   "language": "python",
   "name": "python3"
  },
  "language_info": {
   "codemirror_mode": {
    "name": "ipython",
    "version": 3
   },
   "file_extension": ".py",
   "mimetype": "text/x-python",
   "name": "python",
   "nbconvert_exporter": "python",
   "pygments_lexer": "ipython3",
   "version": "3.7.1"
  }
 },
 "nbformat": 4,
 "nbformat_minor": 2
}
