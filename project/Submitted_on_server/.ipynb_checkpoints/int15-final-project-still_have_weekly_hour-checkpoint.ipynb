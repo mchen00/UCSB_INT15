{
 "cells": [
  {
   "cell_type": "markdown",
   "metadata": {},
   "source": [
    "# INT15 FINAL PROJECT\n",
    "\n",
    "## Due Date:  June 12, midnight"
   ]
  },
  {
   "cell_type": "markdown",
   "metadata": {},
   "source": [
    "<span style=\"color:red\">\n",
    "    <h1> Predicting Restaurant Closure with Yelp Data </h1>\n",
    "</span>"
   ]
  },
  {
   "cell_type": "markdown",
   "metadata": {},
   "source": [
    "<span style=\"color:blue\">\n",
    "<h2> Names: Mingxi Chen </h2>\n",
    "</span>"
   ]
  },
  {
   "cell_type": "code",
   "execution_count": 1,
   "metadata": {},
   "outputs": [],
   "source": [
    "import json\n",
    "import pandas as pd\n",
    "import numpy as np\n",
    "import matplotlib.pyplot as plt\n",
    "import seaborn as sns\n",
    "import codecs\n",
    "import requests\n",
    "import yaml\n",
    "\n",
    "%matplotlib inline"
   ]
  },
  {
   "cell_type": "markdown",
   "metadata": {},
   "source": [
    "# First, load the original Yelp business detail dataset\n",
    "The dataset is originally in json format. I will load the dataset that contains business details."
   ]
  },
  {
   "cell_type": "markdown",
   "metadata": {},
   "source": [
    "<span style=\"color:red\">\n",
    "    <h3> The codes I comment out below are run with original json data file that is too large to upload, so I output the result of this part and so I can upload and import it. </h3>\n",
    "</span>"
   ]
  },
  {
   "cell_type": "code",
   "execution_count": 2,
   "metadata": {},
   "outputs": [],
   "source": [
    "#The directory where the data is located\n",
    "#path = \"C:/Users/Andy Chan/desktop/INT15/project/data/yelp_dataset_1/\"\n",
    "#The filename of the data to be loaded\n",
    "#filename = \"business.json\"\n",
    "\n",
    "#Read the business information\n",
    "#business = []\n",
    "#with open(path+filename,encoding=\"utf-8\") as json_file:\n",
    " #   for i in json_file:\n",
    "  #      business.append(json.loads(i))"
   ]
  },
  {
   "cell_type": "markdown",
   "metadata": {},
   "source": [
    "See what features are in the dataset."
   ]
  },
  {
   "cell_type": "code",
   "execution_count": 3,
   "metadata": {},
   "outputs": [],
   "source": [
    "#buss_features = business[0].keys()\n",
    "#print(buss_features)"
   ]
  },
  {
   "cell_type": "markdown",
   "metadata": {},
   "source": [
    "I only want the restaurant data."
   ]
  },
  {
   "cell_type": "code",
   "execution_count": 4,
   "metadata": {},
   "outputs": [],
   "source": [
    "#Only keep restaurant data\n",
    "#restaurant = [i for i in business if \"Restaurants\" in i[\"categories\"]]\n",
    "#Define a dataframe with the json file\n",
    "#business_df = pd.DataFrame(business)\n",
    "#res_df = business_df[business_df[\"categories\"].str.contains(\"Restaurant\",na=False)]\n",
    "#res_df.head()"
   ]
  },
  {
   "cell_type": "markdown",
   "metadata": {},
   "source": [
    "Also, I am only interested the restaurants in Arizona."
   ]
  },
  {
   "cell_type": "code",
   "execution_count": 5,
   "metadata": {},
   "outputs": [],
   "source": [
    "#Filter out the restaurant that is not in Arizona\n",
    "#az_res = res_df[res_df[\"state\"]==\"AZ\"]\n",
    "#See how many observations left\n",
    "#len(az_res)"
   ]
  },
  {
   "cell_type": "markdown",
   "metadata": {},
   "source": [
    "# Target Label Creation\n",
    "**In this setion, I will derive the most recent status of the restaurants using Yelp API to see that if they become closed permanently or not. And label them with is_closed column, 1 saying a restaurant is get closed while 0 indicates still being open.**"
   ]
  },
  {
   "cell_type": "code",
   "execution_count": 6,
   "metadata": {},
   "outputs": [],
   "source": [
    "#see the distribution of open restaurants\n",
    "#sns.distplot(a=list(az_res[\"is_open\"]))"
   ]
  },
  {
   "cell_type": "markdown",
   "metadata": {},
   "source": [
    "**I am not interested in the restaurants that was already closed when the data was collected.**"
   ]
  },
  {
   "cell_type": "code",
   "execution_count": 7,
   "metadata": {},
   "outputs": [],
   "source": [
    "#Keep the restaurants that are open\n",
    "#df = az_res[az_res[\"is_open\"]==1]\n",
    "#len(df)"
   ]
  },
  {
   "cell_type": "markdown",
   "metadata": {},
   "source": [
    "**Now I will derive the status using two different API key, since the daily limit for each key is 5000.**"
   ]
  },
  {
   "cell_type": "code",
   "execution_count": 8,
   "metadata": {},
   "outputs": [],
   "source": [
    "#Define two API keys to be used\n",
    "#APIKey1={\"Client ID\":\"tNCX-W8WTULG5f1ADW_9BQ\", \\\n",
    "#        \"API Key\":\"f17NhWeGw3eZ2TvoJHH4cFMMYNvlvoI6okPSoRBxrMWZQwunMsAMtwF2ICpy-_Hd_o9K3tTCwmI_4G2brOD0710AEsNRDpTVQr2hj7ExNjO_JFlg_Ogy3jdpw0H9XHYx\"}\n",
    "\n",
    "#APIKey2={\"Client ID\":\"x2S-T8-hiJkP_LZ1t4okQ\", \\\n",
    " #        \"API Key\":\"1-JFV7Rj8XFjSIV0Qr7w6aJ-7G0N02nJirOTz0ldtD5ley7KQ1uvG_Ug5N3K7FB85blIvJ5aOTvtX4B8XmXjr-fG_qOYH8QNdQaW54p9opbExyKp1B1n3FHSdqQJW3Yx\"}\n",
    "\n"
   ]
  },
  {
   "cell_type": "code",
   "execution_count": 9,
   "metadata": {},
   "outputs": [],
   "source": [
    "#Since the request limiti of Yelp API is 5000 daily, I need to get the label with two calls\n",
    "#df1 = df.iloc[:4000]\n",
    "#df2 = df.iloc[4000:]"
   ]
  },
  {
   "cell_type": "code",
   "execution_count": 10,
   "metadata": {},
   "outputs": [],
   "source": [
    "#Set up headers with my API key\n",
    "#headers = {'Authorization': 'Bearer %s' % YelpApiKey.APIKey2['API Key']}"
   ]
  },
  {
   "cell_type": "code",
   "execution_count": 11,
   "metadata": {},
   "outputs": [],
   "source": [
    "#Define a function that get a the new is_open column\n",
    "def get_is_open(endpnt, business_id, headers):\n",
    "    if business_id!=\"\":\n",
    "        req = requests.get(endpnt+business_id,headers=headers)\n",
    "        json_data = json.loads(req.text)\n",
    "        try:\n",
    "            return (json_data[\"is_closed\"])\n",
    "        except:\n",
    "            return(\"\")\n",
    "    else:\n",
    "        return(\"\")"
   ]
  },
  {
   "cell_type": "code",
   "execution_count": 12,
   "metadata": {},
   "outputs": [],
   "source": [
    "#Define the API endpoint\n",
    "#endpoint = \"https://api.yelp.com/v3/businesses/\"\n",
    "#Derive is_closed label\n",
    "#is_open_2 = [get_is_open(endpoint, i, headers) for i in df1.business_id]"
   ]
  },
  {
   "cell_type": "code",
   "execution_count": 13,
   "metadata": {},
   "outputs": [],
   "source": [
    "#Set up headers with my API key\n",
    "#headers = {'Authorization': 'Bearer %s' % YelpApiKey.APIKey1['API Key']}\n",
    "#Derive is_closed label\n",
    "#is_open_1 = [get_is_open(endpoint, i, headers) for i in df2.business_id]"
   ]
  },
  {
   "cell_type": "code",
   "execution_count": 14,
   "metadata": {},
   "outputs": [],
   "source": [
    "#Merge two list\n",
    "#is_closed = is_open_2 + is_open_1\n",
    "#This column is the target label that indicates if a previous open restaurant becomes closed\n",
    "\n",
    "#Add this column to the data frame\n",
    "#is_closed = pd.Series(is_closed, index=df.index)\n",
    "#df[\"is_closed\"] = is_closed\n",
    "\n",
    "#Check missing values\n",
    "#df.is_closed.value_counts()"
   ]
  },
  {
   "cell_type": "markdown",
   "metadata": {},
   "source": [
    "**We have a lot of missing values, and they are my target label. \n",
    "I think this is due to the unmatched business id, so I will use Yelp API to get the correct business id.**"
   ]
  },
  {
   "cell_type": "code",
   "execution_count": 15,
   "metadata": {},
   "outputs": [],
   "source": [
    "#Get the index of the missing values\n",
    "#missing_idx = [i for i in range(len(is_closed)) if is_closed.iloc[i]==\"\"]"
   ]
  },
  {
   "cell_type": "code",
   "execution_count": 16,
   "metadata": {},
   "outputs": [],
   "source": [
    "#Define a function to search the correct business id\n",
    "def search_id(buss_detail, headers):\n",
    "    '''Input: a pandas series that contain the business detials, including name, city, state\n",
    "            headers = api token\n",
    "        return: a valid business id or \"\" '''\n",
    "    #Define the endpoint\n",
    "    ep = \"https://api.yelp.com/v3/businesses/matches\"\n",
    "    try: \n",
    "        #Define the parameters\n",
    "        params = {'city':buss_detail[\"city\"], \\\n",
    "                  'state':buss_detail[\"state\"], \\\n",
    "                  \"country\":\"US\", \\\n",
    "                  \"address1\":buss_detail[\"address\"], \\\n",
    "                  \"name\":buss_detail[\"name\"]}\n",
    "    except:\n",
    "        return(\"\")\n",
    "    #Request data from Yelp API\n",
    "    js = requests.get(ep, params=params, headers=headers)\n",
    "    try:\n",
    "        return(json.loads(js.text)[\"businesses\"][0][\"id\"])\n",
    "    except:\n",
    "        return(\"\")"
   ]
  },
  {
   "cell_type": "code",
   "execution_count": 17,
   "metadata": {},
   "outputs": [],
   "source": [
    "#Set up headers with my API key\n",
    "#headers = {'Authorization': 'Bearer %s' % YelpApiKey.APIKey1['API Key']}\n",
    "#correct_id = [search_id(df.iloc[i],headers) for i in missing_idx]"
   ]
  },
  {
   "cell_type": "code",
   "execution_count": 18,
   "metadata": {},
   "outputs": [],
   "source": [
    "#Use another API token\n",
    "#headers = {'Authorization': 'Bearer %s' % YelpApiKey.APIKey2['API Key']}\n",
    "#Derive is_closed label again\n",
    "#is_closed_3 = [get_is_open(endpoint, i, headers) for i in correct_id]"
   ]
  },
  {
   "cell_type": "code",
   "execution_count": 19,
   "metadata": {},
   "outputs": [],
   "source": [
    "#for i in range(len(missing_idx)):\n",
    " #   is_closed.iat[missing_idx[i]] = is_closed_3[i]\n",
    "#Updata the is_closed column in the dataframe\n",
    "#df[\"is_closed\"] = is_closed\n",
    "#df.is_closed.value_counts()"
   ]
  },
  {
   "cell_type": "markdown",
   "metadata": {},
   "source": [
    "**There are still 32 missing values in the target is_closed label. I will output the labeled dataset the drive, and lebel these 32 restaurants manually by doing reserach on Yelp and Google.**"
   ]
  },
  {
   "cell_type": "code",
   "execution_count": 20,
   "metadata": {},
   "outputs": [],
   "source": [
    "#Drop the is_open column since we know they are all true\n",
    "#df = df.drop(\"is_open\",axis=1)"
   ]
  },
  {
   "cell_type": "code",
   "execution_count": 21,
   "metadata": {},
   "outputs": [],
   "source": [
    "#Output the processed dataset\n",
    "#df.to_csv(\"Arizona_restaurants.csv\",index=False)`"
   ]
  },
  {
   "cell_type": "markdown",
   "metadata": {},
   "source": [
    "# Load the well-labeled dataset"
   ]
  },
  {
   "cell_type": "code",
   "execution_count": 22,
   "metadata": {},
   "outputs": [
    {
     "name": "stdout",
     "output_type": "stream",
     "text": [
      "--2019-06-15 03:55:56--  https://docs.google.com/uc?export=download&confirm=&id=1p3ZM7CbBAH1c-fBOoYm955kxy5XhcAYs\n",
      "Resolving docs.google.com (docs.google.com)... 74.125.142.113, 74.125.142.101, 74.125.142.138, ...\n",
      "Connecting to docs.google.com (docs.google.com)|74.125.142.113|:443... connected.\n",
      "HTTP request sent, awaiting response... 302 Moved Temporarily\n",
      "Location: https://doc-0g-6c-docs.googleusercontent.com/docs/securesc/ha0ro937gcuc7l7deffksulhg5h7mbp1/umdmq3qiqmdhuvph1rdse4l59efg7p1t/1560564000000/18419957613213493679/*/1p3ZM7CbBAH1c-fBOoYm955kxy5XhcAYs?e=download [following]\n",
      "Warning: wildcards not supported in HTTP.\n",
      "--2019-06-15 03:55:57--  https://doc-0g-6c-docs.googleusercontent.com/docs/securesc/ha0ro937gcuc7l7deffksulhg5h7mbp1/umdmq3qiqmdhuvph1rdse4l59efg7p1t/1560564000000/18419957613213493679/*/1p3ZM7CbBAH1c-fBOoYm955kxy5XhcAYs?e=download\n",
      "Resolving doc-0g-6c-docs.googleusercontent.com (doc-0g-6c-docs.googleusercontent.com)... 74.125.142.132, 2607:f8b0:400e:c08::84\n",
      "Connecting to doc-0g-6c-docs.googleusercontent.com (doc-0g-6c-docs.googleusercontent.com)|74.125.142.132|:443... connected.\n",
      "HTTP request sent, awaiting response... 200 OK\n",
      "Length: unspecified [text/csv]\n",
      "Saving to: ‘Arizona_restaurants.csv’\n",
      "\n",
      "Arizona_restaurants     [ <=>                ]   7.91M  --.-KB/s    in 0.06s   \n",
      "\n",
      "2019-06-15 03:55:57 (142 MB/s) - ‘Arizona_restaurants.csv’ saved [8292973]\n",
      "\n"
     ]
    }
   ],
   "source": [
    "#Download the csv file from my Google drive\n",
    "!wget --load-cookies /tmp/cookies.txt \"https://docs.google.com/uc?export=download&confirm=$(wget --quiet --save-cookies /tmp/cookies.txt --keep-session-cookies --no-check-certificate 'https://docs.google.com/uc?export=download&id=1p3ZM7CbBAH1c-fBOoYm955kxy5XhcAYs' -O- | sed -rn 's/.*confirm=([0-9A-Za-z_]+).*/\\1\\n/p')&id=1p3ZM7CbBAH1c-fBOoYm955kxy5XhcAYs\" -O \"Arizona_restaurants.csv\" && rm -rf /tmp/cookies.txt"
   ]
  },
  {
   "cell_type": "code",
   "execution_count": 23,
   "metadata": {},
   "outputs": [],
   "source": [
    "#Import the well labeled dataset for further analysis\n",
    "df = pd.read_csv(\"Arizona_restaurants.csv\",encoding='unicode_escape')"
   ]
  },
  {
   "cell_type": "markdown",
   "metadata": {},
   "source": [
    "**For the target label, convert False to 0, True to be 1**"
   ]
  },
  {
   "cell_type": "code",
   "execution_count": 24,
   "metadata": {},
   "outputs": [],
   "source": [
    "def label_to_int(label):\n",
    "    '''Input: a stirng of label, \"True\",\"False\",\"0\",or \"1\"\n",
    "        return: an integer, 0 or 1'''\n",
    "    if label==\"TRUE\" or label==\"1\":\n",
    "        return(1)\n",
    "    else:\n",
    "        return(0)"
   ]
  },
  {
   "cell_type": "code",
   "execution_count": 25,
   "metadata": {},
   "outputs": [],
   "source": [
    "#Use the function defined to update the column\n",
    "target_label = pd.Series([label_to_int(i) for i in df.is_closed], index=df.index)\n",
    "df[\"is_closed\"] = target_label"
   ]
  },
  {
   "cell_type": "markdown",
   "metadata": {},
   "source": [
    "## Drop observation of food trucks\n",
    "There are some missing values in the address column. They are mostly due to the observation are food trucks, instead of restaurants. Since I want to focus on the restaurant, I drop the obs of food trucks.\n"
   ]
  },
  {
   "cell_type": "code",
   "execution_count": 26,
   "metadata": {},
   "outputs": [
    {
     "data": {
      "text/plain": [
       "7528"
      ]
     },
     "execution_count": 26,
     "metadata": {},
     "output_type": "execute_result"
    }
   ],
   "source": [
    "df = df[~df[\"categories\"].str.contains(\"Food Trucks\",na=False)]\n",
    "len(df)"
   ]
  },
  {
   "cell_type": "code",
   "execution_count": 27,
   "metadata": {},
   "outputs": [
    {
     "data": {
      "text/html": [
       "<div>\n",
       "<style scoped>\n",
       "    .dataframe tbody tr th:only-of-type {\n",
       "        vertical-align: middle;\n",
       "    }\n",
       "\n",
       "    .dataframe tbody tr th {\n",
       "        vertical-align: top;\n",
       "    }\n",
       "\n",
       "    .dataframe thead th {\n",
       "        text-align: right;\n",
       "    }\n",
       "</style>\n",
       "<table border=\"1\" class=\"dataframe\">\n",
       "  <thead>\n",
       "    <tr style=\"text-align: right;\">\n",
       "      <th></th>\n",
       "      <th>address</th>\n",
       "      <th>attributes</th>\n",
       "      <th>business_id</th>\n",
       "      <th>categories</th>\n",
       "      <th>city</th>\n",
       "      <th>hours</th>\n",
       "      <th>latitude</th>\n",
       "      <th>longitude</th>\n",
       "      <th>name</th>\n",
       "      <th>postal_code</th>\n",
       "      <th>review_count</th>\n",
       "      <th>stars</th>\n",
       "      <th>state</th>\n",
       "      <th>is_closed</th>\n",
       "    </tr>\n",
       "  </thead>\n",
       "  <tbody>\n",
       "    <tr>\n",
       "      <th>0</th>\n",
       "      <td>2450 E Indian School Rd</td>\n",
       "      <td>{'RestaurantsTakeOut': 'True', 'BusinessParkin...</td>\n",
       "      <td>1Dfx3zM-rW4n-31KeC8sJg</td>\n",
       "      <td>Restaurants, Breakfast &amp; Brunch, Mexican, Taco...</td>\n",
       "      <td>Phoenix</td>\n",
       "      <td>{'Monday': '7:0-0:0', 'Tuesday': '7:0-0:0', 'W...</td>\n",
       "      <td>33.495194</td>\n",
       "      <td>-112.028588</td>\n",
       "      <td>Taco Bell</td>\n",
       "      <td>85016.0</td>\n",
       "      <td>18</td>\n",
       "      <td>3.0</td>\n",
       "      <td>AZ</td>\n",
       "      <td>0</td>\n",
       "    </tr>\n",
       "    <tr>\n",
       "      <th>1</th>\n",
       "      <td>13843 N Tatum Blvd, Ste 15</td>\n",
       "      <td>{'Caters': 'True', 'GoodForKids': 'True', 'Noi...</td>\n",
       "      <td>44YFU284Z3KDEy25QyVoUw</td>\n",
       "      <td>Chinese, Restaurants</td>\n",
       "      <td>Phoenix</td>\n",
       "      <td>{'Monday': '11:0-21:0', 'Tuesday': '11:0-21:0'...</td>\n",
       "      <td>33.613020</td>\n",
       "      <td>-111.977036</td>\n",
       "      <td>Nee House Chinese Restaurant</td>\n",
       "      <td>85032.0</td>\n",
       "      <td>269</td>\n",
       "      <td>3.5</td>\n",
       "      <td>AZ</td>\n",
       "      <td>0</td>\n",
       "    </tr>\n",
       "    <tr>\n",
       "      <th>2</th>\n",
       "      <td>1789 W Jefferson</td>\n",
       "      <td>{'RestaurantsDelivery': 'False', 'BusinessAcce...</td>\n",
       "      <td>ysfeDcLAYk_MVzfBmyiSTg</td>\n",
       "      <td>Restaurants, Food, Cafes</td>\n",
       "      <td>Phoenix</td>\n",
       "      <td>0</td>\n",
       "      <td>33.446805</td>\n",
       "      <td>-112.097129</td>\n",
       "      <td>Vals Getaway DES Cafeteria</td>\n",
       "      <td>85007.0</td>\n",
       "      <td>14</td>\n",
       "      <td>3.0</td>\n",
       "      <td>AZ</td>\n",
       "      <td>0</td>\n",
       "    </tr>\n",
       "    <tr>\n",
       "      <th>3</th>\n",
       "      <td>550 N Hayden Rd</td>\n",
       "      <td>{'BusinessAcceptsCreditCards': 'True', 'Restau...</td>\n",
       "      <td>nsNONDHbV7Vudqh21uicqw</td>\n",
       "      <td>Seafood, Restaurants</td>\n",
       "      <td>Scottsdale</td>\n",
       "      <td>{'Monday': '16:0-0:0', 'Tuesday': '16:0-0:0', ...</td>\n",
       "      <td>33.454286</td>\n",
       "      <td>-111.909405</td>\n",
       "      <td>Salt Cellar</td>\n",
       "      <td>85257.0</td>\n",
       "      <td>526</td>\n",
       "      <td>3.5</td>\n",
       "      <td>AZ</td>\n",
       "      <td>0</td>\n",
       "    </tr>\n",
       "    <tr>\n",
       "      <th>4</th>\n",
       "      <td>3415 West Glendale Ave, Bldg 25A</td>\n",
       "      <td>{'RestaurantsGoodForGroups': 'True', 'Business...</td>\n",
       "      <td>Rs8Wi4OEjeOX7LVlzsXDOA</td>\n",
       "      <td>Restaurants, Mexican, Sushi Bars</td>\n",
       "      <td>Phoenix</td>\n",
       "      <td>{'Monday': '11:0-22:0', 'Tuesday': '11:0-22:0'...</td>\n",
       "      <td>33.537164</td>\n",
       "      <td>-112.132926</td>\n",
       "      <td>Sushi Mocorito</td>\n",
       "      <td>85051.0</td>\n",
       "      <td>9</td>\n",
       "      <td>3.0</td>\n",
       "      <td>AZ</td>\n",
       "      <td>0</td>\n",
       "    </tr>\n",
       "  </tbody>\n",
       "</table>\n",
       "</div>"
      ],
      "text/plain": [
       "                            address  \\\n",
       "0           2450 E Indian School Rd   \n",
       "1        13843 N Tatum Blvd, Ste 15   \n",
       "2                  1789 W Jefferson   \n",
       "3                   550 N Hayden Rd   \n",
       "4  3415 West Glendale Ave, Bldg 25A   \n",
       "\n",
       "                                          attributes             business_id  \\\n",
       "0  {'RestaurantsTakeOut': 'True', 'BusinessParkin...  1Dfx3zM-rW4n-31KeC8sJg   \n",
       "1  {'Caters': 'True', 'GoodForKids': 'True', 'Noi...  44YFU284Z3KDEy25QyVoUw   \n",
       "2  {'RestaurantsDelivery': 'False', 'BusinessAcce...  ysfeDcLAYk_MVzfBmyiSTg   \n",
       "3  {'BusinessAcceptsCreditCards': 'True', 'Restau...  nsNONDHbV7Vudqh21uicqw   \n",
       "4  {'RestaurantsGoodForGroups': 'True', 'Business...  Rs8Wi4OEjeOX7LVlzsXDOA   \n",
       "\n",
       "                                          categories        city  \\\n",
       "0  Restaurants, Breakfast & Brunch, Mexican, Taco...     Phoenix   \n",
       "1                               Chinese, Restaurants     Phoenix   \n",
       "2                           Restaurants, Food, Cafes     Phoenix   \n",
       "3                               Seafood, Restaurants  Scottsdale   \n",
       "4                   Restaurants, Mexican, Sushi Bars     Phoenix   \n",
       "\n",
       "                                               hours   latitude   longitude  \\\n",
       "0  {'Monday': '7:0-0:0', 'Tuesday': '7:0-0:0', 'W...  33.495194 -112.028588   \n",
       "1  {'Monday': '11:0-21:0', 'Tuesday': '11:0-21:0'...  33.613020 -111.977036   \n",
       "2                                                  0  33.446805 -112.097129   \n",
       "3  {'Monday': '16:0-0:0', 'Tuesday': '16:0-0:0', ...  33.454286 -111.909405   \n",
       "4  {'Monday': '11:0-22:0', 'Tuesday': '11:0-22:0'...  33.537164 -112.132926   \n",
       "\n",
       "                           name  postal_code  review_count  stars state  \\\n",
       "0                     Taco Bell      85016.0            18    3.0    AZ   \n",
       "1  Nee House Chinese Restaurant      85032.0           269    3.5    AZ   \n",
       "2    Vals Getaway DES Cafeteria      85007.0            14    3.0    AZ   \n",
       "3                   Salt Cellar      85257.0           526    3.5    AZ   \n",
       "4                Sushi Mocorito      85051.0             9    3.0    AZ   \n",
       "\n",
       "   is_closed  \n",
       "0          0  \n",
       "1          0  \n",
       "2          0  \n",
       "3          0  \n",
       "4          0  "
      ]
     },
     "execution_count": 27,
     "metadata": {},
     "output_type": "execute_result"
    }
   ],
   "source": [
    "df.head()"
   ]
  },
  {
   "cell_type": "markdown",
   "metadata": {},
   "source": [
    "# EDA"
   ]
  },
  {
   "cell_type": "markdown",
   "metadata": {},
   "source": [
    "## Summary and missing values"
   ]
  },
  {
   "cell_type": "code",
   "execution_count": 28,
   "metadata": {},
   "outputs": [
    {
     "data": {
      "text/html": [
       "<div>\n",
       "<style scoped>\n",
       "    .dataframe tbody tr th:only-of-type {\n",
       "        vertical-align: middle;\n",
       "    }\n",
       "\n",
       "    .dataframe tbody tr th {\n",
       "        vertical-align: top;\n",
       "    }\n",
       "\n",
       "    .dataframe thead th {\n",
       "        text-align: right;\n",
       "    }\n",
       "</style>\n",
       "<table border=\"1\" class=\"dataframe\">\n",
       "  <thead>\n",
       "    <tr style=\"text-align: right;\">\n",
       "      <th></th>\n",
       "      <th>latitude</th>\n",
       "      <th>longitude</th>\n",
       "      <th>postal_code</th>\n",
       "      <th>review_count</th>\n",
       "      <th>stars</th>\n",
       "      <th>is_closed</th>\n",
       "    </tr>\n",
       "  </thead>\n",
       "  <tbody>\n",
       "    <tr>\n",
       "      <th>count</th>\n",
       "      <td>7528.000000</td>\n",
       "      <td>7528.000000</td>\n",
       "      <td>7522.000000</td>\n",
       "      <td>7528.000000</td>\n",
       "      <td>7528.000000</td>\n",
       "      <td>7528.000000</td>\n",
       "    </tr>\n",
       "    <tr>\n",
       "      <th>mean</th>\n",
       "      <td>33.487370</td>\n",
       "      <td>-112.007638</td>\n",
       "      <td>85188.402154</td>\n",
       "      <td>128.709883</td>\n",
       "      <td>3.427338</td>\n",
       "      <td>0.034936</td>\n",
       "    </tr>\n",
       "    <tr>\n",
       "      <th>std</th>\n",
       "      <td>0.121348</td>\n",
       "      <td>0.173916</td>\n",
       "      <td>127.252821</td>\n",
       "      <td>192.302628</td>\n",
       "      <td>0.846240</td>\n",
       "      <td>0.183631</td>\n",
       "    </tr>\n",
       "    <tr>\n",
       "      <th>min</th>\n",
       "      <td>33.210781</td>\n",
       "      <td>-112.540321</td>\n",
       "      <td>84295.000000</td>\n",
       "      <td>3.000000</td>\n",
       "      <td>1.000000</td>\n",
       "      <td>0.000000</td>\n",
       "    </tr>\n",
       "    <tr>\n",
       "      <th>25%</th>\n",
       "      <td>33.394531</td>\n",
       "      <td>-112.121741</td>\n",
       "      <td>85034.000000</td>\n",
       "      <td>20.000000</td>\n",
       "      <td>3.000000</td>\n",
       "      <td>0.000000</td>\n",
       "    </tr>\n",
       "    <tr>\n",
       "      <th>50%</th>\n",
       "      <td>33.479590</td>\n",
       "      <td>-111.983147</td>\n",
       "      <td>85226.000000</td>\n",
       "      <td>61.000000</td>\n",
       "      <td>3.500000</td>\n",
       "      <td>0.000000</td>\n",
       "    </tr>\n",
       "    <tr>\n",
       "      <th>75%</th>\n",
       "      <td>33.582570</td>\n",
       "      <td>-111.891655</td>\n",
       "      <td>85283.000000</td>\n",
       "      <td>159.000000</td>\n",
       "      <td>4.000000</td>\n",
       "      <td>0.000000</td>\n",
       "    </tr>\n",
       "    <tr>\n",
       "      <th>max</th>\n",
       "      <td>33.844608</td>\n",
       "      <td>-111.600936</td>\n",
       "      <td>85734.000000</td>\n",
       "      <td>2556.000000</td>\n",
       "      <td>5.000000</td>\n",
       "      <td>1.000000</td>\n",
       "    </tr>\n",
       "  </tbody>\n",
       "</table>\n",
       "</div>"
      ],
      "text/plain": [
       "          latitude    longitude   postal_code  review_count        stars  \\\n",
       "count  7528.000000  7528.000000   7522.000000   7528.000000  7528.000000   \n",
       "mean     33.487370  -112.007638  85188.402154    128.709883     3.427338   \n",
       "std       0.121348     0.173916    127.252821    192.302628     0.846240   \n",
       "min      33.210781  -112.540321  84295.000000      3.000000     1.000000   \n",
       "25%      33.394531  -112.121741  85034.000000     20.000000     3.000000   \n",
       "50%      33.479590  -111.983147  85226.000000     61.000000     3.500000   \n",
       "75%      33.582570  -111.891655  85283.000000    159.000000     4.000000   \n",
       "max      33.844608  -111.600936  85734.000000   2556.000000     5.000000   \n",
       "\n",
       "         is_closed  \n",
       "count  7528.000000  \n",
       "mean      0.034936  \n",
       "std       0.183631  \n",
       "min       0.000000  \n",
       "25%       0.000000  \n",
       "50%       0.000000  \n",
       "75%       0.000000  \n",
       "max       1.000000  "
      ]
     },
     "execution_count": 28,
     "metadata": {},
     "output_type": "execute_result"
    }
   ],
   "source": [
    "#See the summary of the numeric variables\n",
    "df.describe()"
   ]
  },
  {
   "cell_type": "code",
   "execution_count": 29,
   "metadata": {},
   "outputs": [
    {
     "data": {
      "text/plain": [
       "address         7492\n",
       "attributes      7334\n",
       "business_id     7528\n",
       "categories      7528\n",
       "city            7528\n",
       "hours           7528\n",
       "latitude        7528\n",
       "longitude       7528\n",
       "name            7528\n",
       "postal_code     7522\n",
       "review_count    7528\n",
       "stars           7528\n",
       "state           7528\n",
       "is_closed       7528\n",
       "dtype: int64"
      ]
     },
     "execution_count": 29,
     "metadata": {},
     "output_type": "execute_result"
    }
   ],
   "source": [
    "#Look at missing values\n",
    "df.count()"
   ]
  },
  {
   "cell_type": "markdown",
   "metadata": {},
   "source": [
    "**There are missing values, but not a lot. I will deal with them further.**"
   ]
  },
  {
   "cell_type": "markdown",
   "metadata": {},
   "source": [
    "## Distribution of review count"
   ]
  },
  {
   "cell_type": "code",
   "execution_count": 30,
   "metadata": {},
   "outputs": [
    {
     "data": {
      "image/png": "[encoded data removed]",
      "text/plain": [
       "<Figure size 432x288 with 1 Axes>"
      ]
     },
     "metadata": {
      "needs_background": "light"
     },
     "output_type": "display_data"
    }
   ],
   "source": [
    "sns.distplot(a=list(df.review_count))\n",
    "plt.xlabel(\"review_counts\")\n",
    "plt.title(\"Distribution of Review Count\");"
   ]
  },
  {
   "cell_type": "markdown",
   "metadata": {},
   "source": [
    "## Distribution of stars"
   ]
  },
  {
   "cell_type": "code",
   "execution_count": 31,
   "metadata": {},
   "outputs": [
    {
     "data": {
      "image/png": "[encoded data removed]",
      "text/plain": [
       "<Figure size 432x288 with 1 Axes>"
      ]
     },
     "metadata": {
      "needs_background": "light"
     },
     "output_type": "display_data"
    }
   ],
   "source": [
    "sns.distplot(a=df.stars)\n",
    "plt.xlabel(\"star\")\n",
    "plt.title(\"Distribution of stars\");"
   ]
  },
  {
   "cell_type": "markdown",
   "metadata": {},
   "source": [
    "## Distribution by city"
   ]
  },
  {
   "cell_type": "code",
   "execution_count": 32,
   "metadata": {},
   "outputs": [
    {
     "data": {
      "text/plain": [
       "51"
      ]
     },
     "execution_count": 32,
     "metadata": {},
     "output_type": "execute_result"
    }
   ],
   "source": [
    "len(df.city.unique())"
   ]
  },
  {
   "cell_type": "code",
   "execution_count": 33,
   "metadata": {},
   "outputs": [
    {
     "data": {
      "text/plain": [
       "Phoenix                 2650\n",
       "Scottsdale               921\n",
       "Mesa                     812\n",
       "Tempe                    646\n",
       "Chandler                 542\n",
       "Glendale                 492\n",
       "Gilbert                  391\n",
       "Peoria                   255\n",
       "Surprise                 167\n",
       "Goodyear                 143\n",
       "Avondale                 139\n",
       "Cave Creek                59\n",
       "Fountain Hills            51\n",
       "Sun City                  36\n",
       "Litchfield Park           33\n",
       "Tolleson                  28\n",
       "Laveen                    27\n",
       "El Mirage                 18\n",
       "Paradise Valley           13\n",
       "Sun City West             12\n",
       "Carefree                  11\n",
       "Buckeye                   10\n",
       "Queen Creek                9\n",
       "Sun Lakes                  9\n",
       "Youngtown                  5\n",
       "Ahwatukee                  4\n",
       "Laveen Village             4\n",
       "PHOENIX                    4\n",
       "Guadalupe                  4\n",
       "Fort McDowell              4\n",
       "Anthem                     4\n",
       "Higley                     3\n",
       "Apache Junction            3\n",
       "Fort Mcdowell              2\n",
       "Phx                        1\n",
       "mesa                       1\n",
       "Scottdale                  1\n",
       "GILBERT                    1\n",
       "Central                    1\n",
       "Central City               1\n",
       "MESA                       1\n",
       "Glendale Az                1\n",
       "Maricopa                   1\n",
       "SCOTTSDALE                 1\n",
       "Rio Verde                  1\n",
       "Phoenix Valley             1\n",
       "Mesa AZ                    1\n",
       "Somerton                   1\n",
       "Waddell                    1\n",
       "Central City Village       1\n",
       "GOODYEAR                   1\n",
       "Name: city, dtype: int64"
      ]
     },
     "execution_count": 33,
     "metadata": {},
     "output_type": "execute_result"
    }
   ],
   "source": [
    "df[\"city\"].value_counts()"
   ]
  },
  {
   "cell_type": "markdown",
   "metadata": {},
   "source": [
    "I can see that, for instance, Mesa is represented by \"Mesa\", \"mesa\", \"Mesa AZ\", and \"MESA\". So if I want to convert this column to dummies variables, I need to deal with this kind of duplicates to reduce the dimension. "
   ]
  },
  {
   "cell_type": "markdown",
   "metadata": {},
   "source": [
    "## Distribution of the target variable is_closed\n"
   ]
  },
  {
   "cell_type": "code",
   "execution_count": 34,
   "metadata": {},
   "outputs": [
    {
     "data": {
      "image/png": "[encoded data removed]",
      "text/plain": [
       "<Figure size 432x288 with 1 Axes>"
      ]
     },
     "metadata": {
      "needs_background": "light"
     },
     "output_type": "display_data"
    }
   ],
   "source": [
    "sns.distplot(a=list(df.is_closed),kde=False)\n",
    "plt.xlabel(\"is_closed\")\n",
    "plt.title(\"Distribution of the target variable is_closed\");"
   ]
  },
  {
   "cell_type": "code",
   "execution_count": 35,
   "metadata": {},
   "outputs": [
    {
     "data": {
      "text/plain": [
       "0    7265\n",
       "1     263\n",
       "Name: is_closed, dtype: int64"
      ]
     },
     "execution_count": 35,
     "metadata": {},
     "output_type": "execute_result"
    }
   ],
   "source": [
    "df[\"is_closed\"].value_counts()"
   ]
  },
  {
   "cell_type": "markdown",
   "metadata": {},
   "source": [
    "Class imbalance is several."
   ]
  },
  {
   "cell_type": "markdown",
   "metadata": {},
   "source": [
    "# Feature engineering "
   ]
  },
  {
   "cell_type": "markdown",
   "metadata": {},
   "source": [
    "### Create a new variable repersent the open hours each week\n"
   ]
  },
  {
   "cell_type": "code",
   "execution_count": 36,
   "metadata": {},
   "outputs": [],
   "source": [
    "#Define a function that calculate the open hour for one day\n",
    "def open_hours(time_range):\n",
    "    '''Input: a string of time range\n",
    "        return: number of open hours'''\n",
    "    #Derive the open time and closed time\n",
    "    open_closed = time_range.split(\"-\")\n",
    "    if open_closed[0]==open_closed[1]:\n",
    "        return (0)\n",
    "    else:\n",
    "        open_time = [int(i) for i in open_closed[0].split(\":\")]\n",
    "        open_time = open_time[0] + open_time[1]/60\n",
    "        closed_time = [int(i) for i in open_closed[1].split(\":\")]\n",
    "        if closed_time[0]==0:\n",
    "            closed_time[0]=24\n",
    "        closed_time = closed_time[0] + closed_time[1]/60\n",
    "        return (closed_time-open_time)\n",
    "            \n",
    "        \n",
    "#Define a fucntion that get the total open hours for a week\n",
    "def hours_per_week(hours_dict):\n",
    "    '''Input: a dictionary that contains open hours for each day\n",
    "        return: total open hours for a week'''\n",
    "    import yaml\n",
    "    #Detect missing values\n",
    "    if hours_dict==\"0\":\n",
    "        return(0)\n",
    "    daily_hour = list(yaml.load(hours_dict).values())\n",
    "    total_hours = [open_hours(i) for i in daily_hour]\n",
    "    return(sum(total_hours))"
   ]
  },
  {
   "cell_type": "code",
   "execution_count": 37,
   "metadata": {},
   "outputs": [
    {
     "name": "stderr",
     "output_type": "stream",
     "text": [
      "/opt/conda/lib/python3.6/site-packages/ipykernel_launcher.py:27: YAMLLoadWarning: calling yaml.load() without Loader=... is deprecated, as the default Loader is unsafe. Please read https://msg.pyyaml.org/load for full details.\n"
     ]
    }
   ],
   "source": [
    "#Fill missing value with 0\n",
    "df[\"hours\"] = df[\"hours\"].fillna(\"0\")\n",
    "#Apply the functions defined to get weekly hours\n",
    "weekly_hours = [hours_per_week(i) for i in df.hours]\n",
    "weekly_hours = pd.Series(weekly_hours, index=df.index)\n",
    "#Add this new column to the data frame\n",
    "df[\"weekly_hours\"] = weekly_hours"
   ]
  },
  {
   "cell_type": "code",
   "execution_count": 38,
   "metadata": {},
   "outputs": [
    {
     "data": {
      "image/png": "[encoded data removed]",
      "text/plain": [
       "<Figure size 432x288 with 1 Axes>"
      ]
     },
     "metadata": {
      "needs_background": "light"
     },
     "output_type": "display_data"
    }
   ],
   "source": [
    "sns.distplot(a=df.weekly_hours)\n",
    "plt.xlabel(\"Weekly_hours\")\n",
    "plt.title(\"Distribution of Weekly Hours\");"
   ]
  },
  {
   "cell_type": "markdown",
   "metadata": {},
   "source": [
    "### Create dummy variables with city column\n"
   ]
  },
  {
   "cell_type": "code",
   "execution_count": 39,
   "metadata": {},
   "outputs": [
    {
     "data": {
      "text/plain": [
       "44"
      ]
     },
     "execution_count": 39,
     "metadata": {},
     "output_type": "execute_result"
    }
   ],
   "source": [
    "#First lowercase the city name\n",
    "city = df.city.str.lower()\n",
    "len(city.unique())"
   ]
  },
  {
   "cell_type": "code",
   "execution_count": 40,
   "metadata": {},
   "outputs": [
    {
     "data": {
      "text/plain": [
       "array(['phoenix', 'scottsdale', 'chandler', 'mesa', 'glendale',\n",
       "       'surprise', 'goodyear', 'gilbert', 'sun city', 'avondale',\n",
       "       'cave creek', 'tempe', 'peoria', 'fountain hills', 'sun lakes',\n",
       "       'fort mcdowell', 'laveen', 'paradise valley', 'tolleson',\n",
       "       'somerton', 'carefree', 'litchfield park', 'queen creek',\n",
       "       'el mirage', 'anthem', 'glendale az', 'apache junction', 'buckeye',\n",
       "       'guadalupe', 'sun city west', 'youngtown', 'mesa az',\n",
       "       'laveen village', 'scottdale', 'ahwatukee', 'higley', 'phx',\n",
       "       'waddell', 'maricopa', 'central city', 'central city village',\n",
       "       'rio verde', 'phoenix valley', 'central'], dtype=object)"
      ]
     },
     "execution_count": 40,
     "metadata": {},
     "output_type": "execute_result"
    }
   ],
   "source": [
    "city.unique()"
   ]
  },
  {
   "cell_type": "code",
   "execution_count": 41,
   "metadata": {},
   "outputs": [
    {
     "data": {
      "text/plain": [
       "39"
      ]
     },
     "execution_count": 41,
     "metadata": {},
     "output_type": "execute_result"
    }
   ],
   "source": [
    "#Deal with the rest of duplicates\n",
    "city = [i if i!='mesa az' else \"mesa\" for i in city]\n",
    "city = [i if i!='central' else \"central city\" for i in city]\n",
    "city = [i if i!=\"phx\" else \"phoenix\" for i in city]\n",
    "city = [i if i!=\"scottdale\" else \"scottsdale\" for i in city]\n",
    "city = [i if i!=\"glendale az\" else \"glendale\" for i in city]\n",
    "city = pd.Series(city, index=df.index)\n",
    "len(city.unique())"
   ]
  },
  {
   "cell_type": "code",
   "execution_count": 42,
   "metadata": {},
   "outputs": [],
   "source": [
    "#Create dummies \n",
    "city = pd.get_dummies(city)\n",
    "df = pd.concat([df,city],axis=1)"
   ]
  },
  {
   "cell_type": "code",
   "execution_count": 43,
   "metadata": {},
   "outputs": [
    {
     "data": {
      "text/html": [
       "<div>\n",
       "<style scoped>\n",
       "    .dataframe tbody tr th:only-of-type {\n",
       "        vertical-align: middle;\n",
       "    }\n",
       "\n",
       "    .dataframe tbody tr th {\n",
       "        vertical-align: top;\n",
       "    }\n",
       "\n",
       "    .dataframe thead th {\n",
       "        text-align: right;\n",
       "    }\n",
       "</style>\n",
       "<table border=\"1\" class=\"dataframe\">\n",
       "  <thead>\n",
       "    <tr style=\"text-align: right;\">\n",
       "      <th></th>\n",
       "      <th>address</th>\n",
       "      <th>attributes</th>\n",
       "      <th>business_id</th>\n",
       "      <th>categories</th>\n",
       "      <th>city</th>\n",
       "      <th>hours</th>\n",
       "      <th>latitude</th>\n",
       "      <th>longitude</th>\n",
       "      <th>name</th>\n",
       "      <th>postal_code</th>\n",
       "      <th>...</th>\n",
       "      <th>scottsdale</th>\n",
       "      <th>somerton</th>\n",
       "      <th>sun city</th>\n",
       "      <th>sun city west</th>\n",
       "      <th>sun lakes</th>\n",
       "      <th>surprise</th>\n",
       "      <th>tempe</th>\n",
       "      <th>tolleson</th>\n",
       "      <th>waddell</th>\n",
       "      <th>youngtown</th>\n",
       "    </tr>\n",
       "  </thead>\n",
       "  <tbody>\n",
       "    <tr>\n",
       "      <th>0</th>\n",
       "      <td>2450 E Indian School Rd</td>\n",
       "      <td>{'RestaurantsTakeOut': 'True', 'BusinessParkin...</td>\n",
       "      <td>1Dfx3zM-rW4n-31KeC8sJg</td>\n",
       "      <td>Restaurants, Breakfast &amp; Brunch, Mexican, Taco...</td>\n",
       "      <td>Phoenix</td>\n",
       "      <td>{'Monday': '7:0-0:0', 'Tuesday': '7:0-0:0', 'W...</td>\n",
       "      <td>33.495194</td>\n",
       "      <td>-112.028588</td>\n",
       "      <td>Taco Bell</td>\n",
       "      <td>85016.0</td>\n",
       "      <td>...</td>\n",
       "      <td>0</td>\n",
       "      <td>0</td>\n",
       "      <td>0</td>\n",
       "      <td>0</td>\n",
       "      <td>0</td>\n",
       "      <td>0</td>\n",
       "      <td>0</td>\n",
       "      <td>0</td>\n",
       "      <td>0</td>\n",
       "      <td>0</td>\n",
       "    </tr>\n",
       "    <tr>\n",
       "      <th>1</th>\n",
       "      <td>13843 N Tatum Blvd, Ste 15</td>\n",
       "      <td>{'Caters': 'True', 'GoodForKids': 'True', 'Noi...</td>\n",
       "      <td>44YFU284Z3KDEy25QyVoUw</td>\n",
       "      <td>Chinese, Restaurants</td>\n",
       "      <td>Phoenix</td>\n",
       "      <td>{'Monday': '11:0-21:0', 'Tuesday': '11:0-21:0'...</td>\n",
       "      <td>33.613020</td>\n",
       "      <td>-111.977036</td>\n",
       "      <td>Nee House Chinese Restaurant</td>\n",
       "      <td>85032.0</td>\n",
       "      <td>...</td>\n",
       "      <td>0</td>\n",
       "      <td>0</td>\n",
       "      <td>0</td>\n",
       "      <td>0</td>\n",
       "      <td>0</td>\n",
       "      <td>0</td>\n",
       "      <td>0</td>\n",
       "      <td>0</td>\n",
       "      <td>0</td>\n",
       "      <td>0</td>\n",
       "    </tr>\n",
       "    <tr>\n",
       "      <th>2</th>\n",
       "      <td>1789 W Jefferson</td>\n",
       "      <td>{'RestaurantsDelivery': 'False', 'BusinessAcce...</td>\n",
       "      <td>ysfeDcLAYk_MVzfBmyiSTg</td>\n",
       "      <td>Restaurants, Food, Cafes</td>\n",
       "      <td>Phoenix</td>\n",
       "      <td>0</td>\n",
       "      <td>33.446805</td>\n",
       "      <td>-112.097129</td>\n",
       "      <td>Vals Getaway DES Cafeteria</td>\n",
       "      <td>85007.0</td>\n",
       "      <td>...</td>\n",
       "      <td>0</td>\n",
       "      <td>0</td>\n",
       "      <td>0</td>\n",
       "      <td>0</td>\n",
       "      <td>0</td>\n",
       "      <td>0</td>\n",
       "      <td>0</td>\n",
       "      <td>0</td>\n",
       "      <td>0</td>\n",
       "      <td>0</td>\n",
       "    </tr>\n",
       "    <tr>\n",
       "      <th>3</th>\n",
       "      <td>550 N Hayden Rd</td>\n",
       "      <td>{'BusinessAcceptsCreditCards': 'True', 'Restau...</td>\n",
       "      <td>nsNONDHbV7Vudqh21uicqw</td>\n",
       "      <td>Seafood, Restaurants</td>\n",
       "      <td>Scottsdale</td>\n",
       "      <td>{'Monday': '16:0-0:0', 'Tuesday': '16:0-0:0', ...</td>\n",
       "      <td>33.454286</td>\n",
       "      <td>-111.909405</td>\n",
       "      <td>Salt Cellar</td>\n",
       "      <td>85257.0</td>\n",
       "      <td>...</td>\n",
       "      <td>1</td>\n",
       "      <td>0</td>\n",
       "      <td>0</td>\n",
       "      <td>0</td>\n",
       "      <td>0</td>\n",
       "      <td>0</td>\n",
       "      <td>0</td>\n",
       "      <td>0</td>\n",
       "      <td>0</td>\n",
       "      <td>0</td>\n",
       "    </tr>\n",
       "    <tr>\n",
       "      <th>4</th>\n",
       "      <td>3415 West Glendale Ave, Bldg 25A</td>\n",
       "      <td>{'RestaurantsGoodForGroups': 'True', 'Business...</td>\n",
       "      <td>Rs8Wi4OEjeOX7LVlzsXDOA</td>\n",
       "      <td>Restaurants, Mexican, Sushi Bars</td>\n",
       "      <td>Phoenix</td>\n",
       "      <td>{'Monday': '11:0-22:0', 'Tuesday': '11:0-22:0'...</td>\n",
       "      <td>33.537164</td>\n",
       "      <td>-112.132926</td>\n",
       "      <td>Sushi Mocorito</td>\n",
       "      <td>85051.0</td>\n",
       "      <td>...</td>\n",
       "      <td>0</td>\n",
       "      <td>0</td>\n",
       "      <td>0</td>\n",
       "      <td>0</td>\n",
       "      <td>0</td>\n",
       "      <td>0</td>\n",
       "      <td>0</td>\n",
       "      <td>0</td>\n",
       "      <td>0</td>\n",
       "      <td>0</td>\n",
       "    </tr>\n",
       "  </tbody>\n",
       "</table>\n",
       "<p>5 rows × 54 columns</p>\n",
       "</div>"
      ],
      "text/plain": [
       "                            address  \\\n",
       "0           2450 E Indian School Rd   \n",
       "1        13843 N Tatum Blvd, Ste 15   \n",
       "2                  1789 W Jefferson   \n",
       "3                   550 N Hayden Rd   \n",
       "4  3415 West Glendale Ave, Bldg 25A   \n",
       "\n",
       "                                          attributes             business_id  \\\n",
       "0  {'RestaurantsTakeOut': 'True', 'BusinessParkin...  1Dfx3zM-rW4n-31KeC8sJg   \n",
       "1  {'Caters': 'True', 'GoodForKids': 'True', 'Noi...  44YFU284Z3KDEy25QyVoUw   \n",
       "2  {'RestaurantsDelivery': 'False', 'BusinessAcce...  ysfeDcLAYk_MVzfBmyiSTg   \n",
       "3  {'BusinessAcceptsCreditCards': 'True', 'Restau...  nsNONDHbV7Vudqh21uicqw   \n",
       "4  {'RestaurantsGoodForGroups': 'True', 'Business...  Rs8Wi4OEjeOX7LVlzsXDOA   \n",
       "\n",
       "                                          categories        city  \\\n",
       "0  Restaurants, Breakfast & Brunch, Mexican, Taco...     Phoenix   \n",
       "1                               Chinese, Restaurants     Phoenix   \n",
       "2                           Restaurants, Food, Cafes     Phoenix   \n",
       "3                               Seafood, Restaurants  Scottsdale   \n",
       "4                   Restaurants, Mexican, Sushi Bars     Phoenix   \n",
       "\n",
       "                                               hours   latitude   longitude  \\\n",
       "0  {'Monday': '7:0-0:0', 'Tuesday': '7:0-0:0', 'W...  33.495194 -112.028588   \n",
       "1  {'Monday': '11:0-21:0', 'Tuesday': '11:0-21:0'...  33.613020 -111.977036   \n",
       "2                                                  0  33.446805 -112.097129   \n",
       "3  {'Monday': '16:0-0:0', 'Tuesday': '16:0-0:0', ...  33.454286 -111.909405   \n",
       "4  {'Monday': '11:0-22:0', 'Tuesday': '11:0-22:0'...  33.537164 -112.132926   \n",
       "\n",
       "                           name  postal_code  ...  scottsdale  somerton  \\\n",
       "0                     Taco Bell      85016.0  ...           0         0   \n",
       "1  Nee House Chinese Restaurant      85032.0  ...           0         0   \n",
       "2    Vals Getaway DES Cafeteria      85007.0  ...           0         0   \n",
       "3                   Salt Cellar      85257.0  ...           1         0   \n",
       "4                Sushi Mocorito      85051.0  ...           0         0   \n",
       "\n",
       "  sun city  sun city west  sun lakes  surprise  tempe  tolleson  waddell  \\\n",
       "0        0              0          0         0      0         0        0   \n",
       "1        0              0          0         0      0         0        0   \n",
       "2        0              0          0         0      0         0        0   \n",
       "3        0              0          0         0      0         0        0   \n",
       "4        0              0          0         0      0         0        0   \n",
       "\n",
       "   youngtown  \n",
       "0          0  \n",
       "1          0  \n",
       "2          0  \n",
       "3          0  \n",
       "4          0  \n",
       "\n",
       "[5 rows x 54 columns]"
      ]
     },
     "execution_count": 43,
     "metadata": {},
     "output_type": "execute_result"
    }
   ],
   "source": [
    "df.head()"
   ]
  },
  {
   "cell_type": "markdown",
   "metadata": {},
   "source": [
    "### Create a new indicator column that indicates if a restaurant is one of the chain restaurant\n"
   ]
  },
  {
   "cell_type": "code",
   "execution_count": 44,
   "metadata": {},
   "outputs": [],
   "source": [
    "#Create a dictonary where keys are restaurant names, values are occurance of the name in the data frame\n",
    "chain_dict = df.name.value_counts().to_dict()\n",
    "#Store the restaurant names\n",
    "res_names = list(chain_dict.keys())\n",
    "#Make a dictionary where keys are names, values are chain restaurant indicatior, 0 or 1\n",
    "chain_dict = [1 if chain_dict[i]>1 else 0 for i in res_names]\n",
    "chain_dict = pd.Series(chain_dict, index=res_names).to_dict()"
   ]
  },
  {
   "cell_type": "code",
   "execution_count": 45,
   "metadata": {},
   "outputs": [],
   "source": [
    "#Based on the dictonary above, create an indicotr column\n",
    "is_chain = [chain_dict[i] for i in df.name]\n",
    "is_chain = pd.Series(is_chain, index=df.index)\n",
    "df[\"is_chain\"] = is_chain"
   ]
  },
  {
   "cell_type": "code",
   "execution_count": 46,
   "metadata": {},
   "outputs": [
    {
     "data": {
      "text/plain": [
       "1    3772\n",
       "0    3756\n",
       "Name: is_chain, dtype: int64"
      ]
     },
     "execution_count": 46,
     "metadata": {},
     "output_type": "execute_result"
    }
   ],
   "source": [
    "df.is_chain.value_counts()"
   ]
  },
  {
   "cell_type": "markdown",
   "metadata": {},
   "source": [
    "### Derive price range from attributes"
   ]
  },
  {
   "cell_type": "code",
   "execution_count": 47,
   "metadata": {},
   "outputs": [],
   "source": [
    "def get_price(string):\n",
    "    try:\n",
    "        return(yaml.load(string)['RestaurantsPriceRange2'])\n",
    "    except:\n",
    "        #Impute unknown if the price range is missing\n",
    "        return(\"None\")"
   ]
  },
  {
   "cell_type": "code",
   "execution_count": 48,
   "metadata": {},
   "outputs": [
    {
     "name": "stderr",
     "output_type": "stream",
     "text": [
      "/opt/conda/lib/python3.6/site-packages/ipykernel_launcher.py:3: YAMLLoadWarning: calling yaml.load() without Loader=... is deprecated, as the default Loader is unsafe. Please read https://msg.pyyaml.org/load for full details.\n",
      "  This is separate from the ipykernel package so we can avoid doing imports until\n"
     ]
    },
    {
     "data": {
      "text/plain": [
       "1       3792\n",
       "2       2952\n",
       "None     602\n",
       "3        152\n",
       "4         30\n",
       "dtype: int64"
      ]
     },
     "execution_count": 48,
     "metadata": {},
     "output_type": "execute_result"
    }
   ],
   "source": [
    "price = pd.Series([get_price(i) for i in df.attributes], index=df.index)\n",
    "#See the distribution of price range\n",
    "price.value_counts()"
   ]
  },
  {
   "cell_type": "code",
   "execution_count": 49,
   "metadata": {},
   "outputs": [],
   "source": [
    "#Create dummy variables\n",
    "price_dummy = pd.get_dummies(price,prefix=\"price\")\n",
    "df = pd.concat([df,price_dummy],axis=1)"
   ]
  },
  {
   "cell_type": "markdown",
   "metadata": {},
   "source": [
    "# Review Text Processing"
   ]
  },
  {
   "cell_type": "markdown",
   "metadata": {},
   "source": [
    "<span style=\"color:red\">\n",
    "    <h3> Again I started with the original review json file, but it was too larget to upload, so I filter out those review that don't belong to the restaurants of interest. I comment out the fitlering part.  </h3>\n",
    "</span>"
   ]
  },
  {
   "cell_type": "code",
   "execution_count": 50,
   "metadata": {},
   "outputs": [],
   "source": [
    "#The directory where the data is located\n",
    "#path = \"C:/Users/Andy Chan/desktop/INT15/project/data/yelp_dataset_1/\"\n",
    "#The filename of the data to be loaded\n",
    "#filename = \"review.json\"\n",
    "\n",
    "#Read the review daat\n",
    "#review = []\n",
    "#with open(path+filename,encoding=\"utf-8\") as json_file:\n",
    " #   for i in json_file:\n",
    "  #      review.append(json.loads(i))\n",
    "#Convert it to a data frame\n",
    "#review_df = pd.DataFrame(review)\n",
    "#review_df.head()"
   ]
  },
  {
   "cell_type": "markdown",
   "metadata": {},
   "source": [
    "**This is the review dataset for all review, including the businesses I excluded, so I will filter them by business_id.**"
   ]
  },
  {
   "cell_type": "code",
   "execution_count": 51,
   "metadata": {},
   "outputs": [],
   "source": [
    "#Get the business ids\n",
    "#biz_id = df.business_id"
   ]
  },
  {
   "cell_type": "markdown",
   "metadata": {},
   "source": [
    "**Filter out the reviews with their business_ids.**"
   ]
  },
  {
   "cell_type": "code",
   "execution_count": 52,
   "metadata": {},
   "outputs": [],
   "source": [
    "#Get the index of the review that matches the ids\n",
    "#matched_idx = [i for i in range(len(review_df)) if (review_df.loc[i,\"business_id\"] in list(biz_id))]\n",
    "#Use the index to filter\n",
    "#review_df = review_df.loc[matched_idx]"
   ]
  },
  {
   "cell_type": "code",
   "execution_count": 53,
   "metadata": {},
   "outputs": [],
   "source": [
    "#See how many reviews matched\n",
    "#len(review_df)"
   ]
  },
  {
   "cell_type": "code",
   "execution_count": 54,
   "metadata": {},
   "outputs": [],
   "source": [
    "#Drop \"cool\",\"funny\",\"useful\",\"user_id\"\n",
    "#review_df = review_df.drop(columns=[\"funny\",\"cool\",\"useful\",\"user_id\"])\n",
    "#Ouput a filterred reivew dataset\n",
    "#review_df.to_csv(\"filtered_review.csv\",index=False)"
   ]
  },
  {
   "cell_type": "markdown",
   "metadata": {},
   "source": [
    "# Load the filtered review, and start the pre-processing"
   ]
  },
  {
   "cell_type": "code",
   "execution_count": 55,
   "metadata": {},
   "outputs": [
    {
     "name": "stdout",
     "output_type": "stream",
     "text": [
      "--2019-06-15 03:56:23--  https://docs.google.com/uc?export=download&confirm=ajhl&id=1Ap8uefa0HCHM25TC2AJNiznyUxPxFm51\n",
      "Resolving docs.google.com (docs.google.com)... 74.125.142.100, 74.125.142.101, 74.125.142.102, ...\n",
      "Connecting to docs.google.com (docs.google.com)|74.125.142.100|:443... connected.\n",
      "HTTP request sent, awaiting response... 302 Moved Temporarily\n",
      "Location: https://doc-08-6c-docs.googleusercontent.com/docs/securesc/ha0ro937gcuc7l7deffksulhg5h7mbp1/40fec11cq6uddp62a8u0fqbr55ks6k5r/1560564000000/18419957613213493679/*/1Ap8uefa0HCHM25TC2AJNiznyUxPxFm51?e=download [following]\n",
      "Warning: wildcards not supported in HTTP.\n",
      "--2019-06-15 03:56:23--  https://doc-08-6c-docs.googleusercontent.com/docs/securesc/ha0ro937gcuc7l7deffksulhg5h7mbp1/40fec11cq6uddp62a8u0fqbr55ks6k5r/1560564000000/18419957613213493679/*/1Ap8uefa0HCHM25TC2AJNiznyUxPxFm51?e=download\n",
      "Resolving doc-08-6c-docs.googleusercontent.com (doc-08-6c-docs.googleusercontent.com)... 74.125.142.132, 2607:f8b0:400e:c08::84\n",
      "Connecting to doc-08-6c-docs.googleusercontent.com (doc-08-6c-docs.googleusercontent.com)|74.125.142.132|:443... connected.\n",
      "HTTP request sent, awaiting response... 200 OK\n",
      "Length: unspecified [text/csv]\n",
      "Saving to: ‘filtered_review.csv’\n",
      "\n",
      "filtered_review.csv     [               <=>  ] 562.63M   156MB/s    in 4.3s    \n",
      "\n",
      "2019-06-15 03:56:28 (131 MB/s) - ‘filtered_review.csv’ saved [589963859]\n",
      "\n"
     ]
    }
   ],
   "source": [
    "#Download the review data set from my Google drive\n",
    "!wget --load-cookies /tmp/cookies.txt \"https://docs.google.com/uc?export=download&confirm=$(wget --quiet --save-cookies /tmp/cookies.txt --keep-session-cookies --no-check-certificate 'https://docs.google.com/uc?export=download&id=1Ap8uefa0HCHM25TC2AJNiznyUxPxFm51' -O- | sed -rn 's/.*confirm=([0-9A-Za-z_]+).*/\\1\\n/p')&id=1Ap8uefa0HCHM25TC2AJNiznyUxPxFm51\" -O \"filtered_review.csv\" && rm -rf /tmp/cookies.txt"
   ]
  },
  {
   "cell_type": "markdown",
   "metadata": {},
   "source": [
    "<span style=\"color:red\">\n",
    "    <h3> Since the Kernel will ALWAYS die if I use all reivew data, so I decide to set a maximum of 10 for each restaurants.   </h3>\n",
    "</span>"
   ]
  },
  {
   "cell_type": "code",
   "execution_count": 56,
   "metadata": {},
   "outputs": [],
   "source": [
    "#Read the dataframe\n",
    "review_df = pd.read_csv(\"filtered_review.csv\")\n",
    "#Group the review by business_id\n",
    "grouped_review = review_df[[\"business_id\",\"text\"]].groupby('business_id')  \n",
    "#Create a list of data frame of each group\n",
    "groups = [grouped_review.get_group(i) for i in grouped_review.groups]"
   ]
  },
  {
   "cell_type": "code",
   "execution_count": 57,
   "metadata": {},
   "outputs": [],
   "source": [
    "def cap(dataframe):\n",
    "    '''a function that cap the number of observation of a dataframe to 10 by doing sampling\n",
    "    Input: a dataframe\n",
    "    return: a dataframe has 10 or less obs'''\n",
    "    if len(dataframe)>10:\n",
    "        return(dataframe.sample(n=10, random_state=314))\n",
    "    else:\n",
    "        return(dataframe)"
   ]
  },
  {
   "cell_type": "code",
   "execution_count": 58,
   "metadata": {},
   "outputs": [
    {
     "data": {
      "text/plain": [
       "70402"
      ]
     },
     "execution_count": 58,
     "metadata": {},
     "output_type": "execute_result"
    }
   ],
   "source": [
    "#Again make them back to one single dataframe\n",
    "capped = [cap(i) for i in groups]\n",
    "capped_review = pd.concat(capped,axis=0)\n",
    "len(capped_review)"
   ]
  },
  {
   "cell_type": "code",
   "execution_count": 59,
   "metadata": {},
   "outputs": [],
   "source": [
    "#Get the number of reviews for each business\n",
    "num_review = [len(i) for i in capped]"
   ]
  },
  {
   "cell_type": "code",
   "execution_count": 60,
   "metadata": {},
   "outputs": [],
   "source": [
    "#Merge all reviews by their business id\n",
    "review_df = capped_review.groupby(\"business_id\")[\"text\"].apply(\" \".join)\n",
    "review_df = review_df.reset_index(level=0)"
   ]
  },
  {
   "cell_type": "code",
   "execution_count": 61,
   "metadata": {},
   "outputs": [
    {
     "data": {
      "text/plain": [
       "7406"
      ]
     },
     "execution_count": 61,
     "metadata": {},
     "output_type": "execute_result"
    }
   ],
   "source": [
    "len(review_df)"
   ]
  },
  {
   "cell_type": "markdown",
   "metadata": {},
   "source": [
    "## Text Cleaning\n"
   ]
  },
  {
   "cell_type": "code",
   "execution_count": 62,
   "metadata": {},
   "outputs": [],
   "source": [
    "text = review_df[\"text\"]"
   ]
  },
  {
   "cell_type": "markdown",
   "metadata": {},
   "source": [
    "### Lowercase"
   ]
  },
  {
   "cell_type": "code",
   "execution_count": 63,
   "metadata": {},
   "outputs": [],
   "source": [
    "text = text.str.lower()"
   ]
  },
  {
   "cell_type": "markdown",
   "metadata": {},
   "source": [
    "### Expand Contractions"
   ]
  },
  {
   "cell_type": "code",
   "execution_count": 64,
   "metadata": {},
   "outputs": [],
   "source": [
    "#Define a list of contraction\n",
    "contractions=[\"n't\",\"'ll\",\"'ve\",\"'re\", \"'d\",\"'s\"]\n",
    "#Define a list of expaned contraction\n",
    "expanded=[\" not\",\" will\",\" have\",\" are\",\" would\",\"\"]\n",
    "\n",
    "for i in range(len(expanded)):\n",
    "    text = text.str.replace(contractions[i],expanded[i])"
   ]
  },
  {
   "cell_type": "markdown",
   "metadata": {},
   "source": [
    "### Remove numbers"
   ]
  },
  {
   "cell_type": "code",
   "execution_count": 65,
   "metadata": {},
   "outputs": [],
   "source": [
    "text = text.str.replace(r\"[0-9]\",\"\")"
   ]
  },
  {
   "cell_type": "markdown",
   "metadata": {},
   "source": [
    "### Remove special characters and punctuation"
   ]
  },
  {
   "cell_type": "code",
   "execution_count": 66,
   "metadata": {},
   "outputs": [],
   "source": [
    "#Remove punctuation\n",
    "text = text.str.replace(r'[^\\s\\w]', \" \")"
   ]
  },
  {
   "cell_type": "markdown",
   "metadata": {},
   "source": [
    "### Strip extra white space"
   ]
  },
  {
   "cell_type": "code",
   "execution_count": 67,
   "metadata": {},
   "outputs": [],
   "source": [
    "text= text.str.replace(r\"[ ]{2,}\", \" \") \\\n",
    "                .str.strip()"
   ]
  },
  {
   "cell_type": "markdown",
   "metadata": {},
   "source": [
    "## Remove stopwords"
   ]
  },
  {
   "cell_type": "code",
   "execution_count": 68,
   "metadata": {},
   "outputs": [
    {
     "name": "stderr",
     "output_type": "stream",
     "text": [
      "[nltk_data] Downloading package stopwords to /home/jovyan/nltk_data...\n",
      "[nltk_data]   Package stopwords is already up-to-date!\n"
     ]
    }
   ],
   "source": [
    "import nltk \n",
    "from nltk.tokenize import word_tokenize\n",
    "from nltk.corpus import stopwords\n",
    "\n",
    "\n",
    "nltk.download('stopwords')\n",
    "stopwords = set(stopwords.words('english'))"
   ]
  },
  {
   "cell_type": "code",
   "execution_count": 69,
   "metadata": {},
   "outputs": [],
   "source": [
    "#Tokenization\n",
    "tokens = text.apply(lambda r:word_tokenize(r))"
   ]
  },
  {
   "cell_type": "code",
   "execution_count": 70,
   "metadata": {},
   "outputs": [],
   "source": [
    "#Remove stopwords\n",
    "tokens = tokens.apply(lambda r:[token for token in r if token not in stopwords])"
   ]
  },
  {
   "cell_type": "markdown",
   "metadata": {},
   "source": [
    "## Perform lemmatization "
   ]
  },
  {
   "cell_type": "code",
   "execution_count": 71,
   "metadata": {},
   "outputs": [
    {
     "name": "stderr",
     "output_type": "stream",
     "text": [
      "[nltk_data] Downloading package wordnet to /home/jovyan/nltk_data...\n",
      "[nltk_data]   Package wordnet is already up-to-date!\n",
      "[nltk_data] Downloading package punkt to /home/jovyan/nltk_data...\n",
      "[nltk_data]   Package punkt is already up-to-date!\n",
      "[nltk_data] Downloading package averaged_perceptron_tagger to\n",
      "[nltk_data]     /home/jovyan/nltk_data...\n",
      "[nltk_data]   Package averaged_perceptron_tagger is already up-to-\n",
      "[nltk_data]       date!\n"
     ]
    },
    {
     "data": {
      "text/plain": [
       "True"
      ]
     },
     "execution_count": 71,
     "metadata": {},
     "output_type": "execute_result"
    }
   ],
   "source": [
    "from nltk.tag import pos_tag\n",
    "from nltk.stem import WordNetLemmatizer\n",
    "from nltk.corpus import wordnet as wn\n",
    "\n",
    "nltk.download('wordnet')\n",
    "nltk.download('punkt')\n",
    "nltk.download('averaged_perceptron_tagger')"
   ]
  },
  {
   "cell_type": "code",
   "execution_count": 72,
   "metadata": {},
   "outputs": [],
   "source": [
    "def pos_tag_text(text):\n",
    "    '''Annotate text tokens with POS tags\n",
    "    Input: A string \n",
    "    Output: A list of tokens that are tagged'''\n",
    "    \n",
    "    def penn_to_wn_tags(pos_tag):\n",
    "        if pos_tag.startswith('J'):\n",
    "            return wn.ADJ\n",
    "        elif pos_tag.startswith('V'):\n",
    "            return wn.VERB\n",
    "        elif pos_tag.startswith('N'):\n",
    "            return wn.NOUN\n",
    "        elif pos_tag.startswith('R'):\n",
    "            return wn.ADV\n",
    "        else:\n",
    "            return None\n",
    "\n",
    "    tagged_text = pos_tag(text)\n",
    "    tagged_lower_text = [(word.lower(), penn_to_wn_tags(pos_tag)) for word, pos_tag in tagged_text]\n",
    "    \n",
    "    return tagged_lower_text\n",
    "\n",
    "\n",
    "def lemmatize_text(tokens):\n",
    "    '''A function that lemmatize the input string\n",
    "    Input: A string\n",
    "    Output: A lemmatized string'''\n",
    "    \n",
    "    wnl = WordNetLemmatizer()\n",
    "    pos_tagged_text = pos_tag_text(tokens)\n",
    "    \n",
    "    lemmatized_tokens = [wnl.lemmatize(word, pos_tag) if pos_tag else word for word, pos_tag in pos_tagged_text]\n",
    "    lemmatized_text = ' '.join(lemmatized_tokens)\n",
    "    \n",
    "    return lemmatized_text"
   ]
  },
  {
   "cell_type": "code",
   "execution_count": 73,
   "metadata": {},
   "outputs": [],
   "source": [
    "lemmatized_text = tokens.apply(lambda r:lemmatize_text(r))"
   ]
  },
  {
   "cell_type": "markdown",
   "metadata": {},
   "source": [
    "## Sentimental Analysis using VADER"
   ]
  },
  {
   "cell_type": "code",
   "execution_count": 74,
   "metadata": {},
   "outputs": [
    {
     "name": "stdout",
     "output_type": "stream",
     "text": [
      "--2019-06-15 04:01:07--  https://docs.google.com/uc?export=download&confirm=&id=1UAc8ePRqG4JkLdgL7zEaSXjiFEWf1iaN\n",
      "Resolving docs.google.com (docs.google.com)... 74.125.142.139, 74.125.142.113, 74.125.142.138, ...\n",
      "Connecting to docs.google.com (docs.google.com)|74.125.142.139|:443... connected.\n",
      "HTTP request sent, awaiting response... 302 Moved Temporarily\n",
      "Location: https://doc-0o-6c-docs.googleusercontent.com/docs/securesc/ha0ro937gcuc7l7deffksulhg5h7mbp1/o4uhiqk8h1ngaqaqc06q97jsdg6kpb7h/1560571200000/18419957613213493679/*/1UAc8ePRqG4JkLdgL7zEaSXjiFEWf1iaN?e=download [following]\n",
      "Warning: wildcards not supported in HTTP.\n",
      "--2019-06-15 04:01:07--  https://doc-0o-6c-docs.googleusercontent.com/docs/securesc/ha0ro937gcuc7l7deffksulhg5h7mbp1/o4uhiqk8h1ngaqaqc06q97jsdg6kpb7h/1560571200000/18419957613213493679/*/1UAc8ePRqG4JkLdgL7zEaSXjiFEWf1iaN?e=download\n",
      "Resolving doc-0o-6c-docs.googleusercontent.com (doc-0o-6c-docs.googleusercontent.com)... 74.125.142.132, 2607:f8b0:400e:c08::84\n",
      "Connecting to doc-0o-6c-docs.googleusercontent.com (doc-0o-6c-docs.googleusercontent.com)|74.125.142.132|:443... connected.\n",
      "HTTP request sent, awaiting response... 200 OK\n",
      "Length: 426631 (417K) [text/plain]\n",
      "Saving to: ‘vader_lexicon.txt’\n",
      "\n",
      "vader_lexicon.txt   100%[===================>] 416.63K  --.-KB/s    in 0.004s  \n",
      "\n",
      "2019-06-15 04:01:07 (93.1 MB/s) - ‘vader_lexicon.txt’ saved [426631/426631]\n",
      "\n"
     ]
    }
   ],
   "source": [
    "#Download the VADER dictionary from my Google drive\n",
    "!wget --load-cookies /tmp/cookies.txt \"https://docs.google.com/uc?export=download&confirm=$(wget --quiet --save-cookies /tmp/cookies.txt --keep-session-cookies --no-check-certificate 'https://docs.google.com/uc?export=download&id=1UAc8ePRqG4JkLdgL7zEaSXjiFEWf1iaN' -O- | sed -rn 's/.*confirm=([0-9A-Za-z_]+).*/\\1\\n/p')&id=1UAc8ePRqG4JkLdgL7zEaSXjiFEWf1iaN\" -O \"vader_lexicon.txt\" && rm -rf /tmp/cookies.txt"
   ]
  },
  {
   "cell_type": "code",
   "execution_count": 75,
   "metadata": {},
   "outputs": [
    {
     "data": {
      "text/plain": [
       "<_io.TextIOWrapper name='vader_lexicon.txt' mode='r' encoding='UTF-8'>"
      ]
     },
     "execution_count": 75,
     "metadata": {},
     "output_type": "execute_result"
    }
   ],
   "source": [
    "open(\"vader_lexicon.txt\")"
   ]
  },
  {
   "cell_type": "code",
   "execution_count": 76,
   "metadata": {},
   "outputs": [
    {
     "data": {
      "text/html": [
       "<div>\n",
       "<style scoped>\n",
       "    .dataframe tbody tr th:only-of-type {\n",
       "        vertical-align: middle;\n",
       "    }\n",
       "\n",
       "    .dataframe tbody tr th {\n",
       "        vertical-align: top;\n",
       "    }\n",
       "\n",
       "    .dataframe thead th {\n",
       "        text-align: right;\n",
       "    }\n",
       "</style>\n",
       "<table border=\"1\" class=\"dataframe\">\n",
       "  <thead>\n",
       "    <tr style=\"text-align: right;\">\n",
       "      <th></th>\n",
       "      <th>polarity</th>\n",
       "    </tr>\n",
       "  </thead>\n",
       "  <tbody>\n",
       "    <tr>\n",
       "      <th>$:</th>\n",
       "      <td>-1.5</td>\n",
       "    </tr>\n",
       "    <tr>\n",
       "      <th>%)</th>\n",
       "      <td>-0.4</td>\n",
       "    </tr>\n",
       "    <tr>\n",
       "      <th>%-)</th>\n",
       "      <td>-1.5</td>\n",
       "    </tr>\n",
       "    <tr>\n",
       "      <th>&amp;-:</th>\n",
       "      <td>-0.4</td>\n",
       "    </tr>\n",
       "    <tr>\n",
       "      <th>&amp;:</th>\n",
       "      <td>-0.7</td>\n",
       "    </tr>\n",
       "  </tbody>\n",
       "</table>\n",
       "</div>"
      ],
      "text/plain": [
       "     polarity\n",
       "$:       -1.5\n",
       "%)       -0.4\n",
       "%-)      -1.5\n",
       "&-:      -0.4\n",
       "&:       -0.7"
      ]
     },
     "execution_count": 76,
     "metadata": {},
     "output_type": "execute_result"
    }
   ],
   "source": [
    "#Read the txt file, set index, and set column names\n",
    "sent_all = pd.read_csv(\"vader_lexicon.txt\",sep=\"\\t\",index_col=0, names=[\"polarity\",\"std\",\"ratings\"])\n",
    "#Select only the polarity column\n",
    "sent = sent_all[[\"polarity\"]]\n",
    "sent.head()"
   ]
  },
  {
   "cell_type": "code",
   "execution_count": 77,
   "metadata": {},
   "outputs": [],
   "source": [
    "tidy_format = lemmatized_text.str.split(r\"[ ]+\",expand=True).stack().reset_index(-1)\n",
    "#Reset column names\n",
    "tidy_format.columns = [\"num\",\"word\"]"
   ]
  },
  {
   "cell_type": "code",
   "execution_count": 78,
   "metadata": {},
   "outputs": [],
   "source": [
    "#1. Merge \"tidy_format\" and \"sent\" by words to get polarity\n",
    "#2. drop columns excepct for polarity\n",
    "#3. sum up the polarity by tweet id\n",
    "polarity_df = tidy_format.merge(right=sent, left_on=\"word\",right_index=True) \\\n",
    "                .drop([\"num\",\"word\"],axis=1) \\\n",
    "                .groupby(level=0).apply(np.sum)"
   ]
  },
  {
   "cell_type": "code",
   "execution_count": 79,
   "metadata": {},
   "outputs": [],
   "source": [
    "#Get the average for each business _id\n",
    "avg_polarity = [float(polarity_df.iloc[i]/num_review[i]) for i in range(len(polarity_df))]"
   ]
  },
  {
   "cell_type": "code",
   "execution_count": 80,
   "metadata": {},
   "outputs": [
    {
     "data": {
      "text/html": [
       "<div>\n",
       "<style scoped>\n",
       "    .dataframe tbody tr th:only-of-type {\n",
       "        vertical-align: middle;\n",
       "    }\n",
       "\n",
       "    .dataframe tbody tr th {\n",
       "        vertical-align: top;\n",
       "    }\n",
       "\n",
       "    .dataframe thead th {\n",
       "        text-align: right;\n",
       "    }\n",
       "</style>\n",
       "<table border=\"1\" class=\"dataframe\">\n",
       "  <thead>\n",
       "    <tr style=\"text-align: right;\">\n",
       "      <th></th>\n",
       "      <th>business_id</th>\n",
       "      <th>text</th>\n",
       "      <th>avg_polarity</th>\n",
       "    </tr>\n",
       "  </thead>\n",
       "  <tbody>\n",
       "    <tr>\n",
       "      <th>0</th>\n",
       "      <td>-01XupAWZEXbdNbxNg5mEg</td>\n",
       "      <td>If I weren't held hostage at hockey lessons tw...</td>\n",
       "      <td>10.27</td>\n",
       "    </tr>\n",
       "    <tr>\n",
       "      <th>1</th>\n",
       "      <td>-092wE7j5HZOogMLAh40zA</td>\n",
       "      <td>I normally like to write up a storm. But I'm g...</td>\n",
       "      <td>10.96</td>\n",
       "    </tr>\n",
       "    <tr>\n",
       "      <th>2</th>\n",
       "      <td>-0Sgh0QlUKVsWosCWJzGqQ</td>\n",
       "      <td>Update: I know it's really late but only fair ...</td>\n",
       "      <td>1.22</td>\n",
       "    </tr>\n",
       "    <tr>\n",
       "      <th>3</th>\n",
       "      <td>-0WegMt6Cy966qlDKhu6jA</td>\n",
       "      <td>Ordered my food an hour before the game. Got i...</td>\n",
       "      <td>3.19</td>\n",
       "    </tr>\n",
       "    <tr>\n",
       "      <th>4</th>\n",
       "      <td>-0tgMGl7D9B10YjSN2ujLA</td>\n",
       "      <td>If you would like to have your rights violated...</td>\n",
       "      <td>4.48</td>\n",
       "    </tr>\n",
       "  </tbody>\n",
       "</table>\n",
       "</div>"
      ],
      "text/plain": [
       "              business_id                                               text  \\\n",
       "0  -01XupAWZEXbdNbxNg5mEg  If I weren't held hostage at hockey lessons tw...   \n",
       "1  -092wE7j5HZOogMLAh40zA  I normally like to write up a storm. But I'm g...   \n",
       "2  -0Sgh0QlUKVsWosCWJzGqQ  Update: I know it's really late but only fair ...   \n",
       "3  -0WegMt6Cy966qlDKhu6jA  Ordered my food an hour before the game. Got i...   \n",
       "4  -0tgMGl7D9B10YjSN2ujLA  If you would like to have your rights violated...   \n",
       "\n",
       "   avg_polarity  \n",
       "0         10.27  \n",
       "1         10.96  \n",
       "2          1.22  \n",
       "3          3.19  \n",
       "4          4.48  "
      ]
     },
     "execution_count": 80,
     "metadata": {},
     "output_type": "execute_result"
    }
   ],
   "source": [
    "review_df[\"avg_polarity\"] = pd.Series(avg_polarity,index=review_df.index)\n",
    "review_df.head()"
   ]
  },
  {
   "cell_type": "code",
   "execution_count": 81,
   "metadata": {},
   "outputs": [
    {
     "data": {
      "text/plain": [
       "Text(0.5, 1.0, 'Distribution of Average Polartiy')"
      ]
     },
     "execution_count": 81,
     "metadata": {},
     "output_type": "execute_result"
    },
    {
     "data": {
      "image/png": "[encoded data removed]",
      "text/plain": [
       "<Figure size 432x288 with 1 Axes>"
      ]
     },
     "metadata": {
      "needs_background": "light"
     },
     "output_type": "display_data"
    }
   ],
   "source": [
    "#See the distribution of overall avg_polarity\n",
    "sns.distplot(a=list(review_df.avg_polarity))\n",
    "plt.xlabel(\"avg_polarity\")\n",
    "plt.title(\"Distribution of Average Polartiy\")"
   ]
  },
  {
   "cell_type": "markdown",
   "metadata": {},
   "source": [
    "## Merge \"polarity\" to the master dataset by business_id"
   ]
  },
  {
   "cell_type": "code",
   "execution_count": 82,
   "metadata": {},
   "outputs": [],
   "source": [
    "df2 = df.merge(left_on=\"business_id\", right=review_df.set_index(\"business_id\")[\"avg_polarity\"], \\\n",
    "            right_index=True,how=\"left\")\n",
    "df2[\"avg_polarity\"] = df2[\"avg_polarity\"].fillna(0.0)"
   ]
  },
  {
   "cell_type": "code",
   "execution_count": 83,
   "metadata": {},
   "outputs": [],
   "source": [
    "df1 = df2.drop([\"address\",\"attributes\",\"business_id\",\"categories\",\"city\",\"hours\", \\\n",
    "               \"latitude\",\"longitude\",\"name\",\"postal_code\",\"state\"],axis=1)"
   ]
  },
  {
   "cell_type": "markdown",
   "metadata": {},
   "source": [
    "# Normalize numerica variable"
   ]
  },
  {
   "cell_type": "code",
   "execution_count": 84,
   "metadata": {},
   "outputs": [],
   "source": [
    "from sklearn import preprocessing"
   ]
  },
  {
   "cell_type": "code",
   "execution_count": 85,
   "metadata": {},
   "outputs": [],
   "source": [
    "num_cols = ['review_count', 'stars', 'weekly_hours','avg_polarity']\n",
    "label_col = [\"is_closed\"]\n",
    "dummies = ['ahwatukee', 'anthem', 'apache junction', 'avondale', 'buckeye', 'carefree', \\\n",
    "           'cave creek', 'central city', 'central city village', 'chandler', \\\n",
    "           'el mirage', 'fort mcdowell', 'fountain hills', 'gilbert', 'glendale', \\\n",
    "           'goodyear', 'guadalupe', 'higley', 'laveen', 'laveen village', \\\n",
    "           'litchfield park', 'maricopa', 'mesa', 'paradise valley', 'peoria', \\\n",
    "           'phoenix', 'phoenix valley', 'queen creek', 'rio verde', 'scottsdale', \\\n",
    "           'somerton', 'sun city', 'sun city west', 'sun lakes', 'surprise', \\\n",
    "           'tempe', 'tolleson', 'waddell', 'youngtown', 'price_1', 'price_2', \\\n",
    "           'price_3', 'price_4', 'price_None', 'is_chain']\n",
    "#Normalize the numeric columns\n",
    "num_df = pd.DataFrame(preprocessing.normalize(df1[num_cols]),columns=num_cols,index=df1.index)\n",
    "dummy_df = df1[dummies]\n",
    "label_df = df1[label_col]\n",
    "#Concat and reorder columns\n",
    "df1 = pd.concat([num_df,dummy_df,label_df],axis=1)"
   ]
  },
  {
   "cell_type": "code",
   "execution_count": 86,
   "metadata": {},
   "outputs": [
    {
     "data": {
      "text/plain": [
       "(7528, 50)"
      ]
     },
     "execution_count": 86,
     "metadata": {},
     "output_type": "execute_result"
    }
   ],
   "source": [
    "df1.shape"
   ]
  },
  {
   "cell_type": "markdown",
   "metadata": {},
   "source": [
    "# Split training set and test set"
   ]
  },
  {
   "cell_type": "code",
   "execution_count": 87,
   "metadata": {},
   "outputs": [],
   "source": [
    "from sklearn import model_selection"
   ]
  },
  {
   "cell_type": "code",
   "execution_count": 88,
   "metadata": {},
   "outputs": [],
   "source": [
    "train_df, test_df = model_selection.train_test_split(df1, train_size=0.8, test_size=0.2, random_state=314)"
   ]
  },
  {
   "cell_type": "code",
   "execution_count": 89,
   "metadata": {},
   "outputs": [
    {
     "data": {
      "text/plain": [
       "[6022, 1506]"
      ]
     },
     "execution_count": 89,
     "metadata": {},
     "output_type": "execute_result"
    }
   ],
   "source": [
    "[len(train_df),len(test_df)]"
   ]
  },
  {
   "cell_type": "code",
   "execution_count": 90,
   "metadata": {},
   "outputs": [],
   "source": [
    "X_tr = train_df.drop(\"is_closed\",axis=1)\n",
    "Y_tr = train_df.is_closed\n",
    "\n",
    "X_tst = test_df.drop(\"is_closed\",axis=1)\n",
    "Y_tst = test_df.is_closed"
   ]
  },
  {
   "cell_type": "markdown",
   "metadata": {},
   "source": [
    "# Modeling and tuning"
   ]
  },
  {
   "cell_type": "markdown",
   "metadata": {},
   "source": [
    "## Logistic regression with ridge only"
   ]
  },
  {
   "cell_type": "code",
   "execution_count": 91,
   "metadata": {},
   "outputs": [],
   "source": [
    "from sklearn.linear_model import LogisticRegression\n",
    "from sklearn.model_selection import GridSearchCV\n",
    "\n",
    "ridge = LogisticRegression(penalty=\"l2\", class_weight=\"balanced\", tol=0.001, max_iter=100)"
   ]
  },
  {
   "cell_type": "code",
   "execution_count": 92,
   "metadata": {},
   "outputs": [],
   "source": [
    "#Define a parameters grip for cross validation\n",
    "para_grid = {\"C\": [0.01,0.1,0.5,1,5,10,100], \\\n",
    "            \"solver\":[ 'liblinear', 'saga']}"
   ]
  },
  {
   "cell_type": "code",
   "execution_count": 93,
   "metadata": {
    "scrolled": true
   },
   "outputs": [
    {
     "name": "stderr",
     "output_type": "stream",
     "text": [
      "/opt/conda/lib/python3.6/site-packages/sklearn/linear_model/sag.py:337: ConvergenceWarning: The max_iter was reached which means the coef_ did not converge\n",
      "  \"the coef_ did not converge\", ConvergenceWarning)\n",
      "/opt/conda/lib/python3.6/site-packages/sklearn/linear_model/sag.py:337: ConvergenceWarning: The max_iter was reached which means the coef_ did not converge\n",
      "  \"the coef_ did not converge\", ConvergenceWarning)\n",
      "/opt/conda/lib/python3.6/site-packages/sklearn/linear_model/sag.py:337: ConvergenceWarning: The max_iter was reached which means the coef_ did not converge\n",
      "  \"the coef_ did not converge\", ConvergenceWarning)\n",
      "/opt/conda/lib/python3.6/site-packages/sklearn/linear_model/sag.py:337: ConvergenceWarning: The max_iter was reached which means the coef_ did not converge\n",
      "  \"the coef_ did not converge\", ConvergenceWarning)\n",
      "/opt/conda/lib/python3.6/site-packages/sklearn/linear_model/sag.py:337: ConvergenceWarning: The max_iter was reached which means the coef_ did not converge\n",
      "  \"the coef_ did not converge\", ConvergenceWarning)\n",
      "/opt/conda/lib/python3.6/site-packages/sklearn/linear_model/sag.py:337: ConvergenceWarning: The max_iter was reached which means the coef_ did not converge\n",
      "  \"the coef_ did not converge\", ConvergenceWarning)\n",
      "/opt/conda/lib/python3.6/site-packages/sklearn/linear_model/sag.py:337: ConvergenceWarning: The max_iter was reached which means the coef_ did not converge\n",
      "  \"the coef_ did not converge\", ConvergenceWarning)\n",
      "/opt/conda/lib/python3.6/site-packages/sklearn/linear_model/sag.py:337: ConvergenceWarning: The max_iter was reached which means the coef_ did not converge\n",
      "  \"the coef_ did not converge\", ConvergenceWarning)\n",
      "/opt/conda/lib/python3.6/site-packages/sklearn/linear_model/sag.py:337: ConvergenceWarning: The max_iter was reached which means the coef_ did not converge\n",
      "  \"the coef_ did not converge\", ConvergenceWarning)\n",
      "/opt/conda/lib/python3.6/site-packages/sklearn/linear_model/sag.py:337: ConvergenceWarning: The max_iter was reached which means the coef_ did not converge\n",
      "  \"the coef_ did not converge\", ConvergenceWarning)\n",
      "/opt/conda/lib/python3.6/site-packages/sklearn/linear_model/sag.py:337: ConvergenceWarning: The max_iter was reached which means the coef_ did not converge\n",
      "  \"the coef_ did not converge\", ConvergenceWarning)\n",
      "/opt/conda/lib/python3.6/site-packages/sklearn/linear_model/sag.py:337: ConvergenceWarning: The max_iter was reached which means the coef_ did not converge\n",
      "  \"the coef_ did not converge\", ConvergenceWarning)\n",
      "/opt/conda/lib/python3.6/site-packages/sklearn/linear_model/sag.py:337: ConvergenceWarning: The max_iter was reached which means the coef_ did not converge\n",
      "  \"the coef_ did not converge\", ConvergenceWarning)\n",
      "/opt/conda/lib/python3.6/site-packages/sklearn/linear_model/sag.py:337: ConvergenceWarning: The max_iter was reached which means the coef_ did not converge\n",
      "  \"the coef_ did not converge\", ConvergenceWarning)\n",
      "/opt/conda/lib/python3.6/site-packages/sklearn/linear_model/sag.py:337: ConvergenceWarning: The max_iter was reached which means the coef_ did not converge\n",
      "  \"the coef_ did not converge\", ConvergenceWarning)\n",
      "/opt/conda/lib/python3.6/site-packages/sklearn/linear_model/sag.py:337: ConvergenceWarning: The max_iter was reached which means the coef_ did not converge\n",
      "  \"the coef_ did not converge\", ConvergenceWarning)\n",
      "/opt/conda/lib/python3.6/site-packages/sklearn/linear_model/sag.py:337: ConvergenceWarning: The max_iter was reached which means the coef_ did not converge\n",
      "  \"the coef_ did not converge\", ConvergenceWarning)\n",
      "/opt/conda/lib/python3.6/site-packages/sklearn/linear_model/sag.py:337: ConvergenceWarning: The max_iter was reached which means the coef_ did not converge\n",
      "  \"the coef_ did not converge\", ConvergenceWarning)\n",
      "/opt/conda/lib/python3.6/site-packages/sklearn/linear_model/sag.py:337: ConvergenceWarning: The max_iter was reached which means the coef_ did not converge\n",
      "  \"the coef_ did not converge\", ConvergenceWarning)\n",
      "/opt/conda/lib/python3.6/site-packages/sklearn/linear_model/sag.py:337: ConvergenceWarning: The max_iter was reached which means the coef_ did not converge\n",
      "  \"the coef_ did not converge\", ConvergenceWarning)\n",
      "/opt/conda/lib/python3.6/site-packages/sklearn/linear_model/sag.py:337: ConvergenceWarning: The max_iter was reached which means the coef_ did not converge\n",
      "  \"the coef_ did not converge\", ConvergenceWarning)\n",
      "/opt/conda/lib/python3.6/site-packages/sklearn/linear_model/sag.py:337: ConvergenceWarning: The max_iter was reached which means the coef_ did not converge\n",
      "  \"the coef_ did not converge\", ConvergenceWarning)\n",
      "/opt/conda/lib/python3.6/site-packages/sklearn/linear_model/sag.py:337: ConvergenceWarning: The max_iter was reached which means the coef_ did not converge\n",
      "  \"the coef_ did not converge\", ConvergenceWarning)\n",
      "/opt/conda/lib/python3.6/site-packages/sklearn/linear_model/sag.py:337: ConvergenceWarning: The max_iter was reached which means the coef_ did not converge\n",
      "  \"the coef_ did not converge\", ConvergenceWarning)\n",
      "/opt/conda/lib/python3.6/site-packages/sklearn/linear_model/sag.py:337: ConvergenceWarning: The max_iter was reached which means the coef_ did not converge\n",
      "  \"the coef_ did not converge\", ConvergenceWarning)\n",
      "/opt/conda/lib/python3.6/site-packages/sklearn/linear_model/sag.py:337: ConvergenceWarning: The max_iter was reached which means the coef_ did not converge\n",
      "  \"the coef_ did not converge\", ConvergenceWarning)\n",
      "/opt/conda/lib/python3.6/site-packages/sklearn/linear_model/sag.py:337: ConvergenceWarning: The max_iter was reached which means the coef_ did not converge\n",
      "  \"the coef_ did not converge\", ConvergenceWarning)\n",
      "/opt/conda/lib/python3.6/site-packages/sklearn/linear_model/sag.py:337: ConvergenceWarning: The max_iter was reached which means the coef_ did not converge\n",
      "  \"the coef_ did not converge\", ConvergenceWarning)\n",
      "/opt/conda/lib/python3.6/site-packages/sklearn/linear_model/sag.py:337: ConvergenceWarning: The max_iter was reached which means the coef_ did not converge\n",
      "  \"the coef_ did not converge\", ConvergenceWarning)\n"
     ]
    },
    {
     "data": {
      "text/plain": [
       "GridSearchCV(cv=4, error_score='raise-deprecating',\n",
       "             estimator=LogisticRegression(C=1.0, class_weight='balanced',\n",
       "                                          dual=False, fit_intercept=True,\n",
       "                                          intercept_scaling=1, l1_ratio=None,\n",
       "                                          max_iter=100, multi_class='warn',\n",
       "                                          n_jobs=None, penalty='l2',\n",
       "                                          random_state=None, solver='warn',\n",
       "                                          tol=0.001, verbose=0,\n",
       "                                          warm_start=False),\n",
       "             iid='warn', n_jobs=None,\n",
       "             param_grid={'C': [0.01, 0.1, 0.5, 1, 5, 10, 100],\n",
       "                         'solver': ['liblinear', 'saga']},\n",
       "             pre_dispatch='2*n_jobs', refit=True, return_train_score=False,\n",
       "             scoring=None, verbose=0)"
      ]
     },
     "execution_count": 93,
     "metadata": {},
     "output_type": "execute_result"
    }
   ],
   "source": [
    "#4-fold cross validation\n",
    "ridge_cv = GridSearchCV(ridge, para_grid, cv=4)\n",
    "ridge_cv.fit(X_tr, Y_tr)"
   ]
  },
  {
   "cell_type": "code",
   "execution_count": 94,
   "metadata": {},
   "outputs": [],
   "source": [
    "#Def a fucntiont to find the best model and its mean test accuracy\n",
    "def find_best(cv_out):\n",
    "    return (cv_out.cv_results_[\"params\"][np.where(cv_out.cv_results_['rank_test_score']==1)[0][0]], \\\n",
    "           cv_out.cv_results_['mean_test_score'][np.where(cv_out.cv_results_['rank_test_score']==1)[0][0]],)"
   ]
  },
  {
   "cell_type": "code",
   "execution_count": 95,
   "metadata": {},
   "outputs": [
    {
     "data": {
      "text/plain": [
       "({'C': 1, 'solver': 'saga'}, 0.7612089006974427)"
      ]
     },
     "execution_count": 95,
     "metadata": {},
     "output_type": "execute_result"
    }
   ],
   "source": [
    "#Get the best model\n",
    "find_best(ridge_cv)"
   ]
  },
  {
   "cell_type": "code",
   "execution_count": null,
   "metadata": {},
   "outputs": [],
   "source": []
  },
  {
   "cell_type": "markdown",
   "metadata": {},
   "source": [
    "## Logistic with Lasso"
   ]
  },
  {
   "cell_type": "code",
   "execution_count": 96,
   "metadata": {},
   "outputs": [],
   "source": [
    "lasso = LogisticRegression(penalty=\"l1\", class_weight=\"balanced\", tol=0.001, max_iter=100)"
   ]
  },
  {
   "cell_type": "code",
   "execution_count": 97,
   "metadata": {},
   "outputs": [],
   "source": [
    "#Define a parameters grip for cross validation\n",
    "para_grid = {\"C\": [0.01,0.1,0.5,1,5,10,100], \\\n",
    "            \"solver\":['liblinear', 'saga']}"
   ]
  },
  {
   "cell_type": "code",
   "execution_count": 98,
   "metadata": {
    "scrolled": true
   },
   "outputs": [
    {
     "name": "stderr",
     "output_type": "stream",
     "text": [
      "/opt/conda/lib/python3.6/site-packages/sklearn/linear_model/sag.py:337: ConvergenceWarning: The max_iter was reached which means the coef_ did not converge\n",
      "  \"the coef_ did not converge\", ConvergenceWarning)\n",
      "/opt/conda/lib/python3.6/site-packages/sklearn/linear_model/sag.py:337: ConvergenceWarning: The max_iter was reached which means the coef_ did not converge\n",
      "  \"the coef_ did not converge\", ConvergenceWarning)\n",
      "/opt/conda/lib/python3.6/site-packages/sklearn/linear_model/sag.py:337: ConvergenceWarning: The max_iter was reached which means the coef_ did not converge\n",
      "  \"the coef_ did not converge\", ConvergenceWarning)\n",
      "/opt/conda/lib/python3.6/site-packages/sklearn/linear_model/sag.py:337: ConvergenceWarning: The max_iter was reached which means the coef_ did not converge\n",
      "  \"the coef_ did not converge\", ConvergenceWarning)\n",
      "/opt/conda/lib/python3.6/site-packages/sklearn/linear_model/sag.py:337: ConvergenceWarning: The max_iter was reached which means the coef_ did not converge\n",
      "  \"the coef_ did not converge\", ConvergenceWarning)\n",
      "/opt/conda/lib/python3.6/site-packages/sklearn/linear_model/sag.py:337: ConvergenceWarning: The max_iter was reached which means the coef_ did not converge\n",
      "  \"the coef_ did not converge\", ConvergenceWarning)\n",
      "/opt/conda/lib/python3.6/site-packages/sklearn/linear_model/sag.py:337: ConvergenceWarning: The max_iter was reached which means the coef_ did not converge\n",
      "  \"the coef_ did not converge\", ConvergenceWarning)\n",
      "/opt/conda/lib/python3.6/site-packages/sklearn/linear_model/sag.py:337: ConvergenceWarning: The max_iter was reached which means the coef_ did not converge\n",
      "  \"the coef_ did not converge\", ConvergenceWarning)\n",
      "/opt/conda/lib/python3.6/site-packages/sklearn/linear_model/sag.py:337: ConvergenceWarning: The max_iter was reached which means the coef_ did not converge\n",
      "  \"the coef_ did not converge\", ConvergenceWarning)\n",
      "/opt/conda/lib/python3.6/site-packages/sklearn/linear_model/sag.py:337: ConvergenceWarning: The max_iter was reached which means the coef_ did not converge\n",
      "  \"the coef_ did not converge\", ConvergenceWarning)\n",
      "/opt/conda/lib/python3.6/site-packages/sklearn/linear_model/sag.py:337: ConvergenceWarning: The max_iter was reached which means the coef_ did not converge\n",
      "  \"the coef_ did not converge\", ConvergenceWarning)\n",
      "/opt/conda/lib/python3.6/site-packages/sklearn/linear_model/sag.py:337: ConvergenceWarning: The max_iter was reached which means the coef_ did not converge\n",
      "  \"the coef_ did not converge\", ConvergenceWarning)\n",
      "/opt/conda/lib/python3.6/site-packages/sklearn/linear_model/sag.py:337: ConvergenceWarning: The max_iter was reached which means the coef_ did not converge\n",
      "  \"the coef_ did not converge\", ConvergenceWarning)\n",
      "/opt/conda/lib/python3.6/site-packages/sklearn/linear_model/sag.py:337: ConvergenceWarning: The max_iter was reached which means the coef_ did not converge\n",
      "  \"the coef_ did not converge\", ConvergenceWarning)\n",
      "/opt/conda/lib/python3.6/site-packages/sklearn/linear_model/sag.py:337: ConvergenceWarning: The max_iter was reached which means the coef_ did not converge\n",
      "  \"the coef_ did not converge\", ConvergenceWarning)\n",
      "/opt/conda/lib/python3.6/site-packages/sklearn/linear_model/sag.py:337: ConvergenceWarning: The max_iter was reached which means the coef_ did not converge\n",
      "  \"the coef_ did not converge\", ConvergenceWarning)\n",
      "/opt/conda/lib/python3.6/site-packages/sklearn/linear_model/sag.py:337: ConvergenceWarning: The max_iter was reached which means the coef_ did not converge\n",
      "  \"the coef_ did not converge\", ConvergenceWarning)\n",
      "/opt/conda/lib/python3.6/site-packages/sklearn/linear_model/sag.py:337: ConvergenceWarning: The max_iter was reached which means the coef_ did not converge\n",
      "  \"the coef_ did not converge\", ConvergenceWarning)\n",
      "/opt/conda/lib/python3.6/site-packages/sklearn/linear_model/sag.py:337: ConvergenceWarning: The max_iter was reached which means the coef_ did not converge\n",
      "  \"the coef_ did not converge\", ConvergenceWarning)\n",
      "/opt/conda/lib/python3.6/site-packages/sklearn/linear_model/sag.py:337: ConvergenceWarning: The max_iter was reached which means the coef_ did not converge\n",
      "  \"the coef_ did not converge\", ConvergenceWarning)\n",
      "/opt/conda/lib/python3.6/site-packages/sklearn/linear_model/sag.py:337: ConvergenceWarning: The max_iter was reached which means the coef_ did not converge\n",
      "  \"the coef_ did not converge\", ConvergenceWarning)\n",
      "/opt/conda/lib/python3.6/site-packages/sklearn/linear_model/sag.py:337: ConvergenceWarning: The max_iter was reached which means the coef_ did not converge\n",
      "  \"the coef_ did not converge\", ConvergenceWarning)\n",
      "/opt/conda/lib/python3.6/site-packages/sklearn/linear_model/sag.py:337: ConvergenceWarning: The max_iter was reached which means the coef_ did not converge\n",
      "  \"the coef_ did not converge\", ConvergenceWarning)\n",
      "/opt/conda/lib/python3.6/site-packages/sklearn/linear_model/sag.py:337: ConvergenceWarning: The max_iter was reached which means the coef_ did not converge\n",
      "  \"the coef_ did not converge\", ConvergenceWarning)\n",
      "/opt/conda/lib/python3.6/site-packages/sklearn/svm/base.py:929: ConvergenceWarning: Liblinear failed to converge, increase the number of iterations.\n",
      "  \"the number of iterations.\", ConvergenceWarning)\n",
      "/opt/conda/lib/python3.6/site-packages/sklearn/svm/base.py:929: ConvergenceWarning: Liblinear failed to converge, increase the number of iterations.\n",
      "  \"the number of iterations.\", ConvergenceWarning)\n",
      "/opt/conda/lib/python3.6/site-packages/sklearn/svm/base.py:929: ConvergenceWarning: Liblinear failed to converge, increase the number of iterations.\n",
      "  \"the number of iterations.\", ConvergenceWarning)\n",
      "/opt/conda/lib/python3.6/site-packages/sklearn/svm/base.py:929: ConvergenceWarning: Liblinear failed to converge, increase the number of iterations.\n",
      "  \"the number of iterations.\", ConvergenceWarning)\n",
      "/opt/conda/lib/python3.6/site-packages/sklearn/linear_model/sag.py:337: ConvergenceWarning: The max_iter was reached which means the coef_ did not converge\n",
      "  \"the coef_ did not converge\", ConvergenceWarning)\n",
      "/opt/conda/lib/python3.6/site-packages/sklearn/linear_model/sag.py:337: ConvergenceWarning: The max_iter was reached which means the coef_ did not converge\n",
      "  \"the coef_ did not converge\", ConvergenceWarning)\n",
      "/opt/conda/lib/python3.6/site-packages/sklearn/linear_model/sag.py:337: ConvergenceWarning: The max_iter was reached which means the coef_ did not converge\n",
      "  \"the coef_ did not converge\", ConvergenceWarning)\n",
      "/opt/conda/lib/python3.6/site-packages/sklearn/linear_model/sag.py:337: ConvergenceWarning: The max_iter was reached which means the coef_ did not converge\n",
      "  \"the coef_ did not converge\", ConvergenceWarning)\n",
      "/opt/conda/lib/python3.6/site-packages/sklearn/linear_model/sag.py:337: ConvergenceWarning: The max_iter was reached which means the coef_ did not converge\n",
      "  \"the coef_ did not converge\", ConvergenceWarning)\n"
     ]
    },
    {
     "data": {
      "text/plain": [
       "GridSearchCV(cv=4, error_score='raise-deprecating',\n",
       "             estimator=LogisticRegression(C=1.0, class_weight='balanced',\n",
       "                                          dual=False, fit_intercept=True,\n",
       "                                          intercept_scaling=1, l1_ratio=None,\n",
       "                                          max_iter=100, multi_class='warn',\n",
       "                                          n_jobs=None, penalty='l1',\n",
       "                                          random_state=None, solver='warn',\n",
       "                                          tol=0.001, verbose=0,\n",
       "                                          warm_start=False),\n",
       "             iid='warn', n_jobs=None,\n",
       "             param_grid={'C': [0.01, 0.1, 0.5, 1, 5, 10, 100],\n",
       "                         'solver': ['liblinear', 'saga']},\n",
       "             pre_dispatch='2*n_jobs', refit=True, return_train_score=False,\n",
       "             scoring=None, verbose=0)"
      ]
     },
     "execution_count": 98,
     "metadata": {},
     "output_type": "execute_result"
    }
   ],
   "source": [
    "#4-fold cross validation\n",
    "lasso_cv = GridSearchCV(lasso, para_grid, cv=4)\n",
    "lasso_cv.fit(X_tr, Y_tr)"
   ]
  },
  {
   "cell_type": "code",
   "execution_count": 99,
   "metadata": {},
   "outputs": [
    {
     "data": {
      "text/plain": [
       "({'C': 1, 'solver': 'saga'}, 0.6947857854533378)"
      ]
     },
     "execution_count": 99,
     "metadata": {},
     "output_type": "execute_result"
    }
   ],
   "source": [
    "find_best(lasso_cv)"
   ]
  },
  {
   "cell_type": "markdown",
   "metadata": {},
   "source": [
    "## Logistic with ElasticNet"
   ]
  },
  {
   "cell_type": "code",
   "execution_count": 100,
   "metadata": {},
   "outputs": [
    {
     "name": "stdout",
     "output_type": "stream",
     "text": [
      "Requirement already up-to-date: scikit-learn in /opt/conda/lib/python3.6/site-packages (0.21.2)\r\n",
      "Requirement already satisfied, skipping upgrade: numpy>=1.11.0 in /opt/conda/lib/python3.6/site-packages (from scikit-learn) (1.16.4)\r\n",
      "Requirement already satisfied, skipping upgrade: scipy>=0.17.0 in /opt/conda/lib/python3.6/site-packages (from scikit-learn) (1.2.1)\r\n",
      "Requirement already satisfied, skipping upgrade: joblib>=0.11 in /opt/conda/lib/python3.6/site-packages (from scikit-learn) (0.13.2)\r\n"
     ]
    }
   ],
   "source": [
    "!pip install -U scikit-learn"
   ]
  },
  {
   "cell_type": "code",
   "execution_count": 101,
   "metadata": {},
   "outputs": [],
   "source": [
    "from sklearn.linear_model import LogisticRegression"
   ]
  },
  {
   "cell_type": "code",
   "execution_count": 102,
   "metadata": {},
   "outputs": [],
   "source": [
    "elasticnet = LogisticRegression(penalty='elasticnet', class_weight=\"balanced\", tol=0.001, max_iter=100, solver=\"saga\")"
   ]
  },
  {
   "cell_type": "code",
   "execution_count": 103,
   "metadata": {},
   "outputs": [],
   "source": [
    "#Define a parameters grip for cross validation\n",
    "para_grid = {\"C\": [0.01,0.1,0.5,1,5,10,100], \\\n",
    "            \"l1_ratio\":[0.2, 0.4, 0.6, 0.8]}"
   ]
  },
  {
   "cell_type": "code",
   "execution_count": 104,
   "metadata": {
    "scrolled": true
   },
   "outputs": [
    {
     "name": "stderr",
     "output_type": "stream",
     "text": [
      "/opt/conda/lib/python3.6/site-packages/sklearn/linear_model/sag.py:337: ConvergenceWarning: The max_iter was reached which means the coef_ did not converge\n",
      "  \"the coef_ did not converge\", ConvergenceWarning)\n",
      "/opt/conda/lib/python3.6/site-packages/sklearn/linear_model/sag.py:337: ConvergenceWarning: The max_iter was reached which means the coef_ did not converge\n",
      "  \"the coef_ did not converge\", ConvergenceWarning)\n",
      "/opt/conda/lib/python3.6/site-packages/sklearn/linear_model/sag.py:337: ConvergenceWarning: The max_iter was reached which means the coef_ did not converge\n",
      "  \"the coef_ did not converge\", ConvergenceWarning)\n",
      "/opt/conda/lib/python3.6/site-packages/sklearn/linear_model/sag.py:337: ConvergenceWarning: The max_iter was reached which means the coef_ did not converge\n",
      "  \"the coef_ did not converge\", ConvergenceWarning)\n",
      "/opt/conda/lib/python3.6/site-packages/sklearn/linear_model/sag.py:337: ConvergenceWarning: The max_iter was reached which means the coef_ did not converge\n",
      "  \"the coef_ did not converge\", ConvergenceWarning)\n",
      "/opt/conda/lib/python3.6/site-packages/sklearn/linear_model/sag.py:337: ConvergenceWarning: The max_iter was reached which means the coef_ did not converge\n",
      "  \"the coef_ did not converge\", ConvergenceWarning)\n",
      "/opt/conda/lib/python3.6/site-packages/sklearn/linear_model/sag.py:337: ConvergenceWarning: The max_iter was reached which means the coef_ did not converge\n",
      "  \"the coef_ did not converge\", ConvergenceWarning)\n",
      "/opt/conda/lib/python3.6/site-packages/sklearn/linear_model/sag.py:337: ConvergenceWarning: The max_iter was reached which means the coef_ did not converge\n",
      "  \"the coef_ did not converge\", ConvergenceWarning)\n",
      "/opt/conda/lib/python3.6/site-packages/sklearn/linear_model/sag.py:337: ConvergenceWarning: The max_iter was reached which means the coef_ did not converge\n",
      "  \"the coef_ did not converge\", ConvergenceWarning)\n",
      "/opt/conda/lib/python3.6/site-packages/sklearn/linear_model/sag.py:337: ConvergenceWarning: The max_iter was reached which means the coef_ did not converge\n",
      "  \"the coef_ did not converge\", ConvergenceWarning)\n",
      "/opt/conda/lib/python3.6/site-packages/sklearn/linear_model/sag.py:337: ConvergenceWarning: The max_iter was reached which means the coef_ did not converge\n",
      "  \"the coef_ did not converge\", ConvergenceWarning)\n",
      "/opt/conda/lib/python3.6/site-packages/sklearn/linear_model/sag.py:337: ConvergenceWarning: The max_iter was reached which means the coef_ did not converge\n",
      "  \"the coef_ did not converge\", ConvergenceWarning)\n",
      "/opt/conda/lib/python3.6/site-packages/sklearn/linear_model/sag.py:337: ConvergenceWarning: The max_iter was reached which means the coef_ did not converge\n",
      "  \"the coef_ did not converge\", ConvergenceWarning)\n",
      "/opt/conda/lib/python3.6/site-packages/sklearn/linear_model/sag.py:337: ConvergenceWarning: The max_iter was reached which means the coef_ did not converge\n",
      "  \"the coef_ did not converge\", ConvergenceWarning)\n",
      "/opt/conda/lib/python3.6/site-packages/sklearn/linear_model/sag.py:337: ConvergenceWarning: The max_iter was reached which means the coef_ did not converge\n",
      "  \"the coef_ did not converge\", ConvergenceWarning)\n",
      "/opt/conda/lib/python3.6/site-packages/sklearn/linear_model/sag.py:337: ConvergenceWarning: The max_iter was reached which means the coef_ did not converge\n",
      "  \"the coef_ did not converge\", ConvergenceWarning)\n",
      "/opt/conda/lib/python3.6/site-packages/sklearn/linear_model/sag.py:337: ConvergenceWarning: The max_iter was reached which means the coef_ did not converge\n",
      "  \"the coef_ did not converge\", ConvergenceWarning)\n",
      "/opt/conda/lib/python3.6/site-packages/sklearn/linear_model/sag.py:337: ConvergenceWarning: The max_iter was reached which means the coef_ did not converge\n",
      "  \"the coef_ did not converge\", ConvergenceWarning)\n",
      "/opt/conda/lib/python3.6/site-packages/sklearn/linear_model/sag.py:337: ConvergenceWarning: The max_iter was reached which means the coef_ did not converge\n",
      "  \"the coef_ did not converge\", ConvergenceWarning)\n",
      "/opt/conda/lib/python3.6/site-packages/sklearn/linear_model/sag.py:337: ConvergenceWarning: The max_iter was reached which means the coef_ did not converge\n",
      "  \"the coef_ did not converge\", ConvergenceWarning)\n",
      "/opt/conda/lib/python3.6/site-packages/sklearn/linear_model/sag.py:337: ConvergenceWarning: The max_iter was reached which means the coef_ did not converge\n",
      "  \"the coef_ did not converge\", ConvergenceWarning)\n",
      "/opt/conda/lib/python3.6/site-packages/sklearn/linear_model/sag.py:337: ConvergenceWarning: The max_iter was reached which means the coef_ did not converge\n",
      "  \"the coef_ did not converge\", ConvergenceWarning)\n",
      "/opt/conda/lib/python3.6/site-packages/sklearn/linear_model/sag.py:337: ConvergenceWarning: The max_iter was reached which means the coef_ did not converge\n",
      "  \"the coef_ did not converge\", ConvergenceWarning)\n",
      "/opt/conda/lib/python3.6/site-packages/sklearn/linear_model/sag.py:337: ConvergenceWarning: The max_iter was reached which means the coef_ did not converge\n",
      "  \"the coef_ did not converge\", ConvergenceWarning)\n",
      "/opt/conda/lib/python3.6/site-packages/sklearn/linear_model/sag.py:337: ConvergenceWarning: The max_iter was reached which means the coef_ did not converge\n",
      "  \"the coef_ did not converge\", ConvergenceWarning)\n",
      "/opt/conda/lib/python3.6/site-packages/sklearn/linear_model/sag.py:337: ConvergenceWarning: The max_iter was reached which means the coef_ did not converge\n",
      "  \"the coef_ did not converge\", ConvergenceWarning)\n",
      "/opt/conda/lib/python3.6/site-packages/sklearn/linear_model/sag.py:337: ConvergenceWarning: The max_iter was reached which means the coef_ did not converge\n",
      "  \"the coef_ did not converge\", ConvergenceWarning)\n",
      "/opt/conda/lib/python3.6/site-packages/sklearn/linear_model/sag.py:337: ConvergenceWarning: The max_iter was reached which means the coef_ did not converge\n",
      "  \"the coef_ did not converge\", ConvergenceWarning)\n",
      "/opt/conda/lib/python3.6/site-packages/sklearn/linear_model/sag.py:337: ConvergenceWarning: The max_iter was reached which means the coef_ did not converge\n",
      "  \"the coef_ did not converge\", ConvergenceWarning)\n",
      "/opt/conda/lib/python3.6/site-packages/sklearn/linear_model/sag.py:337: ConvergenceWarning: The max_iter was reached which means the coef_ did not converge\n",
      "  \"the coef_ did not converge\", ConvergenceWarning)\n",
      "/opt/conda/lib/python3.6/site-packages/sklearn/linear_model/sag.py:337: ConvergenceWarning: The max_iter was reached which means the coef_ did not converge\n",
      "  \"the coef_ did not converge\", ConvergenceWarning)\n",
      "/opt/conda/lib/python3.6/site-packages/sklearn/linear_model/sag.py:337: ConvergenceWarning: The max_iter was reached which means the coef_ did not converge\n",
      "  \"the coef_ did not converge\", ConvergenceWarning)\n",
      "/opt/conda/lib/python3.6/site-packages/sklearn/linear_model/sag.py:337: ConvergenceWarning: The max_iter was reached which means the coef_ did not converge\n",
      "  \"the coef_ did not converge\", ConvergenceWarning)\n",
      "/opt/conda/lib/python3.6/site-packages/sklearn/linear_model/sag.py:337: ConvergenceWarning: The max_iter was reached which means the coef_ did not converge\n",
      "  \"the coef_ did not converge\", ConvergenceWarning)\n",
      "/opt/conda/lib/python3.6/site-packages/sklearn/linear_model/sag.py:337: ConvergenceWarning: The max_iter was reached which means the coef_ did not converge\n",
      "  \"the coef_ did not converge\", ConvergenceWarning)\n",
      "/opt/conda/lib/python3.6/site-packages/sklearn/linear_model/sag.py:337: ConvergenceWarning: The max_iter was reached which means the coef_ did not converge\n",
      "  \"the coef_ did not converge\", ConvergenceWarning)\n",
      "/opt/conda/lib/python3.6/site-packages/sklearn/linear_model/sag.py:337: ConvergenceWarning: The max_iter was reached which means the coef_ did not converge\n",
      "  \"the coef_ did not converge\", ConvergenceWarning)\n",
      "/opt/conda/lib/python3.6/site-packages/sklearn/linear_model/sag.py:337: ConvergenceWarning: The max_iter was reached which means the coef_ did not converge\n",
      "  \"the coef_ did not converge\", ConvergenceWarning)\n",
      "/opt/conda/lib/python3.6/site-packages/sklearn/linear_model/sag.py:337: ConvergenceWarning: The max_iter was reached which means the coef_ did not converge\n",
      "  \"the coef_ did not converge\", ConvergenceWarning)\n",
      "/opt/conda/lib/python3.6/site-packages/sklearn/linear_model/sag.py:337: ConvergenceWarning: The max_iter was reached which means the coef_ did not converge\n",
      "  \"the coef_ did not converge\", ConvergenceWarning)\n"
     ]
    },
    {
     "name": "stderr",
     "output_type": "stream",
     "text": [
      "/opt/conda/lib/python3.6/site-packages/sklearn/linear_model/sag.py:337: ConvergenceWarning: The max_iter was reached which means the coef_ did not converge\n",
      "  \"the coef_ did not converge\", ConvergenceWarning)\n",
      "/opt/conda/lib/python3.6/site-packages/sklearn/linear_model/sag.py:337: ConvergenceWarning: The max_iter was reached which means the coef_ did not converge\n",
      "  \"the coef_ did not converge\", ConvergenceWarning)\n",
      "/opt/conda/lib/python3.6/site-packages/sklearn/linear_model/sag.py:337: ConvergenceWarning: The max_iter was reached which means the coef_ did not converge\n",
      "  \"the coef_ did not converge\", ConvergenceWarning)\n",
      "/opt/conda/lib/python3.6/site-packages/sklearn/linear_model/sag.py:337: ConvergenceWarning: The max_iter was reached which means the coef_ did not converge\n",
      "  \"the coef_ did not converge\", ConvergenceWarning)\n",
      "/opt/conda/lib/python3.6/site-packages/sklearn/linear_model/sag.py:337: ConvergenceWarning: The max_iter was reached which means the coef_ did not converge\n",
      "  \"the coef_ did not converge\", ConvergenceWarning)\n",
      "/opt/conda/lib/python3.6/site-packages/sklearn/linear_model/sag.py:337: ConvergenceWarning: The max_iter was reached which means the coef_ did not converge\n",
      "  \"the coef_ did not converge\", ConvergenceWarning)\n",
      "/opt/conda/lib/python3.6/site-packages/sklearn/linear_model/sag.py:337: ConvergenceWarning: The max_iter was reached which means the coef_ did not converge\n",
      "  \"the coef_ did not converge\", ConvergenceWarning)\n",
      "/opt/conda/lib/python3.6/site-packages/sklearn/linear_model/sag.py:337: ConvergenceWarning: The max_iter was reached which means the coef_ did not converge\n",
      "  \"the coef_ did not converge\", ConvergenceWarning)\n",
      "/opt/conda/lib/python3.6/site-packages/sklearn/linear_model/sag.py:337: ConvergenceWarning: The max_iter was reached which means the coef_ did not converge\n",
      "  \"the coef_ did not converge\", ConvergenceWarning)\n",
      "/opt/conda/lib/python3.6/site-packages/sklearn/linear_model/sag.py:337: ConvergenceWarning: The max_iter was reached which means the coef_ did not converge\n",
      "  \"the coef_ did not converge\", ConvergenceWarning)\n",
      "/opt/conda/lib/python3.6/site-packages/sklearn/linear_model/sag.py:337: ConvergenceWarning: The max_iter was reached which means the coef_ did not converge\n",
      "  \"the coef_ did not converge\", ConvergenceWarning)\n",
      "/opt/conda/lib/python3.6/site-packages/sklearn/linear_model/sag.py:337: ConvergenceWarning: The max_iter was reached which means the coef_ did not converge\n",
      "  \"the coef_ did not converge\", ConvergenceWarning)\n",
      "/opt/conda/lib/python3.6/site-packages/sklearn/linear_model/sag.py:337: ConvergenceWarning: The max_iter was reached which means the coef_ did not converge\n",
      "  \"the coef_ did not converge\", ConvergenceWarning)\n",
      "/opt/conda/lib/python3.6/site-packages/sklearn/linear_model/sag.py:337: ConvergenceWarning: The max_iter was reached which means the coef_ did not converge\n",
      "  \"the coef_ did not converge\", ConvergenceWarning)\n",
      "/opt/conda/lib/python3.6/site-packages/sklearn/linear_model/sag.py:337: ConvergenceWarning: The max_iter was reached which means the coef_ did not converge\n",
      "  \"the coef_ did not converge\", ConvergenceWarning)\n",
      "/opt/conda/lib/python3.6/site-packages/sklearn/linear_model/sag.py:337: ConvergenceWarning: The max_iter was reached which means the coef_ did not converge\n",
      "  \"the coef_ did not converge\", ConvergenceWarning)\n",
      "/opt/conda/lib/python3.6/site-packages/sklearn/linear_model/sag.py:337: ConvergenceWarning: The max_iter was reached which means the coef_ did not converge\n",
      "  \"the coef_ did not converge\", ConvergenceWarning)\n",
      "/opt/conda/lib/python3.6/site-packages/sklearn/linear_model/sag.py:337: ConvergenceWarning: The max_iter was reached which means the coef_ did not converge\n",
      "  \"the coef_ did not converge\", ConvergenceWarning)\n",
      "/opt/conda/lib/python3.6/site-packages/sklearn/linear_model/sag.py:337: ConvergenceWarning: The max_iter was reached which means the coef_ did not converge\n",
      "  \"the coef_ did not converge\", ConvergenceWarning)\n",
      "/opt/conda/lib/python3.6/site-packages/sklearn/linear_model/sag.py:337: ConvergenceWarning: The max_iter was reached which means the coef_ did not converge\n",
      "  \"the coef_ did not converge\", ConvergenceWarning)\n",
      "/opt/conda/lib/python3.6/site-packages/sklearn/linear_model/sag.py:337: ConvergenceWarning: The max_iter was reached which means the coef_ did not converge\n",
      "  \"the coef_ did not converge\", ConvergenceWarning)\n",
      "/opt/conda/lib/python3.6/site-packages/sklearn/linear_model/sag.py:337: ConvergenceWarning: The max_iter was reached which means the coef_ did not converge\n",
      "  \"the coef_ did not converge\", ConvergenceWarning)\n",
      "/opt/conda/lib/python3.6/site-packages/sklearn/linear_model/sag.py:337: ConvergenceWarning: The max_iter was reached which means the coef_ did not converge\n",
      "  \"the coef_ did not converge\", ConvergenceWarning)\n",
      "/opt/conda/lib/python3.6/site-packages/sklearn/linear_model/sag.py:337: ConvergenceWarning: The max_iter was reached which means the coef_ did not converge\n",
      "  \"the coef_ did not converge\", ConvergenceWarning)\n",
      "/opt/conda/lib/python3.6/site-packages/sklearn/linear_model/sag.py:337: ConvergenceWarning: The max_iter was reached which means the coef_ did not converge\n",
      "  \"the coef_ did not converge\", ConvergenceWarning)\n",
      "/opt/conda/lib/python3.6/site-packages/sklearn/linear_model/sag.py:337: ConvergenceWarning: The max_iter was reached which means the coef_ did not converge\n",
      "  \"the coef_ did not converge\", ConvergenceWarning)\n",
      "/opt/conda/lib/python3.6/site-packages/sklearn/linear_model/sag.py:337: ConvergenceWarning: The max_iter was reached which means the coef_ did not converge\n",
      "  \"the coef_ did not converge\", ConvergenceWarning)\n",
      "/opt/conda/lib/python3.6/site-packages/sklearn/linear_model/sag.py:337: ConvergenceWarning: The max_iter was reached which means the coef_ did not converge\n",
      "  \"the coef_ did not converge\", ConvergenceWarning)\n",
      "/opt/conda/lib/python3.6/site-packages/sklearn/linear_model/sag.py:337: ConvergenceWarning: The max_iter was reached which means the coef_ did not converge\n",
      "  \"the coef_ did not converge\", ConvergenceWarning)\n",
      "/opt/conda/lib/python3.6/site-packages/sklearn/linear_model/sag.py:337: ConvergenceWarning: The max_iter was reached which means the coef_ did not converge\n",
      "  \"the coef_ did not converge\", ConvergenceWarning)\n",
      "/opt/conda/lib/python3.6/site-packages/sklearn/linear_model/sag.py:337: ConvergenceWarning: The max_iter was reached which means the coef_ did not converge\n",
      "  \"the coef_ did not converge\", ConvergenceWarning)\n",
      "/opt/conda/lib/python3.6/site-packages/sklearn/linear_model/sag.py:337: ConvergenceWarning: The max_iter was reached which means the coef_ did not converge\n",
      "  \"the coef_ did not converge\", ConvergenceWarning)\n",
      "/opt/conda/lib/python3.6/site-packages/sklearn/linear_model/sag.py:337: ConvergenceWarning: The max_iter was reached which means the coef_ did not converge\n",
      "  \"the coef_ did not converge\", ConvergenceWarning)\n",
      "/opt/conda/lib/python3.6/site-packages/sklearn/linear_model/sag.py:337: ConvergenceWarning: The max_iter was reached which means the coef_ did not converge\n",
      "  \"the coef_ did not converge\", ConvergenceWarning)\n",
      "/opt/conda/lib/python3.6/site-packages/sklearn/linear_model/sag.py:337: ConvergenceWarning: The max_iter was reached which means the coef_ did not converge\n",
      "  \"the coef_ did not converge\", ConvergenceWarning)\n",
      "/opt/conda/lib/python3.6/site-packages/sklearn/linear_model/sag.py:337: ConvergenceWarning: The max_iter was reached which means the coef_ did not converge\n",
      "  \"the coef_ did not converge\", ConvergenceWarning)\n",
      "/opt/conda/lib/python3.6/site-packages/sklearn/linear_model/sag.py:337: ConvergenceWarning: The max_iter was reached which means the coef_ did not converge\n",
      "  \"the coef_ did not converge\", ConvergenceWarning)\n",
      "/opt/conda/lib/python3.6/site-packages/sklearn/linear_model/sag.py:337: ConvergenceWarning: The max_iter was reached which means the coef_ did not converge\n",
      "  \"the coef_ did not converge\", ConvergenceWarning)\n",
      "/opt/conda/lib/python3.6/site-packages/sklearn/linear_model/sag.py:337: ConvergenceWarning: The max_iter was reached which means the coef_ did not converge\n",
      "  \"the coef_ did not converge\", ConvergenceWarning)\n",
      "/opt/conda/lib/python3.6/site-packages/sklearn/linear_model/sag.py:337: ConvergenceWarning: The max_iter was reached which means the coef_ did not converge\n",
      "  \"the coef_ did not converge\", ConvergenceWarning)\n"
     ]
    },
    {
     "name": "stderr",
     "output_type": "stream",
     "text": [
      "/opt/conda/lib/python3.6/site-packages/sklearn/linear_model/sag.py:337: ConvergenceWarning: The max_iter was reached which means the coef_ did not converge\n",
      "  \"the coef_ did not converge\", ConvergenceWarning)\n",
      "/opt/conda/lib/python3.6/site-packages/sklearn/linear_model/sag.py:337: ConvergenceWarning: The max_iter was reached which means the coef_ did not converge\n",
      "  \"the coef_ did not converge\", ConvergenceWarning)\n",
      "/opt/conda/lib/python3.6/site-packages/sklearn/linear_model/sag.py:337: ConvergenceWarning: The max_iter was reached which means the coef_ did not converge\n",
      "  \"the coef_ did not converge\", ConvergenceWarning)\n",
      "/opt/conda/lib/python3.6/site-packages/sklearn/linear_model/sag.py:337: ConvergenceWarning: The max_iter was reached which means the coef_ did not converge\n",
      "  \"the coef_ did not converge\", ConvergenceWarning)\n",
      "/opt/conda/lib/python3.6/site-packages/sklearn/linear_model/sag.py:337: ConvergenceWarning: The max_iter was reached which means the coef_ did not converge\n",
      "  \"the coef_ did not converge\", ConvergenceWarning)\n",
      "/opt/conda/lib/python3.6/site-packages/sklearn/linear_model/sag.py:337: ConvergenceWarning: The max_iter was reached which means the coef_ did not converge\n",
      "  \"the coef_ did not converge\", ConvergenceWarning)\n",
      "/opt/conda/lib/python3.6/site-packages/sklearn/linear_model/sag.py:337: ConvergenceWarning: The max_iter was reached which means the coef_ did not converge\n",
      "  \"the coef_ did not converge\", ConvergenceWarning)\n",
      "/opt/conda/lib/python3.6/site-packages/sklearn/linear_model/sag.py:337: ConvergenceWarning: The max_iter was reached which means the coef_ did not converge\n",
      "  \"the coef_ did not converge\", ConvergenceWarning)\n",
      "/opt/conda/lib/python3.6/site-packages/sklearn/linear_model/sag.py:337: ConvergenceWarning: The max_iter was reached which means the coef_ did not converge\n",
      "  \"the coef_ did not converge\", ConvergenceWarning)\n",
      "/opt/conda/lib/python3.6/site-packages/sklearn/linear_model/sag.py:337: ConvergenceWarning: The max_iter was reached which means the coef_ did not converge\n",
      "  \"the coef_ did not converge\", ConvergenceWarning)\n",
      "/opt/conda/lib/python3.6/site-packages/sklearn/linear_model/sag.py:337: ConvergenceWarning: The max_iter was reached which means the coef_ did not converge\n",
      "  \"the coef_ did not converge\", ConvergenceWarning)\n",
      "/opt/conda/lib/python3.6/site-packages/sklearn/linear_model/sag.py:337: ConvergenceWarning: The max_iter was reached which means the coef_ did not converge\n",
      "  \"the coef_ did not converge\", ConvergenceWarning)\n",
      "/opt/conda/lib/python3.6/site-packages/sklearn/linear_model/sag.py:337: ConvergenceWarning: The max_iter was reached which means the coef_ did not converge\n",
      "  \"the coef_ did not converge\", ConvergenceWarning)\n",
      "/opt/conda/lib/python3.6/site-packages/sklearn/linear_model/sag.py:337: ConvergenceWarning: The max_iter was reached which means the coef_ did not converge\n",
      "  \"the coef_ did not converge\", ConvergenceWarning)\n",
      "/opt/conda/lib/python3.6/site-packages/sklearn/linear_model/sag.py:337: ConvergenceWarning: The max_iter was reached which means the coef_ did not converge\n",
      "  \"the coef_ did not converge\", ConvergenceWarning)\n",
      "/opt/conda/lib/python3.6/site-packages/sklearn/linear_model/sag.py:337: ConvergenceWarning: The max_iter was reached which means the coef_ did not converge\n",
      "  \"the coef_ did not converge\", ConvergenceWarning)\n",
      "/opt/conda/lib/python3.6/site-packages/sklearn/linear_model/sag.py:337: ConvergenceWarning: The max_iter was reached which means the coef_ did not converge\n",
      "  \"the coef_ did not converge\", ConvergenceWarning)\n",
      "/opt/conda/lib/python3.6/site-packages/sklearn/linear_model/sag.py:337: ConvergenceWarning: The max_iter was reached which means the coef_ did not converge\n",
      "  \"the coef_ did not converge\", ConvergenceWarning)\n",
      "/opt/conda/lib/python3.6/site-packages/sklearn/linear_model/sag.py:337: ConvergenceWarning: The max_iter was reached which means the coef_ did not converge\n",
      "  \"the coef_ did not converge\", ConvergenceWarning)\n",
      "/opt/conda/lib/python3.6/site-packages/sklearn/linear_model/sag.py:337: ConvergenceWarning: The max_iter was reached which means the coef_ did not converge\n",
      "  \"the coef_ did not converge\", ConvergenceWarning)\n",
      "/opt/conda/lib/python3.6/site-packages/sklearn/linear_model/sag.py:337: ConvergenceWarning: The max_iter was reached which means the coef_ did not converge\n",
      "  \"the coef_ did not converge\", ConvergenceWarning)\n",
      "/opt/conda/lib/python3.6/site-packages/sklearn/linear_model/sag.py:337: ConvergenceWarning: The max_iter was reached which means the coef_ did not converge\n",
      "  \"the coef_ did not converge\", ConvergenceWarning)\n",
      "/opt/conda/lib/python3.6/site-packages/sklearn/linear_model/sag.py:337: ConvergenceWarning: The max_iter was reached which means the coef_ did not converge\n",
      "  \"the coef_ did not converge\", ConvergenceWarning)\n",
      "/opt/conda/lib/python3.6/site-packages/sklearn/linear_model/sag.py:337: ConvergenceWarning: The max_iter was reached which means the coef_ did not converge\n",
      "  \"the coef_ did not converge\", ConvergenceWarning)\n",
      "/opt/conda/lib/python3.6/site-packages/sklearn/linear_model/sag.py:337: ConvergenceWarning: The max_iter was reached which means the coef_ did not converge\n",
      "  \"the coef_ did not converge\", ConvergenceWarning)\n",
      "/opt/conda/lib/python3.6/site-packages/sklearn/linear_model/sag.py:337: ConvergenceWarning: The max_iter was reached which means the coef_ did not converge\n",
      "  \"the coef_ did not converge\", ConvergenceWarning)\n",
      "/opt/conda/lib/python3.6/site-packages/sklearn/linear_model/sag.py:337: ConvergenceWarning: The max_iter was reached which means the coef_ did not converge\n",
      "  \"the coef_ did not converge\", ConvergenceWarning)\n",
      "/opt/conda/lib/python3.6/site-packages/sklearn/linear_model/sag.py:337: ConvergenceWarning: The max_iter was reached which means the coef_ did not converge\n",
      "  \"the coef_ did not converge\", ConvergenceWarning)\n",
      "/opt/conda/lib/python3.6/site-packages/sklearn/linear_model/sag.py:337: ConvergenceWarning: The max_iter was reached which means the coef_ did not converge\n",
      "  \"the coef_ did not converge\", ConvergenceWarning)\n",
      "/opt/conda/lib/python3.6/site-packages/sklearn/linear_model/sag.py:337: ConvergenceWarning: The max_iter was reached which means the coef_ did not converge\n",
      "  \"the coef_ did not converge\", ConvergenceWarning)\n",
      "/opt/conda/lib/python3.6/site-packages/sklearn/linear_model/sag.py:337: ConvergenceWarning: The max_iter was reached which means the coef_ did not converge\n",
      "  \"the coef_ did not converge\", ConvergenceWarning)\n",
      "/opt/conda/lib/python3.6/site-packages/sklearn/linear_model/sag.py:337: ConvergenceWarning: The max_iter was reached which means the coef_ did not converge\n",
      "  \"the coef_ did not converge\", ConvergenceWarning)\n",
      "/opt/conda/lib/python3.6/site-packages/sklearn/model_selection/_search.py:813: DeprecationWarning: The default of the `iid` parameter will change from True to False in version 0.22 and will be removed in 0.24. This will change numeric results when test-set sizes are unequal.\n",
      "  DeprecationWarning)\n",
      "/opt/conda/lib/python3.6/site-packages/sklearn/linear_model/sag.py:337: ConvergenceWarning: The max_iter was reached which means the coef_ did not converge\n",
      "  \"the coef_ did not converge\", ConvergenceWarning)\n"
     ]
    },
    {
     "data": {
      "text/plain": [
       "GridSearchCV(cv=4, error_score='raise-deprecating',\n",
       "             estimator=LogisticRegression(C=1.0, class_weight='balanced',\n",
       "                                          dual=False, fit_intercept=True,\n",
       "                                          intercept_scaling=1, l1_ratio=None,\n",
       "                                          max_iter=100, multi_class='warn',\n",
       "                                          n_jobs=None, penalty='elasticnet',\n",
       "                                          random_state=None, solver='saga',\n",
       "                                          tol=0.001, verbose=0,\n",
       "                                          warm_start=False),\n",
       "             iid='warn', n_jobs=None,\n",
       "             param_grid={'C': [0.01, 0.1, 0.5, 1, 5, 10, 100],\n",
       "                         'l1_ratio': [0.2, 0.4, 0.6, 0.8]},\n",
       "             pre_dispatch='2*n_jobs', refit=True, return_train_score=False,\n",
       "             scoring=None, verbose=0)"
      ]
     },
     "execution_count": 104,
     "metadata": {},
     "output_type": "execute_result"
    }
   ],
   "source": [
    "#4-fold cross validation\n",
    "elasticnet_cv = GridSearchCV(elasticnet, para_grid, cv=4)\n",
    "elasticnet_cv.fit(X_tr, Y_tr)"
   ]
  },
  {
   "cell_type": "code",
   "execution_count": 105,
   "metadata": {},
   "outputs": [
    {
     "data": {
      "text/plain": [
       "({'C': 0.1, 'l1_ratio': 0.2}, 0.7729990036532713)"
      ]
     },
     "execution_count": 105,
     "metadata": {},
     "output_type": "execute_result"
    }
   ],
   "source": [
    "find_best(elasticnet_cv)"
   ]
  },
  {
   "cell_type": "markdown",
   "metadata": {},
   "source": [
    "## Random Forest"
   ]
  },
  {
   "cell_type": "code",
   "execution_count": 106,
   "metadata": {},
   "outputs": [],
   "source": [
    "from sklearn.ensemble import RandomForestClassifier\n",
    "\n",
    "rf = RandomForestClassifier( class_weight=\"balanced\")"
   ]
  },
  {
   "cell_type": "code",
   "execution_count": 107,
   "metadata": {},
   "outputs": [],
   "source": [
    "#Define a parameters grip for cross validation\n",
    "para_grid = {\"max_depth\": [5,8,10,15,30], \\\n",
    "             \"n_estimators\":[20,30], \\\n",
    "            \"min_samples_split\":[2,8,20]}"
   ]
  },
  {
   "cell_type": "code",
   "execution_count": 108,
   "metadata": {},
   "outputs": [
    {
     "data": {
      "text/plain": [
       "GridSearchCV(cv=4, error_score='raise-deprecating',\n",
       "             estimator=RandomForestClassifier(bootstrap=True,\n",
       "                                              class_weight='balanced',\n",
       "                                              criterion='gini', max_depth=None,\n",
       "                                              max_features='auto',\n",
       "                                              max_leaf_nodes=None,\n",
       "                                              min_impurity_decrease=0.0,\n",
       "                                              min_impurity_split=None,\n",
       "                                              min_samples_leaf=1,\n",
       "                                              min_samples_split=2,\n",
       "                                              min_weight_fraction_leaf=0.0,\n",
       "                                              n_estimators='warn', n_jobs=None,\n",
       "                                              oob_score=False,\n",
       "                                              random_state=None, verbose=0,\n",
       "                                              warm_start=False),\n",
       "             iid='warn', n_jobs=None,\n",
       "             param_grid={'max_depth': [5, 8, 10, 15, 30],\n",
       "                         'min_samples_split': [2, 8, 20],\n",
       "                         'n_estimators': [20, 30]},\n",
       "             pre_dispatch='2*n_jobs', refit=True, return_train_score=False,\n",
       "             scoring=None, verbose=0)"
      ]
     },
     "execution_count": 108,
     "metadata": {},
     "output_type": "execute_result"
    }
   ],
   "source": [
    "rf_cv = GridSearchCV(rf, para_grid, cv=4)\n",
    "rf_cv.fit(X_tr, Y_tr)"
   ]
  },
  {
   "cell_type": "code",
   "execution_count": 109,
   "metadata": {},
   "outputs": [
    {
     "data": {
      "text/plain": [
       "({'max_depth': 30, 'min_samples_split': 2, 'n_estimators': 30},\n",
       " 0.962636997675191)"
      ]
     },
     "execution_count": 109,
     "metadata": {},
     "output_type": "execute_result"
    }
   ],
   "source": [
    "find_best(rf_cv)"
   ]
  },
  {
   "cell_type": "markdown",
   "metadata": {},
   "source": [
    "# Prediction against test set"
   ]
  },
  {
   "cell_type": "code",
   "execution_count": 110,
   "metadata": {},
   "outputs": [
    {
     "name": "stderr",
     "output_type": "stream",
     "text": [
      "/opt/conda/lib/python3.6/site-packages/sklearn/linear_model/sag.py:337: ConvergenceWarning: The max_iter was reached which means the coef_ did not converge\n",
      "  \"the coef_ did not converge\", ConvergenceWarning)\n"
     ]
    },
    {
     "data": {
      "text/plain": [
       "RandomForestClassifier(bootstrap=True, class_weight='balanced',\n",
       "                       criterion='gini', max_depth=30, max_features='auto',\n",
       "                       max_leaf_nodes=None, min_impurity_decrease=0.0,\n",
       "                       min_impurity_split=None, min_samples_leaf=1,\n",
       "                       min_samples_split=2, min_weight_fraction_leaf=0.0,\n",
       "                       n_estimators=30, n_jobs=None, oob_score=False,\n",
       "                       random_state=None, verbose=0, warm_start=False)"
      ]
     },
     "execution_count": 110,
     "metadata": {},
     "output_type": "execute_result"
    }
   ],
   "source": [
    "#Get the best logistic model\n",
    "best_lr = LogisticRegression(penalty=\"l2\", class_weight=\"balanced\", tol=0.001, max_iter=100, \\\n",
    "                            C=0.1, solver =\"saga\")\n",
    "best_lr.fit(X_tr, Y_tr)\n",
    "\n",
    "#Get the best random forest \n",
    "best_rf = RandomForestClassifier( class_weight=\"balanced\", max_depth=30, min_samples_split=2, n_estimators=30)\n",
    "best_rf.fit(X_tr, Y_tr)"
   ]
  },
  {
   "cell_type": "code",
   "execution_count": 111,
   "metadata": {},
   "outputs": [],
   "source": [
    "#Make prediction \n",
    "lr_pred = best_lr.predict(X_tst)\n",
    "lr_prob = best_lr.predict_proba(X_tst)\n",
    "\n",
    "rf_pred = best_rf.predict(X_tst)\n",
    "rf_prob = best_rf.predict_proba(X_tst)\n"
   ]
  },
  {
   "cell_type": "markdown",
   "metadata": {},
   "source": [
    "# Look at Metrics: Recall, Precision, AUC"
   ]
  },
  {
   "cell_type": "markdown",
   "metadata": {},
   "source": [
    "### Recall, Precision"
   ]
  },
  {
   "cell_type": "code",
   "execution_count": 112,
   "metadata": {},
   "outputs": [],
   "source": [
    "from sklearn.metrics import recall_score\n",
    "from sklearn.metrics import precision_score"
   ]
  },
  {
   "cell_type": "code",
   "execution_count": 113,
   "metadata": {},
   "outputs": [
    {
     "name": "stderr",
     "output_type": "stream",
     "text": [
      "/opt/conda/lib/python3.6/site-packages/sklearn/metrics/classification.py:1437: UndefinedMetricWarning: Precision is ill-defined and being set to 0.0 due to no predicted samples.\n",
      "  'precision', 'predicted', average, warn_for)\n"
     ]
    }
   ],
   "source": [
    "lr_recall = recall_score(Y_tst, lr_pred)\n",
    "lr_precision = precision_score(Y_tst, lr_pred)\n",
    "\n",
    "rf_recall = recall_score(Y_tst, rf_pred)\n",
    "rf_precision = precision_score(Y_tst, rf_pred)"
   ]
  },
  {
   "cell_type": "code",
   "execution_count": 114,
   "metadata": {},
   "outputs": [
    {
     "data": {
      "text/plain": [
       "[0.7631578947368421, 0.023868312757201648, 0.0, 0.0]"
      ]
     },
     "execution_count": 114,
     "metadata": {},
     "output_type": "execute_result"
    }
   ],
   "source": [
    "[lr_recall, \\\n",
    "lr_precision, \\\n",
    "rf_recall, \\\n",
    "rf_precision]"
   ]
  },
  {
   "cell_type": "markdown",
   "metadata": {},
   "source": [
    "### AUROC"
   ]
  },
  {
   "cell_type": "code",
   "execution_count": 115,
   "metadata": {},
   "outputs": [],
   "source": [
    "def auc(preds, Y_ts):\n",
    "    from sklearn import metrics\n",
    "    #Get the predicted probability\n",
    "    probs = preds[:,1]\n",
    "    #Get fpr, tpr\n",
    "    fpr,tpr, threshold=metrics.roc_curve(Y_ts,probs)\n",
    "    #Get AUC\n",
    "    auc_score=metrics.auc(fpr,tpr)\n",
    "    #Plot the cur curve\n",
    "    plt.plot(fpr, tpr,\"b\")\n",
    "    plt.xlim([0,1])\n",
    "    plt.ylim([0,1])\n",
    "    plt.ylabel(\"tpr\")\n",
    "    plt.xlabel(\"fpr\")\n",
    "    plt.plot([0,1],[0,1],\"--\")\n",
    "    plt.show()\n",
    "    return(auc_score)"
   ]
  },
  {
   "cell_type": "code",
   "execution_count": 116,
   "metadata": {},
   "outputs": [
    {
     "data": {
      "image/png": "[encoded data removed]",
      "text/plain": [
       "<Figure size 432x288 with 1 Axes>"
      ]
     },
     "metadata": {
      "needs_background": "light"
     },
     "output_type": "display_data"
    },
    {
     "data": {
      "image/png": "[encoded data removed]",
      "text/plain": [
       "<Figure size 432x288 with 1 Axes>"
      ]
     },
     "metadata": {
      "needs_background": "light"
     },
     "output_type": "display_data"
    }
   ],
   "source": [
    "rf_auc = auc(rf_prob, Y_tst)\n",
    "lr_auc = auc(lr_prob, Y_tst)"
   ]
  },
  {
   "cell_type": "code",
   "execution_count": 117,
   "metadata": {},
   "outputs": [
    {
     "data": {
      "text/plain": [
       "0.5405940771547397"
      ]
     },
     "execution_count": 117,
     "metadata": {},
     "output_type": "execute_result"
    }
   ],
   "source": [
    "rf_auc"
   ]
  },
  {
   "cell_type": "code",
   "execution_count": 118,
   "metadata": {},
   "outputs": [
    {
     "data": {
      "text/plain": [
       "0.46484655098236055"
      ]
     },
     "execution_count": 118,
     "metadata": {},
     "output_type": "execute_result"
    }
   ],
   "source": [
    "lr_auc"
   ]
  },
  {
   "cell_type": "markdown",
   "metadata": {},
   "source": [
    "# Feature importance"
   ]
  },
  {
   "cell_type": "code",
   "execution_count": 119,
   "metadata": {},
   "outputs": [
    {
     "data": {
      "text/plain": [
       "stars           0.211954\n",
       "avg_polarity    0.211127\n",
       "review_count    0.202200\n",
       "weekly_hours    0.162834\n",
       "is_chain        0.035113\n",
       "phoenix         0.017721\n",
       "price_2         0.017078\n",
       "scottsdale      0.016551\n",
       "mesa            0.016192\n",
       "price_1         0.015868\n",
       "dtype: float64"
      ]
     },
     "execution_count": 119,
     "metadata": {},
     "output_type": "execute_result"
    }
   ],
   "source": [
    "pd.Series(best_rf.feature_importances_, index=X_tr.columns).sort_values( ascending=False).head(10)"
   ]
  },
  {
   "cell_type": "markdown",
   "metadata": {},
   "source": [
    "# Coefficients"
   ]
  },
  {
   "cell_type": "code",
   "execution_count": 120,
   "metadata": {},
   "outputs": [
    {
     "data": {
      "text/plain": [
       "weekly_hours    3.596252\n",
       "price_1         2.623762\n",
       "mesa            2.173223\n",
       "chandler        1.830340\n",
       "price_3         1.437183\n",
       "dtype: float64"
      ]
     },
     "execution_count": 120,
     "metadata": {},
     "output_type": "execute_result"
    }
   ],
   "source": [
    "pd.Series(best_lr.coef_[0], index=X_tr.columns).sort_values( ascending=False).head(5)"
   ]
  },
  {
   "cell_type": "code",
   "execution_count": 121,
   "metadata": {},
   "outputs": [
    {
     "data": {
      "text/plain": [
       "price_None   -1.071846\n",
       "is_chain     -1.098402\n",
       "surprise     -1.227988\n",
       "stars        -1.302634\n",
       "price_2      -1.386580\n",
       "dtype: float64"
      ]
     },
     "execution_count": 121,
     "metadata": {},
     "output_type": "execute_result"
    }
   ],
   "source": [
    "pd.Series(best_lr.coef_[0], index=X_tr.columns).sort_values( ascending=False).tail(5)"
   ]
  },
  {
   "cell_type": "markdown",
   "metadata": {},
   "source": [
    "## Submission\n",
    "\n",
    "You are required to submit two files:\n",
    "\n",
    "1. Submit your completed writeup as a PDF to gradescope.  You should address all of the components described above, adhering to the page limit, and include any figures and tables that are necessary. (Make sure to number figures and tables and include informative captions.)\n",
    "\n",
    "2.  Submit a complete jupyter notebook with all of your analyses to the okpy server.  For your submission, use **this jupyter notebook** as a template (remove the instructions, replacing them with your analysis).  We should be able to reproduce all of your results by running your notebook. \n",
    "\n",
    "Before you submit the notebook, make sure that you select from the top menu `Kernel -> Restart & Clear Output` followed by `Cell -> Run All`. Verify that all computations execute correctly. There should be no errors when we run your notebook. "
   ]
  },
  {
   "cell_type": "code",
   "execution_count": 107,
   "metadata": {},
   "outputs": [
    {
     "name": "stdout",
     "output_type": "stream",
     "text": [
      "=====================================================================\n",
      "Assignment: final-project\n",
      "OK, version v1.14.15\n",
      "=====================================================================\n",
      "\n"
     ]
    },
    {
     "name": "stderr",
     "output_type": "stream",
     "text": [
      "ERROR  | auth.py:102 | {'error': 'invalid_grant'}\n"
     ]
    },
    {
     "name": "stdout",
     "output_type": "stream",
     "text": [
      "\n",
      "Open the following URL:\n",
      "\n",
      "https://okpy.org/client/login/\n",
      "\n",
      "After logging in, copy the code from the web page and paste it into the box.\n",
      "Then press the \"Enter\" key on your keyboard.\n",
      "\n",
      "Paste your code here: 0sGtKvqLB1IRMOevjZRZNvKlgd8eEd\n",
      "Successfully logged in as mchen00@ucsb.edu\n"
     ]
    }
   ],
   "source": [
    "# These lines help load your submission for grading.\n",
    "from client.api.notebook import Notebook\n",
    "ok = Notebook('final-project.ok')\n",
    "_ = ok.auth(inline=True)"
   ]
  },
  {
   "cell_type": "code",
   "execution_count": 108,
   "metadata": {},
   "outputs": [
    {
     "data": {
      "application/javascript": [
       "IPython.notebook.save_checkpoint();"
      ],
      "text/plain": [
       "<IPython.core.display.Javascript object>"
      ]
     },
     "metadata": {},
     "output_type": "display_data"
    },
    {
     "data": {
      "application/javascript": [
       "IPython.notebook.save_notebook();"
      ],
      "text/plain": [
       "<IPython.core.display.Javascript object>"
      ]
     },
     "metadata": {},
     "output_type": "display_data"
    },
    {
     "name": "stdout",
     "output_type": "stream",
     "text": [
      "Saving notebook... Saved 'int15-final-project.ipynb'.\n",
      "Submit... 0.0% complete\n",
      "Could not submit: Late Submission of ucsb/int15/sp19/final_project\n",
      "Backup... 100% complete\n",
      "\n"
     ]
    }
   ],
   "source": [
    "_ = ok.submit()"
   ]
  }
 ],
 "metadata": {
  "kernelspec": {
   "display_name": "Python 3",
   "language": "python",
   "name": "python3"
  },
  "language_info": {
   "codemirror_mode": {
    "name": "ipython",
    "version": 3
   },
   "file_extension": ".py",
   "mimetype": "text/x-python",
   "name": "python",
   "nbconvert_exporter": "python",
   "pygments_lexer": "ipython3",
   "version": "3.6.7"
  }
 },
 "nbformat": 4,
 "nbformat_minor": 2
}
